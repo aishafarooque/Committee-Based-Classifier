{
  "nbformat": 4,
  "nbformat_minor": 0,
  "metadata": {
    "colab": {
      "name": "Ensemble-Model-v2.ipynb",
      "provenance": []
    },
    "kernelspec": {
      "name": "python3",
      "display_name": "Python 3"
    },
    "language_info": {
      "name": "python"
    }
  },
  "cells": [
    {
      "cell_type": "code",
      "execution_count": null,
      "metadata": {
        "id": "qZcp8Yao6JTj"
      },
      "outputs": [],
      "source": [
        "from google.colab import output\n",
        "\n",
        "# Standard Libraries\n",
        "import os\n",
        "import numpy as np \n",
        "import pandas as pd \n",
        "import random as rn\n",
        "import matplotlib.pyplot as plt\n",
        "\n",
        "# NumPy Libraries\n",
        "from numpy import mean\n",
        "from numpy import std\n",
        "\n",
        "# SkLearn Libraries\n",
        "import sklearn\n",
        "from sklearn.utils import check_array\n",
        "from sklearn.datasets import fetch_openml\n",
        "from sklearn import datasets, metrics, svm\n",
        "from sklearn.tree import DecisionTreeClassifier\n",
        "from sklearn.ensemble import StackingClassifier\n",
        "from sklearn.metrics import ConfusionMatrixDisplay\n",
        "from sklearn.linear_model import LogisticRegression\n",
        "from sklearn.model_selection import train_test_split\n",
        "from sklearn.metrics import classification_report, confusion_matrix\n",
        "\n",
        "output.clear()      # clear output"
      ]
    },
    {
      "cell_type": "markdown",
      "source": [
        "## Preprocessing the data"
      ],
      "metadata": {
        "id": "yRW65MY68RX1"
      }
    },
    {
      "cell_type": "code",
      "source": [
        "# Gather data\n",
        "batch_size = 32\n",
        "\n",
        "mnist = fetch_openml('mnist_784')\n",
        "\n",
        "mnist.keys()"
      ],
      "metadata": {
        "colab": {
          "base_uri": "https://localhost:8080/"
        },
        "id": "8DcryebD8TNz",
        "outputId": "45d0aacb-0c2b-4798-b679-c043fbaaafac"
      },
      "execution_count": null,
      "outputs": [
        {
          "output_type": "execute_result",
          "data": {
            "text/plain": [
              "dict_keys(['data', 'target', 'frame', 'categories', 'feature_names', 'target_names', 'DESCR', 'details', 'url'])"
            ]
          },
          "metadata": {},
          "execution_count": 15
        }
      ]
    },
    {
      "cell_type": "code",
      "source": [
        "__training_data , __test_data  = mnist['data'], mnist['target']\n",
        "print ('Shape of __training_data:', __training_data.shape)\n",
        "print ('Shape of __test_data:', __test_data .shape)"
      ],
      "metadata": {
        "colab": {
          "base_uri": "https://localhost:8080/"
        },
        "id": "Y956x5uo8mIX",
        "outputId": "b4eebc30-46ed-470c-980f-a2f5eca8f25d"
      },
      "execution_count": null,
      "outputs": [
        {
          "output_type": "stream",
          "name": "stdout",
          "text": [
            "Shape of __training_data: (70000, 784)\n",
            "Shape of __test_data: (70000,)\n"
          ]
        }
      ]
    },
    {
      "cell_type": "code",
      "source": [
        "TrainingData, TestingData, TrainingTarget, TestingTarget = train_test_split(__training_data, __test_data, test_size=0.2, random_state=1)\n",
        "\n",
        "TrainingData, ValidationData, TrainingTarget, ValidationTarget = train_test_split(TrainingData, TrainingTarget , test_size=0.25, random_state=1) # 0.25 x 0.8 = 0.2\n",
        "\n",
        "print(\"Shape of Training Data: \"     + str(TrainingData.shape))\n",
        "print(\"Shape of Training Target: \"   + str(TrainingTarget.shape))\n",
        "print(\"Shape of Testing Data: \"      + str(TestingData.shape))\n",
        "print(\"Shape of Testing Target: \"    + str(TestingTarget.shape))\n",
        "print(\"Shape of Validation Data: \"   + str(ValidationData.shape))\n",
        "print(\"Shape of Validation Target: \" + str(ValidationTarget.shape))\n"
      ],
      "metadata": {
        "colab": {
          "base_uri": "https://localhost:8080/"
        },
        "id": "uAks2C8z9VGk",
        "outputId": "af4bb90b-e1f9-4cfd-a1d0-da7a96e34cb1"
      },
      "execution_count": null,
      "outputs": [
        {
          "output_type": "stream",
          "name": "stdout",
          "text": [
            "Shape of Training Data: (42000, 784)\n",
            "Shape of Training Target: (42000,)\n",
            "Shape of Testing Data: (14000, 784)\n",
            "Shape of Testing Target: (14000,)\n",
            "Shape of Validation Data: (14000, 784)\n",
            "Shape of Validation Target: (14000,)\n"
          ]
        }
      ]
    },
    {
      "cell_type": "code",
      "source": [
        ""
      ],
      "metadata": {
        "id": "EL9gLiDBCbK6"
      },
      "execution_count": null,
      "outputs": []
    }
  ]
}