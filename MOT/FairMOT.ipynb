{
  "nbformat": 4,
  "nbformat_minor": 0,
  "metadata": {
    "colab": {
      "name": "FairMOT.ipynb",
      "provenance": [],
      "collapsed_sections": [],
      "mount_file_id": "1e3YdY4yMxuHZ7RrbiOI5HvMMEPfMFBcx",
      "authorship_tag": "ABX9TyPL69cWHMu0puF9jBumaQtQ",
      "include_colab_link": true
    },
    "kernelspec": {
      "name": "python3",
      "display_name": "Python 3"
    },
    "language_info": {
      "name": "python"
    },
    "accelerator": "GPU"
  },
  "cells": [
    {
      "cell_type": "markdown",
      "metadata": {
        "id": "view-in-github",
        "colab_type": "text"
      },
      "source": [
        "<a href=\"https://colab.research.google.com/github/aishafarooque/Committee-Based-Classifier/blob/main/MOT/FairMOT.ipynb\" target=\"_parent\"><img src=\"https://colab.research.google.com/assets/colab-badge.svg\" alt=\"Open In Colab\"/></a>"
      ]
    },
    {
      "cell_type": "markdown",
      "source": [
        "### Install conda"
      ],
      "metadata": {
        "id": "YlXTtDKU1iYZ"
      }
    },
    {
      "cell_type": "code",
      "source": [
        "! nvcc --version"
      ],
      "metadata": {
        "colab": {
          "base_uri": "https://localhost:8080/"
        },
        "id": "DKU_IbPH711G",
        "outputId": "d0c2a98d-5631-4ba2-a09d-abce18cbb2aa"
      },
      "execution_count": 1,
      "outputs": [
        {
          "output_type": "stream",
          "name": "stdout",
          "text": [
            "nvcc: NVIDIA (R) Cuda compiler driver\n",
            "Copyright (c) 2005-2020 NVIDIA Corporation\n",
            "Built on Mon_Oct_12_20:09:46_PDT_2020\n",
            "Cuda compilation tools, release 11.1, V11.1.105\n",
            "Build cuda_11.1.TC455_06.29190527_0\n"
          ]
        }
      ]
    },
    {
      "cell_type": "code",
      "source": [
        "! pip install -q condacolab\n",
        "\n",
        "import condacolab\n",
        "condacolab.install()"
      ],
      "metadata": {
        "colab": {
          "base_uri": "https://localhost:8080/"
        },
        "id": "3I9IMdiH1hNo",
        "outputId": "e4743b9e-86ab-40fa-dd8b-d2dff2352ec1"
      },
      "execution_count": 2,
      "outputs": [
        {
          "output_type": "stream",
          "name": "stdout",
          "text": [
            "✨🍰✨ Everything looks OK!\n"
          ]
        }
      ]
    },
    {
      "cell_type": "code",
      "execution_count": 3,
      "metadata": {
        "id": "hBkJsrMz1SO3"
      },
      "outputs": [],
      "source": [
        "# We will use FairMOT from Google Drive, so we can safely skip this part.\n",
        "# ! git clone https://github.com/microsoft/FairMOT.git"
      ]
    },
    {
      "cell_type": "markdown",
      "source": [
        "### Install PyTorch\n",
        "\n",
        "After installing, restart kernel to make sure all requirements are satisfied."
      ],
      "metadata": {
        "id": "_-KUnMAp8-Bc"
      }
    },
    {
      "cell_type": "code",
      "source": [
        "! pip install torch==1.4.0 torchvision==0.5.0"
      ],
      "metadata": {
        "colab": {
          "base_uri": "https://localhost:8080/"
        },
        "id": "Qk4buOzo1Xiy",
        "outputId": "98b7dfa4-3441-44cb-9832-ef5af61480b7"
      },
      "execution_count": 24,
      "outputs": [
        {
          "output_type": "stream",
          "name": "stdout",
          "text": [
            "Requirement already satisfied: torch==1.4.0 in /usr/local/lib/python3.7/site-packages (1.4.0)\n",
            "Requirement already satisfied: torchvision==0.5.0 in /usr/local/lib/python3.7/site-packages (0.5.0)\n",
            "Requirement already satisfied: six in /usr/local/lib/python3.7/site-packages (from torchvision==0.5.0) (1.15.0)\n",
            "Requirement already satisfied: pillow>=4.1.1 in /usr/local/lib/python3.7/site-packages (from torchvision==0.5.0) (6.2.2)\n",
            "Requirement already satisfied: numpy in /usr/local/lib/python3.7/site-packages (from torchvision==0.5.0) (1.21.5)\n"
          ]
        }
      ]
    },
    {
      "cell_type": "markdown",
      "source": [
        "### FairMOT Framework installation"
      ],
      "metadata": {
        "id": "XrdGxHIY9atr"
      }
    },
    {
      "cell_type": "code",
      "source": [
        "! conda create -n FairMOT\n",
        "! activate FairMOT\n",
        "! conda install pytorch==1.2.0 torchvision==0.4.0 cudatoolkit=10.0 -c pytorch"
      ],
      "metadata": {
        "colab": {
          "base_uri": "https://localhost:8080/"
        },
        "id": "LgOM2yCJ882_",
        "outputId": "6383001f-3186-446a-80c2-92e1cec6ae07"
      },
      "execution_count": 29,
      "outputs": [
        {
          "output_type": "stream",
          "name": "stdout",
          "text": [
            "Collecting package metadata (current_repodata.json): - \b\b\\ \b\bdone\n",
            "Solving environment: / \b\bdone\n",
            "\n",
            "## Package Plan ##\n",
            "\n",
            "  environment location: /usr/local/envs/FairMOT\n",
            "\n",
            "\n",
            "\n",
            "Preparing transaction: \\ \b\bdone\n",
            "Verifying transaction: / \b\bdone\n",
            "Executing transaction: \\ \b\bdone\n",
            "#\n",
            "# To activate this environment, use\n",
            "#\n",
            "#     $ conda activate FairMOT\n",
            "#\n",
            "# To deactivate an active environment, use\n",
            "#\n",
            "#     $ conda deactivate\n",
            "\n",
            "Collecting package metadata (current_repodata.json): - \b\b\\ \b\b| \b\b/ \b\b- \b\b\\ \b\b| \b\b/ \b\b- \b\b\\ \b\b| \b\b/ \b\b- \b\b\\ \b\b| \b\b/ \b\b- \b\b\\ \b\b| \b\b/ \b\b- \b\b\\ \b\b| \b\bdone\n",
            "Solving environment: - \b\b\\ \b\b| \b\b/ \b\b- \b\b\\ \b\b| \b\b/ \b\b- \b\b\\ \b\b| WARNING conda.core.solve:_add_specs(649): pinned spec cudatoolkit=11.1 conflicts with explicit specs.  Overriding pinned spec.\n",
            "\b\b/ \b\b- \b\b\\ \b\b| \b\b/ \b\b- \b\b\\ \b\b| \b\b/ \b\bdone\n",
            "\n",
            "# All requested packages already installed.\n",
            "\n"
          ]
        },
        {
          "output_type": "execute_result",
          "data": {
            "text/plain": [
              "1"
            ]
          },
          "metadata": {},
          "execution_count": 29
        }
      ]
    },
    {
      "cell_type": "markdown",
      "source": [
        "Make sure torch is correctly imported:"
      ],
      "metadata": {
        "id": "oewr7skV1THd"
      }
    },
    {
      "cell_type": "code",
      "source": [
        "import torch\n",
        "torch.cuda.device_count() "
      ],
      "metadata": {
        "colab": {
          "base_uri": "https://localhost:8080/"
        },
        "id": "64PEfc1v1V_D",
        "outputId": "fea33f34-49fc-41b4-8158-144f4e2945e4"
      },
      "execution_count": 30,
      "outputs": [
        {
          "output_type": "execute_result",
          "data": {
            "text/plain": [
              "1"
            ]
          },
          "metadata": {},
          "execution_count": 30
        }
      ]
    },
    {
      "cell_type": "code",
      "source": [
        "! pip install cython\n",
        "! pip install cython_bbox"
      ],
      "metadata": {
        "colab": {
          "base_uri": "https://localhost:8080/"
        },
        "id": "YUI4UCHg-pGY",
        "outputId": "0a043a02-6d6d-4686-af1f-52679cb8eb63"
      },
      "execution_count": 6,
      "outputs": [
        {
          "output_type": "stream",
          "name": "stdout",
          "text": [
            "Collecting cython\n",
            "  Downloading Cython-0.29.28-cp37-cp37m-manylinux_2_17_x86_64.manylinux2014_x86_64.manylinux_2_24_x86_64.whl (1.9 MB)\n",
            "\u001b[K     |████████████████████████████████| 1.9 MB 5.2 MB/s \n",
            "\u001b[?25hInstalling collected packages: cython\n",
            "Successfully installed cython-0.29.28\n",
            "Collecting cython_bbox\n",
            "  Downloading cython_bbox-0.1.3.tar.gz (41 kB)\n",
            "\u001b[K     |████████████████████████████████| 41 kB 202 kB/s \n",
            "\u001b[?25hBuilding wheels for collected packages: cython-bbox\n",
            "  Building wheel for cython-bbox (setup.py) ... \u001b[?25l\u001b[?25hdone\n",
            "  Created wheel for cython-bbox: filename=cython_bbox-0.1.3-cp37-cp37m-linux_x86_64.whl size=59390 sha256=24362f692990815b48d1b9e36b822455f2cd1a350f7a91617f8aa4da4640e722\n",
            "  Stored in directory: /root/.cache/pip/wheels/51/82/21/5def8bc98ae4ea436d7f0decb7194d20d7e3e6d0578a4129d7\n",
            "Successfully built cython-bbox\n",
            "Installing collected packages: cython-bbox\n",
            "Successfully installed cython-bbox-0.1.3\n"
          ]
        }
      ]
    },
    {
      "cell_type": "markdown",
      "source": [
        "### Build the FairMOT framework"
      ],
      "metadata": {
        "id": "5Qo8mnR6BJfX"
      }
    },
    {
      "cell_type": "markdown",
      "source": [
        "In order to run the code for demos, you also need to install ffmpeg."
      ],
      "metadata": {
        "id": "rMHECJ_cEXz7"
      }
    },
    {
      "cell_type": "code",
      "source": [
        "! pip install ffmpeg"
      ],
      "metadata": {
        "colab": {
          "base_uri": "https://localhost:8080/"
        },
        "id": "GJoIcS5pEZ-Z",
        "outputId": "ddd2eaf4-17c7-4059-8948-b973885e71e5"
      },
      "execution_count": 8,
      "outputs": [
        {
          "output_type": "stream",
          "name": "stdout",
          "text": [
            "Collecting ffmpeg\n",
            "  Downloading ffmpeg-1.4.tar.gz (5.1 kB)\n",
            "Building wheels for collected packages: ffmpeg\n",
            "  Building wheel for ffmpeg (setup.py) ... \u001b[?25l\u001b[?25hdone\n",
            "  Created wheel for ffmpeg: filename=ffmpeg-1.4-py3-none-any.whl size=6083 sha256=914d30e2bb42c573f5c581c34d3d39aef113ced245a9f834c46d754d1a2bf24e\n",
            "  Stored in directory: /root/.cache/pip/wheels/64/80/6e/caa3e16deb0267c3cbfd36862058a724144e19fdb9eb03af0f\n",
            "Successfully built ffmpeg\n",
            "Installing collected packages: ffmpeg\n",
            "Successfully installed ffmpeg-1.4\n"
          ]
        }
      ]
    },
    {
      "cell_type": "markdown",
      "source": [
        "Make a copy of the FairMOT framework from Google Drive. \n",
        "This one has paths modified to fit Google Colab."
      ],
      "metadata": {
        "id": "xFKQoCI9xCUo"
      }
    },
    {
      "cell_type": "code",
      "source": [
        "# Remove folder if it already exists\n",
        "! rm -rf /content/FairMOT\n",
        "\n",
        "import os\n",
        "import shutil\n",
        "\n",
        "target = \"/content/drive/MyDrive/ds/FairMOT\"\n",
        "destination = \"/content/FairMOT\"\n",
        "\n",
        "shutil.copytree(target, destination)"
      ],
      "metadata": {
        "id": "7p7k8KAObsNk"
      },
      "execution_count": null,
      "outputs": []
    },
    {
      "cell_type": "markdown",
      "source": [
        "Install the requirements of the FairMOT framework."
      ],
      "metadata": {
        "id": "-pv9d_26xLAF"
      }
    },
    {
      "cell_type": "code",
      "source": [
        "! pip install -r /content/FairMOT/requirements.txt"
      ],
      "metadata": {
        "id": "evc7f3dxxVX5"
      },
      "execution_count": null,
      "outputs": []
    },
    {
      "cell_type": "markdown",
      "source": [
        "Build the framework."
      ],
      "metadata": {
        "id": "ouHVJARoxkKL"
      }
    },
    {
      "cell_type": "code",
      "source": [
        "! python /content/FairMOT/src/lib/models/networks/DCNv2/setup.py build develop"
      ],
      "metadata": {
        "colab": {
          "base_uri": "https://localhost:8080/"
        },
        "id": "XILFn2ZL-aNt",
        "outputId": "1a69811f-6c6e-441f-e313-ba02b1455c53"
      },
      "execution_count": 13,
      "outputs": [
        {
          "output_type": "stream",
          "name": "stdout",
          "text": [
            "running build\n",
            "running build_ext\n",
            "running develop\n",
            "running egg_info\n",
            "writing DCNv2.egg-info/PKG-INFO\n",
            "writing dependency_links to DCNv2.egg-info/dependency_links.txt\n",
            "writing top-level names to DCNv2.egg-info/top_level.txt\n",
            "reading manifest file 'DCNv2.egg-info/SOURCES.txt'\n",
            "writing manifest file 'DCNv2.egg-info/SOURCES.txt'\n",
            "running build_ext\n",
            "copying build/lib.linux-x86_64-3.7/_ext.cpython-37m-x86_64-linux-gnu.so -> \n",
            "Creating /usr/local/lib/python3.7/site-packages/DCNv2.egg-link (link to .)\n",
            "DCNv2 0.1 is already the active version in easy-install.pth\n",
            "\n",
            "Installed /content\n",
            "Processing dependencies for DCNv2==0.1\n",
            "Finished processing dependencies for DCNv2==0.1\n"
          ]
        }
      ]
    },
    {
      "cell_type": "markdown",
      "source": [
        "### Get the MOT-16 dataset"
      ],
      "metadata": {
        "id": "hfVYskNekK3_"
      }
    },
    {
      "cell_type": "markdown",
      "source": [
        "If you're not using Google Drive, run the commands below to download mot16.train and mot16.val."
      ],
      "metadata": {
        "id": "PHsiOZUgcmW4"
      }
    },
    {
      "cell_type": "code",
      "source": [
        "# ! wget https://github.com/HardysJin/FairMOT-dlav0/blob/6ed4f409ac1506210006126abc1cc30da76178f6/src/data/mot16.train\n",
        "\n",
        "\n",
        "# target = \"/content/mot16.train\"\n",
        "# destination = \"/content/drive/MyDrive/ds/FairMOT/src/data\"\n",
        "# shutil.move(target, destination)\n"
      ],
      "metadata": {
        "id": "17WwHxe3EbVZ"
      },
      "execution_count": 11,
      "outputs": []
    },
    {
      "cell_type": "code",
      "source": [
        "# ! wget https://github.com/auniquesun/Mono3DMOT/blob/ec80c206fe2ea2e1eb527b2ab9456b1b5218e02b/src/data/my_mot16.val\n",
        "\n",
        "# target = \"/content/my_mot16.val\"\n",
        "# destination = \"/content/drive/MyDrive/ds/FairMOT/src/data/mot16.val\"\n",
        "# shutil.move(target, destination)"
      ],
      "metadata": {
        "id": "wjx0se6Xm5_M"
      },
      "execution_count": 12,
      "outputs": []
    },
    {
      "cell_type": "markdown",
      "source": [
        "Unzip MOT16 training and testing images. Dataset source: https://github.com/Zhongdao/Towards-Realtime-MOT/blob/master/DATASET_ZOO.md"
      ],
      "metadata": {
        "id": "wGUk0Td0ctuF"
      }
    },
    {
      "cell_type": "code",
      "source": [
        "# Unzips MOT images and places them under the /content/ directory.\n",
        "! unzip /content/drive/MyDrive/ds/MOT16.zip"
      ],
      "metadata": {
        "id": "7xOrnmxAn_Gi"
      },
      "execution_count": null,
      "outputs": []
    },
    {
      "cell_type": "markdown",
      "source": [
        "Unzip MOT17 training and testing images.\n",
        "\n",
        "To get the .jpg images: \n",
        "\n",
        "```\n",
        " ! unzip /content/drive/MyDrive/ds/MOT17Det.zip\n",
        "```\n",
        "\n",
        "Otherwise, to get images and bounding box text files from OneDrive (5gb download):"
      ],
      "metadata": {
        "id": "KkpfmmP57FOs"
      }
    },
    {
      "cell_type": "code",
      "source": [
        "! curl 'https://uofh-my.sharepoint.com/personal/akmohamm_cougarnet_uh_edu/_layouts/15/download.aspx?UniqueId=568f6609%2D5e30%2D4b0e%2D890f%2Dc4e3ccd5b639' \\\n",
        "  -H 'Connection: keep-alive' \\\n",
        "  -H 'sec-ch-ua: \" Not A;Brand\";v=\"99\", \"Chromium\";v=\"99\", \"Google Chrome\";v=\"99\"' \\\n",
        "  -H 'sec-ch-ua-mobile: ?0' \\\n",
        "  -H 'sec-ch-ua-platform: \"macOS\"' \\\n",
        "  -H 'Upgrade-Insecure-Requests: 1' \\\n",
        "  -H 'User-Agent: Mozilla/5.0 (Macintosh; Intel Mac OS X 10_15_7) AppleWebKit/537.36 (KHTML, like Gecko) Chrome/99.0.4844.84 Safari/537.36' \\\n",
        "  -H 'Accept: text/html,application/xhtml+xml,application/xml;q=0.9,image/avif,image/webp,image/apng,*/*;q=0.8,application/signed-exchange;v=b3;q=0.9' \\\n",
        "  -H 'Service-Worker-Navigation-Preload: true' \\\n",
        "  -H 'Sec-Fetch-Site: same-origin' \\\n",
        "  -H 'Sec-Fetch-Mode: navigate' \\\n",
        "  -H 'Sec-Fetch-Dest: iframe' \\\n",
        "  -H 'Referer: https://uofh-my.sharepoint.com/personal/akmohamm_cougarnet_uh_edu/_layouts/15/onedrive.aspx?id=%2Fpersonal%2Fakmohamm%5Fcougarnet%5Fuh%5Fedu%2FDocuments%2FAcademics%2FComputer%20Vision%20%2D%20COSC6373%2FProject%2FCommittee%2DBased%2DClassifier' \\\n",
        "  -H 'Accept-Language: en-US,en;q=0.9' \\\n",
        "  -H 'Cookie: MicrosoftApplicationsTelemetryDeviceId=f0f473d0-7537-4d33-afd8-b53d198e5e35; MicrosoftApplicationsTelemetryFirstLaunchTime=2022-04-10T15:27:50.191Z; WordWacDataCenter=PUS6; PowerPointWacDataCenter=PUS6; WacDataCenter=PUS6; KillSwitchOverrides_enableKillSwitches=; KillSwitchOverrides_disableKillSwitches=; rtFa=8FX8+aj3VTXLmx8sHw2txR8tI0eHqkad0KX+rQTGRTwmMTcwQkJBQkQtQTJGMC00QzkwLUFENEItMEU4RjBGMEM0MjU5IzEzMjk0MDc4MDQ0NzQ1OTc4NCMzMTY0MzJBMC1DMDlFLUMwMDAtRDE3Qi1FOERFM0U5QkRFNTYjQUtNT0hBTU0lNDBDT1VHQVJORVQuVUguRURValXNm6xlrJvo01RGTOq7C8sH0iKPxc/Ihap197Pfcj1HLPAlVAkxw65z3SfBFwiofmpnusd6z5h1GH1JFAtELJkF2hOezKQ01YPogBVgy3GnsiUyZv+KdvoirSB1BtTOmLon+NgNmYps6oP9ssoKgI71pMq+Jqj4xrrkKrVjxGjVMUnu5VQZw84q5C/3Fa0E5MYsoM6Z+xMEGMdKel7AUQyPpZjc0H1A2MWEK8J8quGJDALTDGKoORVtD9m9DWWQWl4pK1EgENwKREJKCw/iLeNig13VXi+L2yr5ImSE+AAFlGKL5rN3LToBS0LG8OUi6Wu3qxl4LokzUxZ5qJpwPJkAAAA=; FedAuth=77u/PD94bWwgdmVyc2lvbj0iMS4wIiBlbmNvZGluZz0idXRmLTgiPz48U1A+VjEyLDBoLmZ8bWVtYmVyc2hpcHwxMDAzN2ZmZWE5YWNlODg4QGxpdmUuY29tLDAjLmZ8bWVtYmVyc2hpcHxha21vaGFtbUBjb3VnYXJuZXQudWguZWR1LDEzMjk0MDc4MDI4MDAwMDAwMCwxMzI4MDI1MTQxOTAwMDAwMDAsMTMyOTQxNjQ0NDQ3MTQ3Mzg2LDEwNy4yMTUuMTk5LjEwOCwyLDE3MGJiYWJkLWEyZjAtNGM5MC1hZDRiLTBlOGYwZjBjNDI1OSwsOGU5ODIwNjgtOTJlZC00NmQwLWJhY2EtZjQ0YTUwODIyOTFhLDMxNjQzMmEwLWMwOWUtYzAwMC1kMTdiLWU4ZGUzZTliZGU1NiwzMTY0MzJhMC1jMDllLWMwMDAtZDE3Yi1lOGRlM2U5YmRlNTYsLDAsMTMyOTQxNjQ0NDQ2Njc4NTQxLDEzMjk0MzM3MjQ0NjY3ODU0MSwsLGV5SjRiWE5mWTJNaU9pSmJYQ0pEVURGY0lsMGlMQ0o0YlhOZmMzTnRJam9pTVNJc0luQnlaV1psY25KbFpGOTFjMlZ5Ym1GdFpTSTZJbUZyYlc5b1lXMXRRRU52ZFdkaGNrNWxkQzVWU0M1RlJGVWlMQ0oxZEdraU9pSm5SSGxsZDI4eFZVeEZkVGhuU1ZwMGVUbG9Na0ZSSW4wPSwyNjUwNDY3NzQzOTk5OTk5OTk5LDEzMjk0MDc4MDQ0MDAwMDAwMCxmNDQ1NTMzMS1lMzUxLTRkZWYtYjc0Ni00Yjg0YWM1MmYyZmIsLCwsLCwwLCxtS0FOak8zU0V2dmdNV2NMSGQyM3FKdFNrVW1mcEZRR2JDOVcwTXNMb1FWK1JSVkJ3M3B4TldzNFRsdS9CZlRYNG9NbjR1UTh1c1ZFZURkazNRMW5vNlo5T1hLd0V0eUswbm5DaXUxRzBEc3RmSE1leFVYVHJhUC9DUEVOL2s1QzVyZit4MEJ6Mjg0dUt1bElmN082SlI3Z21JbDNsSVlJVzE4VGlTMVFFeWhZWTFPdzdhTzZ3Kzl6SGJ4dW9qbkVITjZlU3lHZmtBeUgwc2Z5VU9UVmNOZ0NraVcwQklPd0xma0dtOFNiQ3dLQ0QrSUlUV0VVRDArQUtqRC96Mzg2elFyTExXNG52VDM5bjlsSXEwcWZDVCsxSWlNTjJ4cG1teG12VEowMnlHUGJSVEUxUm05MzFlbFU2eG9UdEJzRlRUOUxPTTZPYmVRN3ROcnByZUlqeUE9PTwvU1A+; cucg=1' \\\n",
        "  --compressed --output file.extension\n",
        "\n"
      ],
      "metadata": {
        "colab": {
          "base_uri": "https://localhost:8080/"
        },
        "id": "D7UyHJkGovTL",
        "outputId": "4b5f1a97-e153-4ac6-d800-4cd31cae91b8"
      },
      "execution_count": 10,
      "outputs": [
        {
          "output_type": "stream",
          "name": "stdout",
          "text": [
            "  % Total    % Received % Xferd  Average Speed   Time    Time     Time  Current\n",
            "                                 Dload  Upload   Total   Spent    Left  Speed\n",
            "100 5596M  100 5596M    0     0  90.1M      0  0:01:02  0:01:02 --:--:--  101M\n"
          ]
        }
      ]
    },
    {
      "cell_type": "markdown",
      "source": [
        "Unzip the MOT 17 dataset from OneDrive:"
      ],
      "metadata": {
        "id": "vPP1Lt8xuEbY"
      }
    },
    {
      "cell_type": "code",
      "source": [
        "! jar xvf  /content/file.extension"
      ],
      "metadata": {
        "id": "EN_2Fz9Gq_SX"
      },
      "execution_count": null,
      "outputs": []
    },
    {
      "cell_type": "markdown",
      "source": [
        "### MOT 16 Data Preparation"
      ],
      "metadata": {
        "id": "-gI4eREDozCv"
      }
    },
    {
      "cell_type": "markdown",
      "source": [
        "Create labels with IDs folder."
      ],
      "metadata": {
        "id": "_CQS_q4HcyAF"
      }
    },
    {
      "cell_type": "code",
      "source": [
        "! mkdir /content/MOT16/labels_with_ids\n",
        "! mkdir /content/MOT16/labels_with_ids/train"
      ],
      "metadata": {
        "id": "H2p84IFZokZz"
      },
      "execution_count": 15,
      "outputs": []
    },
    {
      "cell_type": "markdown",
      "source": [
        "Get and set up ADL-Rundle. Run the command below if you're not using Google Drive. "
      ],
      "metadata": {
        "id": "34r6TH9htOFF"
      }
    },
    {
      "cell_type": "code",
      "source": [
        "# ! mkdir /content/MOT16/train/ADL-Rundle-6\n",
        "# ! wget https://github.com/abewley/sort/tree/master/data/train/ADL-Rundle-6/det\n",
        "# ! mkdir /content/MOT16/train/ADL-Rundle-6/gt\n",
        "\n",
        "# target = \"/content/det\"\n",
        "# destination = \"/content/MOT16/train/ADL-Rundle-6/gt/gt.txt\"\n",
        "# shutil.copyfile(target, destination)"
      ],
      "metadata": {
        "id": "CN0XCohKqYr4"
      },
      "execution_count": 20,
      "outputs": []
    },
    {
      "cell_type": "markdown",
      "source": [
        "Get and set up ETH-Bahnhof"
      ],
      "metadata": {
        "id": "ZGngsJestUWQ"
      }
    },
    {
      "cell_type": "code",
      "source": [
        "# ! mkdir /content/MOT16/train/ETH-Bahnhof\n",
        "\n",
        "# target = \"/content/drive/MyDrive/ds/eth-banhoff-seqinfo.ini\"\n",
        "# destination = \"/content/MOT16/train/ETH-Bahnhof/seqinfo.ini\"\n",
        "# shutil.copyfile(target, destination)\n"
      ],
      "metadata": {
        "id": "aqFwjvF5tYKD"
      },
      "execution_count": 21,
      "outputs": []
    },
    {
      "cell_type": "markdown",
      "source": [
        "Change the seq_root and label_root in src/gen_labels_15.py and src/gen_labels_20.py and run:"
      ],
      "metadata": {
        "id": "_hVwjoqJo5XJ"
      }
    },
    {
      "cell_type": "code",
      "source": [
        "# target = \"/content/drive/MyDrive/ds/seqinfo.ini\"\n",
        "# destination = \"/content/MOT16/train/ADL-Rundle-6/adl_rundle_6_seqinfo.ini\"\n",
        "# shutil.copyfile(target, destination)\n",
        "\n",
        "! python /content/FairMOT/src/gen_labels_15.py"
      ],
      "metadata": {
        "id": "__y11CmEoqI9"
      },
      "execution_count": 16,
      "outputs": []
    },
    {
      "cell_type": "markdown",
      "source": [
        "### Download pretrained models"
      ],
      "metadata": {
        "id": "eODyR-Qyxuvm"
      }
    },
    {
      "cell_type": "markdown",
      "source": [
        "Download all_dla34.pth"
      ],
      "metadata": {
        "id": "TRithY5JybL2"
      }
    },
    {
      "cell_type": "code",
      "source": [
        "target = \"/content/drive/MyDrive/ds/all_dla34.pth\"\n",
        "destination = \"/content/FairMOT/src/lib/models/all_dla34.pth\"\n",
        "shutil.copyfile(target, destination)"
      ],
      "metadata": {
        "id": "-gjmqB76pRfI",
        "colab": {
          "base_uri": "https://localhost:8080/",
          "height": 35
        },
        "outputId": "bcffde77-df4b-4c75-de06-ecb0dc1ee112"
      },
      "execution_count": 17,
      "outputs": [
        {
          "output_type": "execute_result",
          "data": {
            "text/plain": [
              "'/content/FairMOT/src/lib/models/all_dla34.pth'"
            ],
            "application/vnd.google.colaboratory.intrinsic+json": {
              "type": "string"
            }
          },
          "metadata": {},
          "execution_count": 17
        }
      ]
    },
    {
      "cell_type": "markdown",
      "source": [
        "Download ctdet_coco_dla_2x.pth"
      ],
      "metadata": {
        "id": "Du1HNbNQz_KN"
      }
    },
    {
      "cell_type": "code",
      "source": [
        "target = \"/content/drive/MyDrive/ds/ctdet_coco_dla_2x.pth\"\n",
        "destination = \"/content/FairMOT/src/lib/models/ctdet_coco_dla_2x.pth.pth\"\n",
        "shutil.copyfile(target, destination)"
      ],
      "metadata": {
        "id": "V1Pv4J2Hz7YJ",
        "colab": {
          "base_uri": "https://localhost:8080/",
          "height": 35
        },
        "outputId": "59eb737c-e4ec-41c0-a2ca-b625db5da533"
      },
      "execution_count": 18,
      "outputs": [
        {
          "output_type": "execute_result",
          "data": {
            "text/plain": [
              "'/content/FairMOT/src/lib/models/ctdet_coco_dla_2x.pth.pth'"
            ],
            "application/vnd.google.colaboratory.intrinsic+json": {
              "type": "string"
            }
          },
          "metadata": {},
          "execution_count": 18
        }
      ]
    },
    {
      "cell_type": "markdown",
      "source": [
        "Replace data files with the modified paths."
      ],
      "metadata": {
        "id": "Y57qYrK-QOvZ"
      }
    },
    {
      "cell_type": "code",
      "source": [
        "! rm -rf /content/FairMOT/src/lib/cfg/data.json\n",
        "target = \"/content/drive/MyDrive/ds/FairMOT/src/lib/cfg/data.json\"\n",
        "destination = \"/content/FairMOT/src/lib/cfg/data.json\"\n",
        "shutil.copyfile(target, destination)\n",
        "\n",
        "! rm -rf /content/FairMOT/src/lib/cfg/mot15.json\n",
        "target = \"/content/drive/MyDrive/ds/FairMOT/src/lib/cfg/mot15.json\"\n",
        "destination = \"/content/FairMOT/src/lib/cfg/mot15.json\"\n",
        "shutil.copyfile(target, destination)\n",
        "\n",
        "! rm -rf /content/FairMOT/src/lib/cfg/mot16.json\n",
        "target = \"/content/drive/MyDrive/ds/FairMOT/src/lib/cfg/mot16.json\"\n",
        "destination = \"/content/FairMOT/src/lib/cfg/mot16.json\"\n",
        "shutil.copyfile(target, destination)\n",
        "\n",
        "! rm -rf /content/FairMOT/src/lib/cfg/mot17.json\n",
        "target = \"/content/drive/MyDrive/ds/FairMOT/src/lib/cfg/mot17.json\"\n",
        "destination = \"/content/FairMOT/src/lib/cfg/mot17.json\"\n",
        "shutil.copyfile(target, destination)\n",
        "\n",
        "! rm -rf /content/FairMOT/src/lib/cfg/mot20.json\n",
        "target = \"/content/drive/MyDrive/ds/FairMOT/src/lib/cfg/mot20.json\"\n",
        "destination = \"/content/FairMOT/src/lib/cfg/mot20.json\"\n",
        "shutil.copyfile(target, destination)"
      ],
      "metadata": {
        "colab": {
          "base_uri": "https://localhost:8080/",
          "height": 35
        },
        "id": "2St6rMMXQSFw",
        "outputId": "306c94fa-0236-4af9-feb0-130b6e165e05"
      },
      "execution_count": 19,
      "outputs": [
        {
          "output_type": "execute_result",
          "data": {
            "text/plain": [
              "'/content/FairMOT/src/lib/cfg/mot20.json'"
            ],
            "application/vnd.google.colaboratory.intrinsic+json": {
              "type": "string"
            }
          },
          "metadata": {},
          "execution_count": 19
        }
      ]
    },
    {
      "cell_type": "markdown",
      "source": [
        "### Training"
      ],
      "metadata": {
        "id": "mkTB7PwszLOi"
      }
    },
    {
      "cell_type": "code",
      "source": [
        "! python /content/FairMOT/src/train.py mot --exp_id all_dla34 --gpus 1 --batch_size 8 --data_cfg '/content/FairMOT/src/lib/cfg/data.json' --load_model '/content/FairMOT/src/lib/models/ctdet_coco_dla_2x.pth.pth' --data_dir '/content/MOT16' --dataset 'MOT16'"
      ],
      "metadata": {
        "id": "Bc8Sy6hSydbX",
        "colab": {
          "base_uri": "https://localhost:8080/"
        },
        "outputId": "3593d787-e8a4-4298-fecc-21dfaac1721b"
      },
      "execution_count": 35,
      "outputs": [
        {
          "output_type": "stream",
          "name": "stdout",
          "text": [
            "Using tensorboardX\n",
            "Fix size testing.\n",
            "training chunk_sizes: [8]\n",
            "The output will be saved to  /content/FairMOT/src/lib/../../exp/mot/all_dla34\n",
            "Setting up data...\n",
            "================================================================================\n",
            "dataset summary\n",
            "OrderedDict([('mot17', 547.0)])\n",
            "total # identities: 548\n",
            "start index\n",
            "OrderedDict([('mot17', 0)])\n",
            "================================================================================\n",
            "heads {'hm': 1, 'wh': 2, 'id': 512, 'reg': 2}\n",
            "Namespace(K=128, arch='dla_34', batch_size=8, cat_spec_wh=False, chunk_sizes=[8], conf_thres=0.6, data_cfg='/content/FairMOT/src/lib/cfg/data.json', data_dir='/content/MOT16', dataset='MOT16', debug_dir='/content/FairMOT/src/lib/../../exp/mot/all_dla34/debug', dense_wh=False, det_thres=0.3, down_ratio=4, exp_dir='/content/FairMOT/src/lib/../../exp/mot', exp_id='all_dla34', fix_res=True, gpus=[0], gpus_str='1', head_conv=256, heads={'hm': 1, 'wh': 2, 'id': 512, 'reg': 2}, hide_data_time=False, hm_weight=1, id_loss='ce', id_weight=1, img_size=(1088, 608), input_h=1088, input_res=1088, input_video='../videos/MOT16-03.mp4', input_w=608, keep_res=False, load_model='/content/FairMOT/src/lib/models/ctdet_coco_dla_2x.pth.pth', lr=0.0001, lr_step=[20, 27], master_batch_size=8, mean=None, metric='loss', min_box_area=200, mse_loss=False, nID=548, nms_thres=0.4, norm_wh=False, not_cuda_benchmark=False, not_prefetch_test=False, not_reg_offset=False, num_classes=1, num_epochs=30, num_iters=-1, num_stacks=1, num_workers=8, off_weight=1, output_format='video', output_h=272, output_res=272, output_root='../results', output_w=152, pad=31, print_iter=0, reg_loss='l1', reg_offset=True, reid_dim=512, resume=False, root_dir='/content/FairMOT/src/lib/../..', save_all=False, save_dir='/content/FairMOT/src/lib/../../exp/mot/all_dla34', seed=317, std=None, task='mot', test=False, test_mot15=False, test_mot16=False, test_mot17=False, test_mot20=False, track_buffer=30, trainval=False, val_intervals=5, val_mot15=False, val_mot16=False, val_mot17=False, val_mot20=False, vis_thresh=0.5, wh_weight=0.1)\n",
            "Creating model...\n",
            "loaded /content/FairMOT/src/lib/models/ctdet_coco_dla_2x.pth.pth, epoch 230\n",
            "Skip loading parameter hm.2.weight, required shapetorch.Size([1, 256, 1, 1]), loaded shapetorch.Size([80, 256, 1, 1]). If you see this, your model does not fully load the pre-trained weight. Please make sure you have correctly specified --arch xxx or set the correct --num_classes for your own dataset.\n",
            "Skip loading parameter hm.2.bias, required shapetorch.Size([1]), loaded shapetorch.Size([80]). If you see this, your model does not fully load the pre-trained weight. Please make sure you have correctly specified --arch xxx or set the correct --num_classes for your own dataset.\n",
            "No param id.0.weight.If you see this, your model does not fully load the pre-trained weight. Please make sure you have correctly specified --arch xxx or set the correct --num_classes for your own dataset.\n",
            "No param id.0.bias.If you see this, your model does not fully load the pre-trained weight. Please make sure you have correctly specified --arch xxx or set the correct --num_classes for your own dataset.\n",
            "No param id.2.weight.If you see this, your model does not fully load the pre-trained weight. Please make sure you have correctly specified --arch xxx or set the correct --num_classes for your own dataset.\n",
            "No param id.2.bias.If you see this, your model does not fully load the pre-trained weight. Please make sure you have correctly specified --arch xxx or set the correct --num_classes for your own dataset.\n",
            "Starting training...\n",
            "error in modulated_deformable_im2col_cuda: no kernel image is available for execution on the device\n",
            "error in modulated_deformable_im2col_cuda: no kernel image is available for execution on the device\n",
            "error in modulated_deformable_im2col_cuda: no kernel image is available for execution on the device\n",
            "error in modulated_deformable_im2col_cuda: no kernel image is available for execution on the device\n",
            "error in modulated_deformable_im2col_cuda: no kernel image is available for execution on the device\n",
            "error in modulated_deformable_im2col_cuda: no kernel image is available for execution on the device\n",
            "error in modulated_deformable_im2col_cuda: no kernel image is available for execution on the device\n",
            "error in modulated_deformable_im2col_cuda: no kernel image is available for execution on the device\n",
            "error in modulated_deformable_im2col_cuda: no kernel image is available for execution on the device\n",
            "error in modulated_deformable_im2col_cuda: no kernel image is available for execution on the device\n",
            "error in modulated_deformable_im2col_cuda: no kernel image is available for execution on the device\n",
            "error in modulated_deformable_im2col_cuda: no kernel image is available for execution on the device\n",
            "error in modulated_deformable_im2col_cuda: no kernel image is available for execution on the device\n",
            "error in modulated_deformable_im2col_cuda: no kernel image is available for execution on the device\n",
            "error in modulated_deformable_im2col_cuda: no kernel image is available for execution on the device\n",
            "error in modulated_deformable_im2col_cuda: no kernel image is available for execution on the device\n",
            "error in modulated_deformable_im2col_cuda: no kernel image is available for execution on the device\n",
            "error in modulated_deformable_im2col_cuda: no kernel image is available for execution on the device\n",
            "error in modulated_deformable_im2col_cuda: no kernel image is available for execution on the device\n",
            "error in modulated_deformable_im2col_cuda: no kernel image is available for execution on the device\n",
            "error in modulated_deformable_im2col_cuda: no kernel image is available for execution on the device\n",
            "error in modulated_deformable_im2col_cuda: no kernel image is available for execution on the device\n",
            "error in modulated_deformable_im2col_cuda: no kernel image is available for execution on the device\n",
            "error in modulated_deformable_im2col_cuda: no kernel image is available for execution on the device\n",
            "error in modulated_deformable_im2col_cuda: no kernel image is available for execution on the device\n",
            "error in modulated_deformable_im2col_cuda: no kernel image is available for execution on the device\n",
            "error in modulated_deformable_im2col_cuda: no kernel image is available for execution on the device\n",
            "error in modulated_deformable_im2col_cuda: no kernel image is available for execution on the device\n",
            "error in modulated_deformable_im2col_cuda: no kernel image is available for execution on the device\n",
            "error in modulated_deformable_im2col_cuda: no kernel image is available for execution on the device\n",
            "error in modulated_deformable_im2col_cuda: no kernel image is available for execution on the device\n",
            "error in modulated_deformable_im2col_cuda: no kernel image is available for execution on the device\n",
            "error in modulated_deformable_im2col_cuda: no kernel image is available for execution on the device\n",
            "error in modulated_deformable_im2col_cuda: no kernel image is available for execution on the device\n",
            "error in modulated_deformable_im2col_cuda: no kernel image is available for execution on the device\n",
            "error in modulated_deformable_im2col_cuda: no kernel image is available for execution on the device\n",
            "error in modulated_deformable_im2col_cuda: no kernel image is available for execution on the device\n",
            "error in modulated_deformable_im2col_cuda: no kernel image is available for execution on the device\n",
            "error in modulated_deformable_im2col_cuda: no kernel image is available for execution on the device\n",
            "error in modulated_deformable_im2col_cuda: no kernel image is available for execution on the device\n",
            "error in modulated_deformable_im2col_cuda: no kernel image is available for execution on the device\n",
            "error in modulated_deformable_im2col_cuda: no kernel image is available for execution on the device\n",
            "error in modulated_deformable_im2col_cuda: no kernel image is available for execution on the device\n",
            "error in modulated_deformable_im2col_cuda: no kernel image is available for execution on the device\n",
            "error in modulated_deformable_im2col_cuda: no kernel image is available for execution on the device\n",
            "error in modulated_deformable_im2col_cuda: no kernel image is available for execution on the device\n",
            "error in modulated_deformable_im2col_cuda: no kernel image is available for execution on the device\n",
            "error in modulated_deformable_im2col_cuda: no kernel image is available for execution on the device\n",
            "error in modulated_deformable_im2col_cuda: no kernel image is available for execution on the device\n",
            "error in modulated_deformable_im2col_cuda: no kernel image is available for execution on the device\n",
            "error in modulated_deformable_im2col_cuda: no kernel image is available for execution on the device\n",
            "error in modulated_deformable_im2col_cuda: no kernel image is available for execution on the device\n",
            "error in modulated_deformable_im2col_cuda: no kernel image is available for execution on the device\n",
            "error in modulated_deformable_im2col_cuda: no kernel image is available for execution on the device\n",
            "error in modulated_deformable_im2col_cuda: no kernel image is available for execution on the device\n",
            "error in modulated_deformable_im2col_cuda: no kernel image is available for execution on the device\n",
            "error in modulated_deformable_im2col_cuda: no kernel image is available for execution on the device\n",
            "error in modulated_deformable_im2col_cuda: no kernel image is available for execution on the device\n",
            "error in modulated_deformable_im2col_cuda: no kernel image is available for execution on the device\n",
            "error in modulated_deformable_im2col_cuda: no kernel image is available for execution on the device\n",
            "error in modulated_deformable_im2col_cuda: no kernel image is available for execution on the device\n",
            "error in modulated_deformable_im2col_cuda: no kernel image is available for execution on the device\n",
            "error in modulated_deformable_im2col_cuda: no kernel image is available for execution on the device\n",
            "error in modulated_deformable_im2col_cuda: no kernel image is available for execution on the device\n",
            "error in modulated_deformable_im2col_cuda: no kernel image is available for execution on the device\n",
            "error in modulated_deformable_im2col_cuda: no kernel image is available for execution on the device\n",
            "error in modulated_deformable_im2col_cuda: no kernel image is available for execution on the device\n",
            "error in modulated_deformable_im2col_cuda: no kernel image is available for execution on the device\n",
            "error in modulated_deformable_im2col_cuda: no kernel image is available for execution on the device\n",
            "error in modulated_deformable_im2col_cuda: no kernel image is available for execution on the device\n",
            "error in modulated_deformable_im2col_cuda: no kernel image is available for execution on the device\n",
            "error in modulated_deformable_im2col_cuda: no kernel image is available for execution on the device\n",
            "error in modulated_deformable_im2col_cuda: no kernel image is available for execution on the device\n",
            "error in modulated_deformable_im2col_cuda: no kernel image is available for execution on the device\n",
            "error in modulated_deformable_im2col_cuda: no kernel image is available for execution on the device\n",
            "error in modulated_deformable_im2col_cuda: no kernel image is available for execution on the device\n",
            "error in modulated_deformable_im2col_cuda: no kernel image is available for execution on the device\n",
            "error in modulated_deformable_im2col_cuda: no kernel image is available for execution on the device\n",
            "error in modulated_deformable_im2col_cuda: no kernel image is available for execution on the device\n",
            "error in modulated_deformable_im2col_cuda: no kernel image is available for execution on the device\n",
            "error in modulated_deformable_im2col_cuda: no kernel image is available for execution on the device\n",
            "error in modulated_deformable_im2col_cuda: no kernel image is available for execution on the device\n",
            "error in modulated_deformable_im2col_cuda: no kernel image is available for execution on the device\n",
            "error in modulated_deformable_im2col_cuda: no kernel image is available for execution on the device\n",
            "error in modulated_deformable_im2col_cuda: no kernel image is available for execution on the device\n",
            "error in modulated_deformable_im2col_cuda: no kernel image is available for execution on the device\n",
            "error in modulated_deformable_im2col_cuda: no kernel image is available for execution on the device\n",
            "error in modulated_deformable_im2col_cuda: no kernel image is available for execution on the device\n",
            "error in modulated_deformable_im2col_cuda: no kernel image is available for execution on the device\n",
            "error in modulated_deformable_im2col_cuda: no kernel image is available for execution on the device\n",
            "error in modulated_deformable_im2col_cuda: no kernel image is available for execution on the device\n",
            "error in modulated_deformable_im2col_cuda: no kernel image is available for execution on the device\n",
            "error in modulated_deformable_im2col_cuda: no kernel image is available for execution on the device\n",
            "error in modulated_deformable_im2col_cuda: no kernel image is available for execution on the device\n",
            "error in modulated_deformable_im2col_cuda: no kernel image is available for execution on the device\n",
            "error in modulated_deformable_im2col_cuda: no kernel image is available for execution on the device\n",
            "error in modulated_deformable_im2col_cuda: no kernel image is available for execution on the device\n",
            "error in modulated_deformable_im2col_cuda: no kernel image is available for execution on the device\n",
            "error in modulated_deformable_im2col_cuda: no kernel image is available for execution on the device\n",
            "error in modulated_deformable_im2col_cuda: no kernel image is available for execution on the device\n",
            "error in modulated_deformable_im2col_cuda: no kernel image is available for execution on the device\n",
            "error in modulated_deformable_im2col_cuda: no kernel image is available for execution on the device\n",
            "error in modulated_deformable_im2col_cuda: no kernel image is available for execution on the device\n",
            "error in modulated_deformable_im2col_cuda: no kernel image is available for execution on the device\n",
            "error in modulated_deformable_im2col_cuda: no kernel image is available for execution on the device\n",
            "error in modulated_deformable_im2col_cuda: no kernel image is available for execution on the device\n",
            "error in modulated_deformable_im2col_cuda: no kernel image is available for execution on the device\n",
            "error in modulated_deformable_im2col_cuda: no kernel image is available for execution on the device\n",
            "error in modulated_deformable_im2col_cuda: no kernel image is available for execution on the device\n",
            "error in modulated_deformable_im2col_cuda: no kernel image is available for execution on the device\n",
            "error in modulated_deformable_im2col_cuda: no kernel image is available for execution on the device\n",
            "error in modulated_deformable_im2col_cuda: no kernel image is available for execution on the device\n",
            "error in modulated_deformable_im2col_cuda: no kernel image is available for execution on the device\n",
            "error in modulated_deformable_im2col_cuda: no kernel image is available for execution on the device\n",
            "error in modulated_deformable_im2col_cuda: no kernel image is available for execution on the device\n",
            "error in modulated_deformable_im2col_cuda: no kernel image is available for execution on the device\n",
            "error in modulated_deformable_im2col_cuda: no kernel image is available for execution on the device\n",
            "error in modulated_deformable_im2col_cuda: no kernel image is available for execution on the device\n",
            "error in modulated_deformable_im2col_cuda: no kernel image is available for execution on the device\n",
            "error in modulated_deformable_im2col_cuda: no kernel image is available for execution on the device\n",
            "error in modulated_deformable_im2col_cuda: no kernel image is available for execution on the device\n",
            "error in modulated_deformable_im2col_cuda: no kernel image is available for execution on the device\n",
            "error in modulated_deformable_im2col_cuda: no kernel image is available for execution on the device\n",
            "error in modulated_deformable_im2col_cuda: no kernel image is available for execution on the device\n",
            "error in modulated_deformable_im2col_cuda: no kernel image is available for execution on the device\n",
            "error in modulated_deformable_im2col_cuda: no kernel image is available for execution on the device\n",
            "error in modulated_deformable_im2col_cuda: no kernel image is available for execution on the device\n",
            "error in modulated_deformable_im2col_cuda: no kernel image is available for execution on the device\n",
            "/usr/local/lib/python3.7/site-packages/torch/nn/_reduction.py:43: UserWarning: size_average and reduce args will be deprecated, please use reduction='sum' instead.\n",
            "  warnings.warn(warning.format(ret))\n",
            "error in modulated_deformable_col2im_coord_cuda: no kernel image is available for execution on the device\n",
            "error in modulated_deformable_col2im_cuda: no kernel image is available for execution on the device\n",
            "error in modulated_deformable_im2col_cuda: no kernel image is available for execution on the device\n",
            "error in modulated_deformable_col2im_coord_cuda: no kernel image is available for execution on the device\n",
            "error in modulated_deformable_col2im_cuda: no kernel image is available for execution on the device\n",
            "error in modulated_deformable_im2col_cuda: no kernel image is available for execution on the device\n",
            "error in modulated_deformable_col2im_coord_cuda: no kernel image is available for execution on the device\n",
            "error in modulated_deformable_col2im_cuda: no kernel image is available for execution on the device\n",
            "error in modulated_deformable_im2col_cuda: no kernel image is available for execution on the device\n",
            "error in modulated_deformable_col2im_coord_cuda: no kernel image is available for execution on the device\n",
            "error in modulated_deformable_col2im_cuda: no kernel image is available for execution on the device\n",
            "error in modulated_deformable_im2col_cuda: no kernel image is available for execution on the device\n",
            "error in modulated_deformable_col2im_coord_cuda: no kernel image is available for execution on the device\n",
            "error in modulated_deformable_col2im_cuda: no kernel image is available for execution on the device\n",
            "error in modulated_deformable_im2col_cuda: no kernel image is available for execution on the device\n",
            "error in modulated_deformable_col2im_coord_cuda: no kernel image is available for execution on the device\n",
            "error in modulated_deformable_col2im_cuda: no kernel image is available for execution on the device\n",
            "error in modulated_deformable_im2col_cuda: no kernel image is available for execution on the device\n",
            "error in modulated_deformable_col2im_coord_cuda: no kernel image is available for execution on the device\n",
            "error in modulated_deformable_col2im_cuda: no kernel image is available for execution on the device\n",
            "error in modulated_deformable_im2col_cuda: no kernel image is available for execution on the device\n",
            "error in modulated_deformable_col2im_coord_cuda: no kernel image is available for execution on the device\n",
            "error in modulated_deformable_col2im_cuda: no kernel image is available for execution on the device\n",
            "error in modulated_deformable_im2col_cuda: no kernel image is available for execution on the device\n",
            "error in modulated_deformable_col2im_coord_cuda: no kernel image is available for execution on the device\n",
            "error in modulated_deformable_col2im_cuda: no kernel image is available for execution on the device\n",
            "error in modulated_deformable_im2col_cuda: no kernel image is available for execution on the device\n",
            "error in modulated_deformable_col2im_coord_cuda: no kernel image is available for execution on the device\n",
            "error in modulated_deformable_col2im_cuda: no kernel image is available for execution on the device\n",
            "error in modulated_deformable_im2col_cuda: no kernel image is available for execution on the device\n",
            "error in modulated_deformable_col2im_coord_cuda: no kernel image is available for execution on the device\n",
            "error in modulated_deformable_col2im_cuda: no kernel image is available for execution on the device\n",
            "error in modulated_deformable_im2col_cuda: no kernel image is available for execution on the device\n",
            "error in modulated_deformable_col2im_coord_cuda: no kernel image is available for execution on the device\n",
            "error in modulated_deformable_col2im_cuda: no kernel image is available for execution on the device\n",
            "error in modulated_deformable_im2col_cuda: no kernel image is available for execution on the device\n",
            "error in modulated_deformable_col2im_coord_cuda: no kernel image is available for execution on the device\n",
            "error in modulated_deformable_col2im_cuda: no kernel image is available for execution on the device\n",
            "error in modulated_deformable_im2col_cuda: no kernel image is available for execution on the device\n",
            "error in modulated_deformable_col2im_coord_cuda: no kernel image is available for execution on the device\n",
            "error in modulated_deformable_col2im_cuda: no kernel image is available for execution on the device\n",
            "error in modulated_deformable_im2col_cuda: no kernel image is available for execution on the device\n",
            "error in modulated_deformable_col2im_coord_cuda: no kernel image is available for execution on the device\n",
            "error in modulated_deformable_col2im_cuda: no kernel image is available for execution on the device\n",
            "error in modulated_deformable_im2col_cuda: no kernel image is available for execution on the device\n",
            "error in modulated_deformable_col2im_coord_cuda: no kernel image is available for execution on the device\n",
            "error in modulated_deformable_col2im_cuda: no kernel image is available for execution on the device\n",
            "error in modulated_deformable_im2col_cuda: no kernel image is available for execution on the device\n",
            "error in modulated_deformable_col2im_coord_cuda: no kernel image is available for execution on the device\n",
            "error in modulated_deformable_col2im_cuda: no kernel image is available for execution on the device\n",
            "error in modulated_deformable_im2col_cuda: no kernel image is available for execution on the device\n",
            "error in modulated_deformable_col2im_coord_cuda: no kernel image is available for execution on the device\n",
            "error in modulated_deformable_col2im_cuda: no kernel image is available for execution on the device\n",
            "error in modulated_deformable_im2col_cuda: no kernel image is available for execution on the device\n",
            "error in modulated_deformable_col2im_coord_cuda: no kernel image is available for execution on the device\n",
            "error in modulated_deformable_col2im_cuda: no kernel image is available for execution on the device\n",
            "error in modulated_deformable_im2col_cuda: no kernel image is available for execution on the device\n",
            "error in modulated_deformable_col2im_coord_cuda: no kernel image is available for execution on the device\n",
            "error in modulated_deformable_col2im_cuda: no kernel image is available for execution on the device\n",
            "error in modulated_deformable_im2col_cuda: no kernel image is available for execution on the device\n",
            "error in modulated_deformable_col2im_coord_cuda: no kernel image is available for execution on the device\n",
            "error in modulated_deformable_col2im_cuda: no kernel image is available for execution on the device\n",
            "error in modulated_deformable_im2col_cuda: no kernel image is available for execution on the device\n",
            "error in modulated_deformable_col2im_coord_cuda: no kernel image is available for execution on the device\n",
            "error in modulated_deformable_col2im_cuda: no kernel image is available for execution on the device\n",
            "error in modulated_deformable_im2col_cuda: no kernel image is available for execution on the device\n",
            "error in modulated_deformable_col2im_coord_cuda: no kernel image is available for execution on the device\n",
            "error in modulated_deformable_col2im_cuda: no kernel image is available for execution on the device\n",
            "error in modulated_deformable_im2col_cuda: no kernel image is available for execution on the device\n",
            "error in modulated_deformable_col2im_coord_cuda: no kernel image is available for execution on the device\n",
            "error in modulated_deformable_col2im_cuda: no kernel image is available for execution on the device\n",
            "error in modulated_deformable_im2col_cuda: no kernel image is available for execution on the device\n",
            "error in modulated_deformable_col2im_coord_cuda: no kernel image is available for execution on the device\n",
            "error in modulated_deformable_col2im_cuda: no kernel image is available for execution on the device\n",
            "error in modulated_deformable_im2col_cuda: no kernel image is available for execution on the device\n",
            "error in modulated_deformable_col2im_coord_cuda: no kernel image is available for execution on the device\n",
            "error in modulated_deformable_col2im_cuda: no kernel image is available for execution on the device\n",
            "error in modulated_deformable_im2col_cuda: no kernel image is available for execution on the device\n",
            "error in modulated_deformable_col2im_coord_cuda: no kernel image is available for execution on the device\n",
            "error in modulated_deformable_col2im_cuda: no kernel image is available for execution on the device\n",
            "error in modulated_deformable_im2col_cuda: no kernel image is available for execution on the device\n",
            "error in modulated_deformable_col2im_coord_cuda: no kernel image is available for execution on the device\n",
            "error in modulated_deformable_col2im_cuda: no kernel image is available for execution on the device\n",
            "error in modulated_deformable_im2col_cuda: no kernel image is available for execution on the device\n",
            "error in modulated_deformable_col2im_coord_cuda: no kernel image is available for execution on the device\n",
            "error in modulated_deformable_col2im_cuda: no kernel image is available for execution on the device\n",
            "error in modulated_deformable_im2col_cuda: no kernel image is available for execution on the device\n",
            "error in modulated_deformable_col2im_coord_cuda: no kernel image is available for execution on the device\n",
            "error in modulated_deformable_col2im_cuda: no kernel image is available for execution on the device\n",
            "error in modulated_deformable_im2col_cuda: no kernel image is available for execution on the device\n",
            "error in modulated_deformable_col2im_coord_cuda: no kernel image is available for execution on the device\n",
            "error in modulated_deformable_col2im_cuda: no kernel image is available for execution on the device\n",
            "error in modulated_deformable_im2col_cuda: no kernel image is available for execution on the device\n",
            "error in modulated_deformable_col2im_coord_cuda: no kernel image is available for execution on the device\n",
            "error in modulated_deformable_col2im_cuda: no kernel image is available for execution on the device\n",
            "error in modulated_deformable_im2col_cuda: no kernel image is available for execution on the device\n",
            "error in modulated_deformable_col2im_coord_cuda: no kernel image is available for execution on the device\n",
            "error in modulated_deformable_col2im_cuda: no kernel image is available for execution on the device\n",
            "error in modulated_deformable_im2col_cuda: no kernel image is available for execution on the device\n",
            "error in modulated_deformable_col2im_coord_cuda: no kernel image is available for execution on the device\n",
            "error in modulated_deformable_col2im_cuda: no kernel image is available for execution on the device\n",
            "error in modulated_deformable_im2col_cuda: no kernel image is available for execution on the device\n",
            "error in modulated_deformable_col2im_coord_cuda: no kernel image is available for execution on the device\n",
            "error in modulated_deformable_col2im_cuda: no kernel image is available for execution on the device\n",
            "error in modulated_deformable_im2col_cuda: no kernel image is available for execution on the device\n",
            "error in modulated_deformable_col2im_coord_cuda: no kernel image is available for execution on the device\n",
            "error in modulated_deformable_col2im_cuda: no kernel image is available for execution on the device\n",
            "error in modulated_deformable_im2col_cuda: no kernel image is available for execution on the device\n",
            "error in modulated_deformable_col2im_coord_cuda: no kernel image is available for execution on the device\n",
            "error in modulated_deformable_col2im_cuda: no kernel image is available for execution on the device\n",
            "error in modulated_deformable_im2col_cuda: no kernel image is available for execution on the device\n",
            "error in modulated_deformable_col2im_coord_cuda: no kernel image is available for execution on the device\n",
            "error in modulated_deformable_col2im_cuda: no kernel image is available for execution on the device\n",
            "error in modulated_deformable_im2col_cuda: no kernel image is available for execution on the device\n",
            "error in modulated_deformable_col2im_coord_cuda: no kernel image is available for execution on the device\n",
            "error in modulated_deformable_col2im_cuda: no kernel image is available for execution on the device\n",
            "error in modulated_deformable_im2col_cuda: no kernel image is available for execution on the device\n",
            "error in modulated_deformable_col2im_coord_cuda: no kernel image is available for execution on the device\n",
            "error in modulated_deformable_col2im_cuda: no kernel image is available for execution on the device\n",
            "error in modulated_deformable_im2col_cuda: no kernel image is available for execution on the device\n",
            "error in modulated_deformable_col2im_coord_cuda: no kernel image is available for execution on the device\n",
            "error in modulated_deformable_col2im_cuda: no kernel image is available for execution on the device\n",
            "error in modulated_deformable_im2col_cuda: no kernel image is available for execution on the device\n",
            "error in modulated_deformable_col2im_coord_cuda: no kernel image is available for execution on the device\n",
            "error in modulated_deformable_col2im_cuda: no kernel image is available for execution on the device\n",
            "error in modulated_deformable_im2col_cuda: no kernel image is available for execution on the device\n",
            "error in modulated_deformable_col2im_coord_cuda: no kernel image is available for execution on the device\n",
            "error in modulated_deformable_col2im_cuda: no kernel image is available for execution on the device\n",
            "error in modulated_deformable_im2col_cuda: no kernel image is available for execution on the device\n",
            "error in modulated_deformable_col2im_coord_cuda: no kernel image is available for execution on the device\n",
            "error in modulated_deformable_col2im_cuda: no kernel image is available for execution on the device\n",
            "error in modulated_deformable_im2col_cuda: no kernel image is available for execution on the device\n",
            "error in modulated_deformable_col2im_coord_cuda: no kernel image is available for execution on the device\n",
            "error in modulated_deformable_col2im_cuda: no kernel image is available for execution on the device\n",
            "error in modulated_deformable_im2col_cuda: no kernel image is available for execution on the device\n",
            "error in modulated_deformable_col2im_coord_cuda: no kernel image is available for execution on the device\n",
            "error in modulated_deformable_col2im_cuda: no kernel image is available for execution on the device\n",
            "error in modulated_deformable_im2col_cuda: no kernel image is available for execution on the device\n",
            "error in modulated_deformable_col2im_coord_cuda: no kernel image is available for execution on the device\n",
            "error in modulated_deformable_col2im_cuda: no kernel image is available for execution on the device\n",
            "error in modulated_deformable_im2col_cuda: no kernel image is available for execution on the device\n",
            "error in modulated_deformable_col2im_coord_cuda: no kernel image is available for execution on the device\n",
            "error in modulated_deformable_col2im_cuda: no kernel image is available for execution on the device\n",
            "error in modulated_deformable_im2col_cuda: no kernel image is available for execution on the device\n",
            "error in modulated_deformable_col2im_coord_cuda: no kernel image is available for execution on the device\n",
            "error in modulated_deformable_col2im_cuda: no kernel image is available for execution on the device\n",
            "error in modulated_deformable_im2col_cuda: no kernel image is available for execution on the device\n",
            "error in modulated_deformable_col2im_coord_cuda: no kernel image is available for execution on the device\n",
            "error in modulated_deformable_col2im_cuda: no kernel image is available for execution on the device\n",
            "error in modulated_deformable_im2col_cuda: no kernel image is available for execution on the device\n",
            "error in modulated_deformable_col2im_coord_cuda: no kernel image is available for execution on the device\n",
            "error in modulated_deformable_col2im_cuda: no kernel image is available for execution on the device\n",
            "error in modulated_deformable_im2col_cuda: no kernel image is available for execution on the device\n",
            "error in modulated_deformable_col2im_coord_cuda: no kernel image is available for execution on the device\n",
            "error in modulated_deformable_col2im_cuda: no kernel image is available for execution on the device\n",
            "error in modulated_deformable_im2col_cuda: no kernel image is available for execution on the device\n",
            "error in modulated_deformable_col2im_coord_cuda: no kernel image is available for execution on the device\n",
            "error in modulated_deformable_col2im_cuda: no kernel image is available for execution on the device\n",
            "error in modulated_deformable_im2col_cuda: no kernel image is available for execution on the device\n",
            "error in modulated_deformable_col2im_coord_cuda: no kernel image is available for execution on the device\n",
            "error in modulated_deformable_col2im_cuda: no kernel image is available for execution on the device\n",
            "error in modulated_deformable_im2col_cuda: no kernel image is available for execution on the device\n",
            "error in modulated_deformable_col2im_coord_cuda: no kernel image is available for execution on the device\n",
            "error in modulated_deformable_col2im_cuda: no kernel image is available for execution on the device\n",
            "error in modulated_deformable_im2col_cuda: no kernel image is available for execution on the device\n",
            "error in modulated_deformable_col2im_coord_cuda: no kernel image is available for execution on the device\n",
            "error in modulated_deformable_col2im_cuda: no kernel image is available for execution on the device\n",
            "error in modulated_deformable_im2col_cuda: no kernel image is available for execution on the device\n",
            "error in modulated_deformable_col2im_coord_cuda: no kernel image is available for execution on the device\n",
            "error in modulated_deformable_col2im_cuda: no kernel image is available for execution on the device\n",
            "error in modulated_deformable_im2col_cuda: no kernel image is available for execution on the device\n",
            "error in modulated_deformable_col2im_coord_cuda: no kernel image is available for execution on the device\n",
            "error in modulated_deformable_col2im_cuda: no kernel image is available for execution on the device\n",
            "error in modulated_deformable_im2col_cuda: no kernel image is available for execution on the device\n",
            "error in modulated_deformable_col2im_coord_cuda: no kernel image is available for execution on the device\n",
            "error in modulated_deformable_col2im_cuda: no kernel image is available for execution on the device\n",
            "error in modulated_deformable_im2col_cuda: no kernel image is available for execution on the device\n",
            "error in modulated_deformable_col2im_coord_cuda: no kernel image is available for execution on the device\n",
            "error in modulated_deformable_col2im_cuda: no kernel image is available for execution on the device\n",
            "error in modulated_deformable_im2col_cuda: no kernel image is available for execution on the device\n",
            "error in modulated_deformable_col2im_coord_cuda: no kernel image is available for execution on the device\n",
            "error in modulated_deformable_col2im_cuda: no kernel image is available for execution on the device\n",
            "error in modulated_deformable_im2col_cuda: no kernel image is available for execution on the device\n",
            "error in modulated_deformable_col2im_coord_cuda: no kernel image is available for execution on the device\n",
            "error in modulated_deformable_col2im_cuda: no kernel image is available for execution on the device\n",
            "error in modulated_deformable_im2col_cuda: no kernel image is available for execution on the device\n",
            "error in modulated_deformable_col2im_coord_cuda: no kernel image is available for execution on the device\n",
            "error in modulated_deformable_col2im_cuda: no kernel image is available for execution on the device\n",
            "error in modulated_deformable_im2col_cuda: no kernel image is available for execution on the device\n",
            "error in modulated_deformable_col2im_coord_cuda: no kernel image is available for execution on the device\n",
            "error in modulated_deformable_col2im_cuda: no kernel image is available for execution on the device\n",
            "error in modulated_deformable_im2col_cuda: no kernel image is available for execution on the device\n",
            "error in modulated_deformable_col2im_coord_cuda: no kernel image is available for execution on the device\n",
            "error in modulated_deformable_col2im_cuda: no kernel image is available for execution on the device\n",
            "error in modulated_deformable_im2col_cuda: no kernel image is available for execution on the device\n",
            "error in modulated_deformable_col2im_coord_cuda: no kernel image is available for execution on the device\n",
            "error in modulated_deformable_col2im_cuda: no kernel image is available for execution on the device\n",
            "error in modulated_deformable_im2col_cuda: no kernel image is available for execution on the device\n",
            "error in modulated_deformable_col2im_coord_cuda: no kernel image is available for execution on the device\n",
            "error in modulated_deformable_col2im_cuda: no kernel image is available for execution on the device\n",
            "error in modulated_deformable_im2col_cuda: no kernel image is available for execution on the device\n",
            "error in modulated_deformable_col2im_coord_cuda: no kernel image is available for execution on the device\n",
            "error in modulated_deformable_col2im_cuda: no kernel image is available for execution on the device\n",
            "error in modulated_deformable_im2col_cuda: no kernel image is available for execution on the device\n",
            "error in modulated_deformable_col2im_coord_cuda: no kernel image is available for execution on the device\n",
            "error in modulated_deformable_col2im_cuda: no kernel image is available for execution on the device\n",
            "error in modulated_deformable_im2col_cuda: no kernel image is available for execution on the device\n",
            "error in modulated_deformable_col2im_coord_cuda: no kernel image is available for execution on the device\n",
            "error in modulated_deformable_col2im_cuda: no kernel image is available for execution on the device\n",
            "error in modulated_deformable_im2col_cuda: no kernel image is available for execution on the device\n",
            "error in modulated_deformable_col2im_coord_cuda: no kernel image is available for execution on the device\n",
            "error in modulated_deformable_col2im_cuda: no kernel image is available for execution on the device\n",
            "error in modulated_deformable_im2col_cuda: no kernel image is available for execution on the device\n",
            "error in modulated_deformable_col2im_coord_cuda: no kernel image is available for execution on the device\n",
            "error in modulated_deformable_col2im_cuda: no kernel image is available for execution on the device\n",
            "error in modulated_deformable_im2col_cuda: no kernel image is available for execution on the device\n",
            "error in modulated_deformable_col2im_coord_cuda: no kernel image is available for execution on the device\n",
            "error in modulated_deformable_col2im_cuda: no kernel image is available for execution on the device\n",
            "error in modulated_deformable_im2col_cuda: no kernel image is available for execution on the device\n",
            "error in modulated_deformable_col2im_coord_cuda: no kernel image is available for execution on the device\n",
            "error in modulated_deformable_col2im_cuda: no kernel image is available for execution on the device\n",
            "error in modulated_deformable_im2col_cuda: no kernel image is available for execution on the device\n",
            "error in modulated_deformable_col2im_coord_cuda: no kernel image is available for execution on the device\n",
            "error in modulated_deformable_col2im_cuda: no kernel image is available for execution on the device\n",
            "error in modulated_deformable_im2col_cuda: no kernel image is available for execution on the device\n",
            "error in modulated_deformable_col2im_coord_cuda: no kernel image is available for execution on the device\n",
            "error in modulated_deformable_col2im_cuda: no kernel image is available for execution on the device\n",
            "error in modulated_deformable_im2col_cuda: no kernel image is available for execution on the device\n",
            "error in modulated_deformable_col2im_coord_cuda: no kernel image is available for execution on the device\n",
            "error in modulated_deformable_col2im_cuda: no kernel image is available for execution on the device\n",
            "error in modulated_deformable_im2col_cuda: no kernel image is available for execution on the device\n",
            "error in modulated_deformable_col2im_coord_cuda: no kernel image is available for execution on the device\n",
            "error in modulated_deformable_col2im_cuda: no kernel image is available for execution on the device\n",
            "error in modulated_deformable_im2col_cuda: no kernel image is available for execution on the device\n",
            "error in modulated_deformable_col2im_coord_cuda: no kernel image is available for execution on the device\n",
            "error in modulated_deformable_col2im_cuda: no kernel image is available for execution on the device\n",
            "error in modulated_deformable_im2col_cuda: no kernel image is available for execution on the device\n",
            "error in modulated_deformable_col2im_coord_cuda: no kernel image is available for execution on the device\n",
            "error in modulated_deformable_col2im_cuda: no kernel image is available for execution on the device\n",
            "error in modulated_deformable_im2col_cuda: no kernel image is available for execution on the device\n",
            "error in modulated_deformable_col2im_coord_cuda: no kernel image is available for execution on the device\n",
            "error in modulated_deformable_col2im_cuda: no kernel image is available for execution on the device\n",
            "error in modulated_deformable_im2col_cuda: no kernel image is available for execution on the device\n",
            "error in modulated_deformable_col2im_coord_cuda: no kernel image is available for execution on the device\n",
            "error in modulated_deformable_col2im_cuda: no kernel image is available for execution on the device\n",
            "error in modulated_deformable_im2col_cuda: no kernel image is available for execution on the device\n",
            "error in modulated_deformable_col2im_coord_cuda: no kernel image is available for execution on the device\n",
            "error in modulated_deformable_col2im_cuda: no kernel image is available for execution on the device\n",
            "error in modulated_deformable_im2col_cuda: no kernel image is available for execution on the device\n",
            "error in modulated_deformable_col2im_coord_cuda: no kernel image is available for execution on the device\n",
            "error in modulated_deformable_col2im_cuda: no kernel image is available for execution on the device\n",
            "error in modulated_deformable_im2col_cuda: no kernel image is available for execution on the device\n",
            "error in modulated_deformable_col2im_coord_cuda: no kernel image is available for execution on the device\n",
            "error in modulated_deformable_col2im_cuda: no kernel image is available for execution on the device\n",
            "error in modulated_deformable_im2col_cuda: no kernel image is available for execution on the device\n",
            "error in modulated_deformable_col2im_coord_cuda: no kernel image is available for execution on the device\n",
            "error in modulated_deformable_col2im_cuda: no kernel image is available for execution on the device\n",
            "error in modulated_deformable_im2col_cuda: no kernel image is available for execution on the device\n",
            "error in modulated_deformable_col2im_coord_cuda: no kernel image is available for execution on the device\n",
            "error in modulated_deformable_col2im_cuda: no kernel image is available for execution on the device\n",
            "error in modulated_deformable_im2col_cuda: no kernel image is available for execution on the device\n",
            "error in modulated_deformable_col2im_coord_cuda: no kernel image is available for execution on the device\n",
            "error in modulated_deformable_col2im_cuda: no kernel image is available for execution on the device\n",
            "error in modulated_deformable_im2col_cuda: no kernel image is available for execution on the device\n",
            "error in modulated_deformable_col2im_coord_cuda: no kernel image is available for execution on the device\n",
            "error in modulated_deformable_col2im_cuda: no kernel image is available for execution on the device\n",
            "error in modulated_deformable_im2col_cuda: no kernel image is available for execution on the device\n",
            "error in modulated_deformable_col2im_coord_cuda: no kernel image is available for execution on the device\n",
            "error in modulated_deformable_col2im_cuda: no kernel image is available for execution on the device\n",
            "error in modulated_deformable_im2col_cuda: no kernel image is available for execution on the device\n",
            "error in modulated_deformable_col2im_coord_cuda: no kernel image is available for execution on the device\n",
            "error in modulated_deformable_col2im_cuda: no kernel image is available for execution on the device\n",
            "error in modulated_deformable_im2col_cuda: no kernel image is available for execution on the device\n",
            "error in modulated_deformable_col2im_coord_cuda: no kernel image is available for execution on the device\n",
            "error in modulated_deformable_col2im_cuda: no kernel image is available for execution on the device\n",
            "error in modulated_deformable_im2col_cuda: no kernel image is available for execution on the device\n",
            "error in modulated_deformable_col2im_coord_cuda: no kernel image is available for execution on the device\n",
            "error in modulated_deformable_col2im_cuda: no kernel image is available for execution on the device\n",
            "error in modulated_deformable_im2col_cuda: no kernel image is available for execution on the device\n",
            "error in modulated_deformable_col2im_coord_cuda: no kernel image is available for execution on the device\n",
            "error in modulated_deformable_col2im_cuda: no kernel image is available for execution on the device\n",
            "error in modulated_deformable_im2col_cuda: no kernel image is available for execution on the device\n",
            "error in modulated_deformable_col2im_coord_cuda: no kernel image is available for execution on the device\n",
            "error in modulated_deformable_col2im_cuda: no kernel image is available for execution on the device\n",
            "error in modulated_deformable_im2col_cuda: no kernel image is available for execution on the device\n",
            "error in modulated_deformable_col2im_coord_cuda: no kernel image is available for execution on the device\n",
            "error in modulated_deformable_col2im_cuda: no kernel image is available for execution on the device\n",
            "error in modulated_deformable_im2col_cuda: no kernel image is available for execution on the device\n",
            "error in modulated_deformable_col2im_coord_cuda: no kernel image is available for execution on the device\n",
            "error in modulated_deformable_col2im_cuda: no kernel image is available for execution on the device\n",
            "error in modulated_deformable_im2col_cuda: no kernel image is available for execution on the device\n",
            "error in modulated_deformable_col2im_coord_cuda: no kernel image is available for execution on the device\n",
            "error in modulated_deformable_col2im_cuda: no kernel image is available for execution on the device\n",
            "error in modulated_deformable_im2col_cuda: no kernel image is available for execution on the device\n",
            "error in modulated_deformable_col2im_coord_cuda: no kernel image is available for execution on the device\n",
            "error in modulated_deformable_col2im_cuda: no kernel image is available for execution on the device\n",
            "error in modulated_deformable_im2col_cuda: no kernel image is available for execution on the device\n",
            "error in modulated_deformable_col2im_coord_cuda: no kernel image is available for execution on the device\n",
            "error in modulated_deformable_col2im_cuda: no kernel image is available for execution on the device\n",
            "error in modulated_deformable_im2col_cuda: no kernel image is available for execution on the device\n",
            "error in modulated_deformable_col2im_coord_cuda: no kernel image is available for execution on the device\n",
            "error in modulated_deformable_col2im_cuda: no kernel image is available for execution on the device\n",
            "error in modulated_deformable_im2col_cuda: no kernel image is available for execution on the device\n",
            "error in modulated_deformable_col2im_coord_cuda: no kernel image is available for execution on the device\n",
            "error in modulated_deformable_col2im_cuda: no kernel image is available for execution on the device\n",
            "error in modulated_deformable_im2col_cuda: no kernel image is available for execution on the device\n",
            "error in modulated_deformable_col2im_coord_cuda: no kernel image is available for execution on the device\n",
            "error in modulated_deformable_col2im_cuda: no kernel image is available for execution on the device\n",
            "error in modulated_deformable_im2col_cuda: no kernel image is available for execution on the device\n",
            "error in modulated_deformable_col2im_coord_cuda: no kernel image is available for execution on the device\n",
            "error in modulated_deformable_col2im_cuda: no kernel image is available for execution on the device\n",
            "error in modulated_deformable_im2col_cuda: no kernel image is available for execution on the device\n",
            "error in modulated_deformable_col2im_coord_cuda: no kernel image is available for execution on the device\n",
            "error in modulated_deformable_col2im_cuda: no kernel image is available for execution on the device\n",
            "error in modulated_deformable_im2col_cuda: no kernel image is available for execution on the device\n",
            "error in modulated_deformable_col2im_coord_cuda: no kernel image is available for execution on the device\n",
            "error in modulated_deformable_col2im_cuda: no kernel image is available for execution on the device\n",
            "error in modulated_deformable_im2col_cuda: no kernel image is available for execution on the device\n",
            "error in modulated_deformable_col2im_coord_cuda: no kernel image is available for execution on the device\n",
            "error in modulated_deformable_col2im_cuda: no kernel image is available for execution on the device\n",
            "error in modulated_deformable_im2col_cuda: no kernel image is available for execution on the device\n",
            "error in modulated_deformable_col2im_coord_cuda: no kernel image is available for execution on the device\n",
            "error in modulated_deformable_col2im_cuda: no kernel image is available for execution on the device\n",
            "error in modulated_deformable_im2col_cuda: no kernel image is available for execution on the device\n",
            "error in modulated_deformable_col2im_coord_cuda: no kernel image is available for execution on the device\n",
            "error in modulated_deformable_col2im_cuda: no kernel image is available for execution on the device\n",
            "error in modulated_deformable_im2col_cuda: no kernel image is available for execution on the device\n",
            "error in modulated_deformable_col2im_coord_cuda: no kernel image is available for execution on the device\n",
            "error in modulated_deformable_col2im_cuda: no kernel image is available for execution on the device\n",
            "error in modulated_deformable_im2col_cuda: no kernel image is available for execution on the device\n",
            "error in modulated_deformable_col2im_coord_cuda: no kernel image is available for execution on the device\n",
            "error in modulated_deformable_col2im_cuda: no kernel image is available for execution on the device\n",
            "error in modulated_deformable_im2col_cuda: no kernel image is available for execution on the device\n",
            "error in modulated_deformable_col2im_coord_cuda: no kernel image is available for execution on the device\n",
            "error in modulated_deformable_col2im_cuda: no kernel image is available for execution on the device\n",
            "error in modulated_deformable_im2col_cuda: no kernel image is available for execution on the device\n",
            "error in modulated_deformable_col2im_coord_cuda: no kernel image is available for execution on the device\n",
            "error in modulated_deformable_col2im_cuda: no kernel image is available for execution on the device\n",
            "error in modulated_deformable_im2col_cuda: no kernel image is available for execution on the device\n",
            "error in modulated_deformable_col2im_coord_cuda: no kernel image is available for execution on the device\n",
            "error in modulated_deformable_col2im_cuda: no kernel image is available for execution on the device\n",
            "error in modulated_deformable_im2col_cuda: no kernel image is available for execution on the device\n",
            "error in modulated_deformable_col2im_coord_cuda: no kernel image is available for execution on the device\n",
            "error in modulated_deformable_col2im_cuda: no kernel image is available for execution on the device\n",
            "error in modulated_deformable_im2col_cuda: no kernel image is available for execution on the device\n",
            "error in modulated_deformable_col2im_coord_cuda: no kernel image is available for execution on the device\n",
            "error in modulated_deformable_col2im_cuda: no kernel image is available for execution on the device\n",
            "error in modulated_deformable_im2col_cuda: no kernel image is available for execution on the device\n",
            "error in modulated_deformable_col2im_coord_cuda: no kernel image is available for execution on the device\n",
            "error in modulated_deformable_col2im_cuda: no kernel image is available for execution on the device\n",
            "error in modulated_deformable_im2col_cuda: no kernel image is available for execution on the device\n",
            "error in modulated_deformable_col2im_coord_cuda: no kernel image is available for execution on the device\n",
            "error in modulated_deformable_col2im_cuda: no kernel image is available for execution on the device\n",
            "error in modulated_deformable_im2col_cuda: no kernel image is available for execution on the device\n",
            "error in modulated_deformable_col2im_coord_cuda: no kernel image is available for execution on the device\n",
            "error in modulated_deformable_col2im_cuda: no kernel image is available for execution on the device\n",
            "error in modulated_deformable_im2col_cuda: no kernel image is available for execution on the device\n",
            "error in modulated_deformable_col2im_coord_cuda: no kernel image is available for execution on the device\n",
            "error in modulated_deformable_col2im_cuda: no kernel image is available for execution on the device\n",
            "error in modulated_deformable_im2col_cuda: no kernel image is available for execution on the device\n",
            "error in modulated_deformable_col2im_coord_cuda: no kernel image is available for execution on the device\n",
            "error in modulated_deformable_col2im_cuda: no kernel image is available for execution on the device\n",
            "error in modulated_deformable_im2col_cuda: no kernel image is available for execution on the device\n",
            "error in modulated_deformable_col2im_coord_cuda: no kernel image is available for execution on the device\n",
            "error in modulated_deformable_col2im_cuda: no kernel image is available for execution on the device\n",
            "error in modulated_deformable_im2col_cuda: no kernel image is available for execution on the device\n",
            "error in modulated_deformable_col2im_coord_cuda: no kernel image is available for execution on the device\n",
            "error in modulated_deformable_col2im_cuda: no kernel image is available for execution on the device\n",
            "error in modulated_deformable_im2col_cuda: no kernel image is available for execution on the device\n",
            "error in modulated_deformable_col2im_coord_cuda: no kernel image is available for execution on the device\n",
            "error in modulated_deformable_col2im_cuda: no kernel image is available for execution on the device\n",
            "error in modulated_deformable_im2col_cuda: no kernel image is available for execution on the device\n",
            "error in modulated_deformable_col2im_coord_cuda: no kernel image is available for execution on the device\n",
            "error in modulated_deformable_col2im_cuda: no kernel image is available for execution on the device\n",
            "error in modulated_deformable_im2col_cuda: no kernel image is available for execution on the device\n",
            "error in modulated_deformable_col2im_coord_cuda: no kernel image is available for execution on the device\n",
            "error in modulated_deformable_col2im_cuda: no kernel image is available for execution on the device\n",
            "error in modulated_deformable_im2col_cuda: no kernel image is available for execution on the device\n",
            "error in modulated_deformable_col2im_coord_cuda: no kernel image is available for execution on the device\n",
            "error in modulated_deformable_col2im_cuda: no kernel image is available for execution on the device\n",
            "error in modulated_deformable_im2col_cuda: no kernel image is available for execution on the device\n",
            "error in modulated_deformable_col2im_coord_cuda: no kernel image is available for execution on the device\n",
            "error in modulated_deformable_col2im_cuda: no kernel image is available for execution on the device\n",
            "error in modulated_deformable_im2col_cuda: no kernel image is available for execution on the device\n",
            "mot/all_dla34 |                                | train: [1][0/664]|Tot: 0:00:32 |ETA: 0:00:00 |loss 32.3345 |hm_loss 5.6759 |wh_loss 18.4945 |off_loss 0.2490 |id_loss 6.3429 |Data 6.437s(6.437s) |Net 32.987serror in modulated_deformable_im2col_cuda: no kernel image is available for execution on the device\n",
            "error in modulated_deformable_im2col_cuda: no kernel image is available for execution on the device\n",
            "error in modulated_deformable_im2col_cuda: no kernel image is available for execution on the device\n",
            "error in modulated_deformable_im2col_cuda: no kernel image is available for execution on the device\n",
            "error in modulated_deformable_im2col_cuda: no kernel image is available for execution on the device\n",
            "error in modulated_deformable_im2col_cuda: no kernel image is available for execution on the device\n",
            "error in modulated_deformable_im2col_cuda: no kernel image is available for execution on the device\n",
            "error in modulated_deformable_im2col_cuda: no kernel image is available for execution on the device\n",
            "error in modulated_deformable_im2col_cuda: no kernel image is available for execution on the device\n",
            "error in modulated_deformable_im2col_cuda: no kernel image is available for execution on the device\n",
            "error in modulated_deformable_im2col_cuda: no kernel image is available for execution on the device\n",
            "error in modulated_deformable_im2col_cuda: no kernel image is available for execution on the device\n",
            "error in modulated_deformable_im2col_cuda: no kernel image is available for execution on the device\n",
            "error in modulated_deformable_im2col_cuda: no kernel image is available for execution on the device\n",
            "error in modulated_deformable_im2col_cuda: no kernel image is available for execution on the device\n",
            "error in modulated_deformable_im2col_cuda: no kernel image is available for execution on the device\n",
            "error in modulated_deformable_im2col_cuda: no kernel image is available for execution on the device\n",
            "error in modulated_deformable_im2col_cuda: no kernel image is available for execution on the device\n",
            "error in modulated_deformable_im2col_cuda: no kernel image is available for execution on the device\n",
            "error in modulated_deformable_im2col_cuda: no kernel image is available for execution on the device\n",
            "error in modulated_deformable_im2col_cuda: no kernel image is available for execution on the device\n",
            "error in modulated_deformable_im2col_cuda: no kernel image is available for execution on the device\n",
            "error in modulated_deformable_im2col_cuda: no kernel image is available for execution on the device\n",
            "error in modulated_deformable_im2col_cuda: no kernel image is available for execution on the device\n",
            "error in modulated_deformable_im2col_cuda: no kernel image is available for execution on the device\n",
            "error in modulated_deformable_im2col_cuda: no kernel image is available for execution on the device\n",
            "error in modulated_deformable_im2col_cuda: no kernel image is available for execution on the device\n",
            "error in modulated_deformable_im2col_cuda: no kernel image is available for execution on the device\n",
            "error in modulated_deformable_im2col_cuda: no kernel image is available for execution on the device\n",
            "error in modulated_deformable_im2col_cuda: no kernel image is available for execution on the device\n",
            "error in modulated_deformable_im2col_cuda: no kernel image is available for execution on the device\n",
            "error in modulated_deformable_im2col_cuda: no kernel image is available for execution on the device\n",
            "error in modulated_deformable_im2col_cuda: no kernel image is available for execution on the device\n",
            "error in modulated_deformable_im2col_cuda: no kernel image is available for execution on the device\n",
            "error in modulated_deformable_im2col_cuda: no kernel image is available for execution on the device\n",
            "error in modulated_deformable_im2col_cuda: no kernel image is available for execution on the device\n",
            "error in modulated_deformable_im2col_cuda: no kernel image is available for execution on the device\n",
            "error in modulated_deformable_im2col_cuda: no kernel image is available for execution on the device\n",
            "error in modulated_deformable_im2col_cuda: no kernel image is available for execution on the device\n",
            "error in modulated_deformable_im2col_cuda: no kernel image is available for execution on the device\n",
            "error in modulated_deformable_im2col_cuda: no kernel image is available for execution on the device\n",
            "error in modulated_deformable_im2col_cuda: no kernel image is available for execution on the device\n",
            "error in modulated_deformable_im2col_cuda: no kernel image is available for execution on the device\n",
            "error in modulated_deformable_im2col_cuda: no kernel image is available for execution on the device\n",
            "error in modulated_deformable_im2col_cuda: no kernel image is available for execution on the device\n",
            "error in modulated_deformable_im2col_cuda: no kernel image is available for execution on the device\n",
            "error in modulated_deformable_im2col_cuda: no kernel image is available for execution on the device\n",
            "error in modulated_deformable_im2col_cuda: no kernel image is available for execution on the device\n",
            "error in modulated_deformable_im2col_cuda: no kernel image is available for execution on the device\n",
            "error in modulated_deformable_im2col_cuda: no kernel image is available for execution on the device\n",
            "error in modulated_deformable_im2col_cuda: no kernel image is available for execution on the device\n",
            "error in modulated_deformable_im2col_cuda: no kernel image is available for execution on the device\n",
            "error in modulated_deformable_im2col_cuda: no kernel image is available for execution on the device\n",
            "error in modulated_deformable_im2col_cuda: no kernel image is available for execution on the device\n",
            "error in modulated_deformable_im2col_cuda: no kernel image is available for execution on the device\n",
            "error in modulated_deformable_im2col_cuda: no kernel image is available for execution on the device\n",
            "error in modulated_deformable_im2col_cuda: no kernel image is available for execution on the device\n",
            "error in modulated_deformable_im2col_cuda: no kernel image is available for execution on the device\n",
            "error in modulated_deformable_im2col_cuda: no kernel image is available for execution on the device\n",
            "error in modulated_deformable_im2col_cuda: no kernel image is available for execution on the device\n",
            "error in modulated_deformable_im2col_cuda: no kernel image is available for execution on the device\n",
            "error in modulated_deformable_im2col_cuda: no kernel image is available for execution on the device\n",
            "error in modulated_deformable_im2col_cuda: no kernel image is available for execution on the device\n",
            "error in modulated_deformable_im2col_cuda: no kernel image is available for execution on the device\n",
            "error in modulated_deformable_im2col_cuda: no kernel image is available for execution on the device\n",
            "error in modulated_deformable_im2col_cuda: no kernel image is available for execution on the device\n",
            "error in modulated_deformable_im2col_cuda: no kernel image is available for execution on the device\n",
            "error in modulated_deformable_im2col_cuda: no kernel image is available for execution on the device\n",
            "error in modulated_deformable_im2col_cuda: no kernel image is available for execution on the device\n",
            "error in modulated_deformable_im2col_cuda: no kernel image is available for execution on the device\n",
            "error in modulated_deformable_im2col_cuda: no kernel image is available for execution on the device\n",
            "error in modulated_deformable_im2col_cuda: no kernel image is available for execution on the device\n",
            "error in modulated_deformable_im2col_cuda: no kernel image is available for execution on the device\n",
            "error in modulated_deformable_im2col_cuda: no kernel image is available for execution on the device\n",
            "error in modulated_deformable_im2col_cuda: no kernel image is available for execution on the device\n",
            "error in modulated_deformable_im2col_cuda: no kernel image is available for execution on the device\n",
            "error in modulated_deformable_im2col_cuda: no kernel image is available for execution on the device\n",
            "error in modulated_deformable_im2col_cuda: no kernel image is available for execution on the device\n",
            "error in modulated_deformable_im2col_cuda: no kernel image is available for execution on the device\n",
            "error in modulated_deformable_im2col_cuda: no kernel image is available for execution on the device\n",
            "error in modulated_deformable_im2col_cuda: no kernel image is available for execution on the device\n",
            "error in modulated_deformable_im2col_cuda: no kernel image is available for execution on the device\n",
            "error in modulated_deformable_im2col_cuda: no kernel image is available for execution on the device\n",
            "error in modulated_deformable_im2col_cuda: no kernel image is available for execution on the device\n",
            "error in modulated_deformable_im2col_cuda: no kernel image is available for execution on the device\n",
            "error in modulated_deformable_im2col_cuda: no kernel image is available for execution on the device\n",
            "error in modulated_deformable_im2col_cuda: no kernel image is available for execution on the device\n",
            "error in modulated_deformable_im2col_cuda: no kernel image is available for execution on the device\n",
            "error in modulated_deformable_im2col_cuda: no kernel image is available for execution on the device\n",
            "error in modulated_deformable_im2col_cuda: no kernel image is available for execution on the device\n",
            "error in modulated_deformable_im2col_cuda: no kernel image is available for execution on the device\n",
            "error in modulated_deformable_im2col_cuda: no kernel image is available for execution on the device\n",
            "error in modulated_deformable_im2col_cuda: no kernel image is available for execution on the device\n",
            "error in modulated_deformable_im2col_cuda: no kernel image is available for execution on the device\n",
            "error in modulated_deformable_im2col_cuda: no kernel image is available for execution on the device\n",
            "error in modulated_deformable_im2col_cuda: no kernel image is available for execution on the device\n",
            "error in modulated_deformable_im2col_cuda: no kernel image is available for execution on the device\n",
            "error in modulated_deformable_im2col_cuda: no kernel image is available for execution on the device\n",
            "error in modulated_deformable_im2col_cuda: no kernel image is available for execution on the device\n",
            "error in modulated_deformable_im2col_cuda: no kernel image is available for execution on the device\n",
            "error in modulated_deformable_im2col_cuda: no kernel image is available for execution on the device\n",
            "error in modulated_deformable_im2col_cuda: no kernel image is available for execution on the device\n",
            "error in modulated_deformable_im2col_cuda: no kernel image is available for execution on the device\n",
            "error in modulated_deformable_im2col_cuda: no kernel image is available for execution on the device\n",
            "error in modulated_deformable_im2col_cuda: no kernel image is available for execution on the device\n",
            "error in modulated_deformable_im2col_cuda: no kernel image is available for execution on the device\n",
            "error in modulated_deformable_im2col_cuda: no kernel image is available for execution on the device\n",
            "error in modulated_deformable_im2col_cuda: no kernel image is available for execution on the device\n",
            "error in modulated_deformable_im2col_cuda: no kernel image is available for execution on the device\n",
            "error in modulated_deformable_im2col_cuda: no kernel image is available for execution on the device\n",
            "error in modulated_deformable_im2col_cuda: no kernel image is available for execution on the device\n",
            "error in modulated_deformable_im2col_cuda: no kernel image is available for execution on the device\n",
            "error in modulated_deformable_im2col_cuda: no kernel image is available for execution on the device\n",
            "error in modulated_deformable_im2col_cuda: no kernel image is available for execution on the device\n",
            "error in modulated_deformable_im2col_cuda: no kernel image is available for execution on the device\n",
            "error in modulated_deformable_im2col_cuda: no kernel image is available for execution on the device\n",
            "error in modulated_deformable_im2col_cuda: no kernel image is available for execution on the device\n",
            "error in modulated_deformable_im2col_cuda: no kernel image is available for execution on the device\n",
            "error in modulated_deformable_im2col_cuda: no kernel image is available for execution on the device\n",
            "error in modulated_deformable_im2col_cuda: no kernel image is available for execution on the device\n",
            "error in modulated_deformable_im2col_cuda: no kernel image is available for execution on the device\n",
            "error in modulated_deformable_im2col_cuda: no kernel image is available for execution on the device\n",
            "error in modulated_deformable_im2col_cuda: no kernel image is available for execution on the device\n",
            "error in modulated_deformable_im2col_cuda: no kernel image is available for execution on the device\n",
            "error in modulated_deformable_im2col_cuda: no kernel image is available for execution on the device\n",
            "error in modulated_deformable_im2col_cuda: no kernel image is available for execution on the device\n",
            "error in modulated_deformable_im2col_cuda: no kernel image is available for execution on the device\n",
            "error in modulated_deformable_im2col_cuda: no kernel image is available for execution on the device\n",
            "error in modulated_deformable_col2im_coord_cuda: no kernel image is available for execution on the device\n",
            "error in modulated_deformable_col2im_cuda: no kernel image is available for execution on the device\n",
            "error in modulated_deformable_im2col_cuda: no kernel image is available for execution on the device\n",
            "error in modulated_deformable_col2im_coord_cuda: no kernel image is available for execution on the device\n",
            "error in modulated_deformable_col2im_cuda: no kernel image is available for execution on the device\n",
            "error in modulated_deformable_im2col_cuda: no kernel image is available for execution on the device\n",
            "error in modulated_deformable_col2im_coord_cuda: no kernel image is available for execution on the device\n",
            "error in modulated_deformable_col2im_cuda: no kernel image is available for execution on the device\n",
            "error in modulated_deformable_im2col_cuda: no kernel image is available for execution on the device\n",
            "error in modulated_deformable_col2im_coord_cuda: no kernel image is available for execution on the device\n",
            "error in modulated_deformable_col2im_cuda: no kernel image is available for execution on the device\n",
            "error in modulated_deformable_im2col_cuda: no kernel image is available for execution on the device\n",
            "error in modulated_deformable_col2im_coord_cuda: no kernel image is available for execution on the device\n",
            "error in modulated_deformable_col2im_cuda: no kernel image is available for execution on the device\n",
            "error in modulated_deformable_im2col_cuda: no kernel image is available for execution on the device\n",
            "error in modulated_deformable_col2im_coord_cuda: no kernel image is available for execution on the device\n",
            "error in modulated_deformable_col2im_cuda: no kernel image is available for execution on the device\n",
            "error in modulated_deformable_im2col_cuda: no kernel image is available for execution on the device\n",
            "error in modulated_deformable_col2im_coord_cuda: no kernel image is available for execution on the device\n",
            "error in modulated_deformable_col2im_cuda: no kernel image is available for execution on the device\n",
            "error in modulated_deformable_im2col_cuda: no kernel image is available for execution on the device\n",
            "error in modulated_deformable_col2im_coord_cuda: no kernel image is available for execution on the device\n",
            "error in modulated_deformable_col2im_cuda: no kernel image is available for execution on the device\n",
            "error in modulated_deformable_im2col_cuda: no kernel image is available for execution on the device\n",
            "error in modulated_deformable_col2im_coord_cuda: no kernel image is available for execution on the device\n",
            "error in modulated_deformable_col2im_cuda: no kernel image is available for execution on the device\n",
            "error in modulated_deformable_im2col_cuda: no kernel image is available for execution on the device\n",
            "error in modulated_deformable_col2im_coord_cuda: no kernel image is available for execution on the device\n",
            "error in modulated_deformable_col2im_cuda: no kernel image is available for execution on the device\n",
            "error in modulated_deformable_im2col_cuda: no kernel image is available for execution on the device\n",
            "error in modulated_deformable_col2im_coord_cuda: no kernel image is available for execution on the device\n",
            "error in modulated_deformable_col2im_cuda: no kernel image is available for execution on the device\n",
            "error in modulated_deformable_im2col_cuda: no kernel image is available for execution on the device\n",
            "error in modulated_deformable_col2im_coord_cuda: no kernel image is available for execution on the device\n",
            "error in modulated_deformable_col2im_cuda: no kernel image is available for execution on the device\n",
            "error in modulated_deformable_im2col_cuda: no kernel image is available for execution on the device\n",
            "error in modulated_deformable_col2im_coord_cuda: no kernel image is available for execution on the device\n",
            "error in modulated_deformable_col2im_cuda: no kernel image is available for execution on the device\n",
            "error in modulated_deformable_im2col_cuda: no kernel image is available for execution on the device\n",
            "error in modulated_deformable_col2im_coord_cuda: no kernel image is available for execution on the device\n",
            "error in modulated_deformable_col2im_cuda: no kernel image is available for execution on the device\n",
            "error in modulated_deformable_im2col_cuda: no kernel image is available for execution on the device\n",
            "error in modulated_deformable_col2im_coord_cuda: no kernel image is available for execution on the device\n",
            "error in modulated_deformable_col2im_cuda: no kernel image is available for execution on the device\n",
            "error in modulated_deformable_im2col_cuda: no kernel image is available for execution on the device\n",
            "error in modulated_deformable_col2im_coord_cuda: no kernel image is available for execution on the device\n",
            "error in modulated_deformable_col2im_cuda: no kernel image is available for execution on the device\n",
            "error in modulated_deformable_im2col_cuda: no kernel image is available for execution on the device\n",
            "error in modulated_deformable_col2im_coord_cuda: no kernel image is available for execution on the device\n",
            "error in modulated_deformable_col2im_cuda: no kernel image is available for execution on the device\n",
            "error in modulated_deformable_im2col_cuda: no kernel image is available for execution on the device\n",
            "error in modulated_deformable_col2im_coord_cuda: no kernel image is available for execution on the device\n",
            "error in modulated_deformable_col2im_cuda: no kernel image is available for execution on the device\n",
            "error in modulated_deformable_im2col_cuda: no kernel image is available for execution on the device\n",
            "error in modulated_deformable_col2im_coord_cuda: no kernel image is available for execution on the device\n",
            "error in modulated_deformable_col2im_cuda: no kernel image is available for execution on the device\n",
            "error in modulated_deformable_im2col_cuda: no kernel image is available for execution on the device\n",
            "error in modulated_deformable_col2im_coord_cuda: no kernel image is available for execution on the device\n",
            "error in modulated_deformable_col2im_cuda: no kernel image is available for execution on the device\n",
            "error in modulated_deformable_im2col_cuda: no kernel image is available for execution on the device\n",
            "error in modulated_deformable_col2im_coord_cuda: no kernel image is available for execution on the device\n",
            "error in modulated_deformable_col2im_cuda: no kernel image is available for execution on the device\n",
            "error in modulated_deformable_im2col_cuda: no kernel image is available for execution on the device\n",
            "error in modulated_deformable_col2im_coord_cuda: no kernel image is available for execution on the device\n",
            "error in modulated_deformable_col2im_cuda: no kernel image is available for execution on the device\n",
            "error in modulated_deformable_im2col_cuda: no kernel image is available for execution on the device\n",
            "error in modulated_deformable_col2im_coord_cuda: no kernel image is available for execution on the device\n",
            "error in modulated_deformable_col2im_cuda: no kernel image is available for execution on the device\n",
            "error in modulated_deformable_im2col_cuda: no kernel image is available for execution on the device\n",
            "error in modulated_deformable_col2im_coord_cuda: no kernel image is available for execution on the device\n",
            "error in modulated_deformable_col2im_cuda: no kernel image is available for execution on the device\n",
            "error in modulated_deformable_im2col_cuda: no kernel image is available for execution on the device\n",
            "error in modulated_deformable_col2im_coord_cuda: no kernel image is available for execution on the device\n",
            "error in modulated_deformable_col2im_cuda: no kernel image is available for execution on the device\n",
            "error in modulated_deformable_im2col_cuda: no kernel image is available for execution on the device\n",
            "error in modulated_deformable_col2im_coord_cuda: no kernel image is available for execution on the device\n",
            "error in modulated_deformable_col2im_cuda: no kernel image is available for execution on the device\n",
            "error in modulated_deformable_im2col_cuda: no kernel image is available for execution on the device\n",
            "error in modulated_deformable_col2im_coord_cuda: no kernel image is available for execution on the device\n",
            "error in modulated_deformable_col2im_cuda: no kernel image is available for execution on the device\n",
            "error in modulated_deformable_im2col_cuda: no kernel image is available for execution on the device\n",
            "error in modulated_deformable_col2im_coord_cuda: no kernel image is available for execution on the device\n",
            "error in modulated_deformable_col2im_cuda: no kernel image is available for execution on the device\n",
            "error in modulated_deformable_im2col_cuda: no kernel image is available for execution on the device\n",
            "error in modulated_deformable_col2im_coord_cuda: no kernel image is available for execution on the device\n",
            "error in modulated_deformable_col2im_cuda: no kernel image is available for execution on the device\n",
            "error in modulated_deformable_im2col_cuda: no kernel image is available for execution on the device\n",
            "error in modulated_deformable_col2im_coord_cuda: no kernel image is available for execution on the device\n",
            "error in modulated_deformable_col2im_cuda: no kernel image is available for execution on the device\n",
            "error in modulated_deformable_im2col_cuda: no kernel image is available for execution on the device\n",
            "error in modulated_deformable_col2im_coord_cuda: no kernel image is available for execution on the device\n",
            "error in modulated_deformable_col2im_cuda: no kernel image is available for execution on the device\n",
            "error in modulated_deformable_im2col_cuda: no kernel image is available for execution on the device\n",
            "error in modulated_deformable_col2im_coord_cuda: no kernel image is available for execution on the device\n",
            "error in modulated_deformable_col2im_cuda: no kernel image is available for execution on the device\n",
            "error in modulated_deformable_im2col_cuda: no kernel image is available for execution on the device\n",
            "error in modulated_deformable_col2im_coord_cuda: no kernel image is available for execution on the device\n",
            "error in modulated_deformable_col2im_cuda: no kernel image is available for execution on the device\n",
            "error in modulated_deformable_im2col_cuda: no kernel image is available for execution on the device\n",
            "error in modulated_deformable_col2im_coord_cuda: no kernel image is available for execution on the device\n",
            "error in modulated_deformable_col2im_cuda: no kernel image is available for execution on the device\n",
            "error in modulated_deformable_im2col_cuda: no kernel image is available for execution on the device\n",
            "error in modulated_deformable_col2im_coord_cuda: no kernel image is available for execution on the device\n",
            "error in modulated_deformable_col2im_cuda: no kernel image is available for execution on the device\n",
            "error in modulated_deformable_im2col_cuda: no kernel image is available for execution on the device\n",
            "error in modulated_deformable_col2im_coord_cuda: no kernel image is available for execution on the device\n",
            "error in modulated_deformable_col2im_cuda: no kernel image is available for execution on the device\n",
            "error in modulated_deformable_im2col_cuda: no kernel image is available for execution on the device\n",
            "error in modulated_deformable_col2im_coord_cuda: no kernel image is available for execution on the device\n",
            "error in modulated_deformable_col2im_cuda: no kernel image is available for execution on the device\n",
            "error in modulated_deformable_im2col_cuda: no kernel image is available for execution on the device\n",
            "error in modulated_deformable_col2im_coord_cuda: no kernel image is available for execution on the device\n",
            "error in modulated_deformable_col2im_cuda: no kernel image is available for execution on the device\n",
            "error in modulated_deformable_im2col_cuda: no kernel image is available for execution on the device\n",
            "error in modulated_deformable_col2im_coord_cuda: no kernel image is available for execution on the device\n",
            "error in modulated_deformable_col2im_cuda: no kernel image is available for execution on the device\n",
            "error in modulated_deformable_im2col_cuda: no kernel image is available for execution on the device\n",
            "error in modulated_deformable_col2im_coord_cuda: no kernel image is available for execution on the device\n",
            "error in modulated_deformable_col2im_cuda: no kernel image is available for execution on the device\n",
            "error in modulated_deformable_im2col_cuda: no kernel image is available for execution on the device\n",
            "error in modulated_deformable_col2im_coord_cuda: no kernel image is available for execution on the device\n",
            "error in modulated_deformable_col2im_cuda: no kernel image is available for execution on the device\n",
            "error in modulated_deformable_im2col_cuda: no kernel image is available for execution on the device\n",
            "error in modulated_deformable_col2im_coord_cuda: no kernel image is available for execution on the device\n",
            "error in modulated_deformable_col2im_cuda: no kernel image is available for execution on the device\n",
            "error in modulated_deformable_im2col_cuda: no kernel image is available for execution on the device\n",
            "error in modulated_deformable_col2im_coord_cuda: no kernel image is available for execution on the device\n",
            "error in modulated_deformable_col2im_cuda: no kernel image is available for execution on the device\n",
            "error in modulated_deformable_im2col_cuda: no kernel image is available for execution on the device\n",
            "error in modulated_deformable_col2im_coord_cuda: no kernel image is available for execution on the device\n",
            "error in modulated_deformable_col2im_cuda: no kernel image is available for execution on the device\n",
            "error in modulated_deformable_im2col_cuda: no kernel image is available for execution on the device\n",
            "error in modulated_deformable_col2im_coord_cuda: no kernel image is available for execution on the device\n",
            "error in modulated_deformable_col2im_cuda: no kernel image is available for execution on the device\n",
            "error in modulated_deformable_im2col_cuda: no kernel image is available for execution on the device\n",
            "error in modulated_deformable_col2im_coord_cuda: no kernel image is available for execution on the device\n",
            "error in modulated_deformable_col2im_cuda: no kernel image is available for execution on the device\n",
            "error in modulated_deformable_im2col_cuda: no kernel image is available for execution on the device\n",
            "error in modulated_deformable_col2im_coord_cuda: no kernel image is available for execution on the device\n",
            "error in modulated_deformable_col2im_cuda: no kernel image is available for execution on the device\n",
            "error in modulated_deformable_im2col_cuda: no kernel image is available for execution on the device\n",
            "error in modulated_deformable_col2im_coord_cuda: no kernel image is available for execution on the device\n",
            "error in modulated_deformable_col2im_cuda: no kernel image is available for execution on the device\n",
            "error in modulated_deformable_im2col_cuda: no kernel image is available for execution on the device\n",
            "error in modulated_deformable_col2im_coord_cuda: no kernel image is available for execution on the device\n",
            "error in modulated_deformable_col2im_cuda: no kernel image is available for execution on the device\n",
            "error in modulated_deformable_im2col_cuda: no kernel image is available for execution on the device\n",
            "error in modulated_deformable_col2im_coord_cuda: no kernel image is available for execution on the device\n",
            "error in modulated_deformable_col2im_cuda: no kernel image is available for execution on the device\n",
            "error in modulated_deformable_im2col_cuda: no kernel image is available for execution on the device\n",
            "error in modulated_deformable_col2im_coord_cuda: no kernel image is available for execution on the device\n",
            "error in modulated_deformable_col2im_cuda: no kernel image is available for execution on the device\n",
            "error in modulated_deformable_im2col_cuda: no kernel image is available for execution on the device\n",
            "error in modulated_deformable_col2im_coord_cuda: no kernel image is available for execution on the device\n",
            "error in modulated_deformable_col2im_cuda: no kernel image is available for execution on the device\n",
            "error in modulated_deformable_im2col_cuda: no kernel image is available for execution on the device\n",
            "error in modulated_deformable_col2im_coord_cuda: no kernel image is available for execution on the device\n",
            "error in modulated_deformable_col2im_cuda: no kernel image is available for execution on the device\n",
            "error in modulated_deformable_im2col_cuda: no kernel image is available for execution on the device\n",
            "error in modulated_deformable_col2im_coord_cuda: no kernel image is available for execution on the device\n",
            "error in modulated_deformable_col2im_cuda: no kernel image is available for execution on the device\n",
            "error in modulated_deformable_im2col_cuda: no kernel image is available for execution on the device\n",
            "error in modulated_deformable_col2im_coord_cuda: no kernel image is available for execution on the device\n",
            "error in modulated_deformable_col2im_cuda: no kernel image is available for execution on the device\n",
            "error in modulated_deformable_im2col_cuda: no kernel image is available for execution on the device\n",
            "error in modulated_deformable_col2im_coord_cuda: no kernel image is available for execution on the device\n",
            "error in modulated_deformable_col2im_cuda: no kernel image is available for execution on the device\n",
            "error in modulated_deformable_im2col_cuda: no kernel image is available for execution on the device\n",
            "error in modulated_deformable_col2im_coord_cuda: no kernel image is available for execution on the device\n",
            "error in modulated_deformable_col2im_cuda: no kernel image is available for execution on the device\n",
            "error in modulated_deformable_im2col_cuda: no kernel image is available for execution on the device\n",
            "error in modulated_deformable_col2im_coord_cuda: no kernel image is available for execution on the device\n",
            "error in modulated_deformable_col2im_cuda: no kernel image is available for execution on the device\n",
            "error in modulated_deformable_im2col_cuda: no kernel image is available for execution on the device\n",
            "error in modulated_deformable_col2im_coord_cuda: no kernel image is available for execution on the device\n",
            "error in modulated_deformable_col2im_cuda: no kernel image is available for execution on the device\n",
            "error in modulated_deformable_im2col_cuda: no kernel image is available for execution on the device\n",
            "error in modulated_deformable_col2im_coord_cuda: no kernel image is available for execution on the device\n",
            "error in modulated_deformable_col2im_cuda: no kernel image is available for execution on the device\n",
            "error in modulated_deformable_im2col_cuda: no kernel image is available for execution on the device\n",
            "error in modulated_deformable_col2im_coord_cuda: no kernel image is available for execution on the device\n",
            "error in modulated_deformable_col2im_cuda: no kernel image is available for execution on the device\n",
            "error in modulated_deformable_im2col_cuda: no kernel image is available for execution on the device\n",
            "error in modulated_deformable_col2im_coord_cuda: no kernel image is available for execution on the device\n",
            "error in modulated_deformable_col2im_cuda: no kernel image is available for execution on the device\n",
            "error in modulated_deformable_im2col_cuda: no kernel image is available for execution on the device\n",
            "error in modulated_deformable_col2im_coord_cuda: no kernel image is available for execution on the device\n",
            "error in modulated_deformable_col2im_cuda: no kernel image is available for execution on the device\n",
            "error in modulated_deformable_im2col_cuda: no kernel image is available for execution on the device\n",
            "error in modulated_deformable_col2im_coord_cuda: no kernel image is available for execution on the device\n",
            "error in modulated_deformable_col2im_cuda: no kernel image is available for execution on the device\n",
            "error in modulated_deformable_im2col_cuda: no kernel image is available for execution on the device\n",
            "error in modulated_deformable_col2im_coord_cuda: no kernel image is available for execution on the device\n",
            "error in modulated_deformable_col2im_cuda: no kernel image is available for execution on the device\n",
            "error in modulated_deformable_im2col_cuda: no kernel image is available for execution on the device\n",
            "error in modulated_deformable_col2im_coord_cuda: no kernel image is available for execution on the device\n",
            "error in modulated_deformable_col2im_cuda: no kernel image is available for execution on the device\n",
            "error in modulated_deformable_im2col_cuda: no kernel image is available for execution on the device\n",
            "error in modulated_deformable_col2im_coord_cuda: no kernel image is available for execution on the device\n",
            "error in modulated_deformable_col2im_cuda: no kernel image is available for execution on the device\n",
            "error in modulated_deformable_im2col_cuda: no kernel image is available for execution on the device\n",
            "error in modulated_deformable_col2im_coord_cuda: no kernel image is available for execution on the device\n",
            "error in modulated_deformable_col2im_cuda: no kernel image is available for execution on the device\n",
            "error in modulated_deformable_im2col_cuda: no kernel image is available for execution on the device\n",
            "error in modulated_deformable_col2im_coord_cuda: no kernel image is available for execution on the device\n",
            "error in modulated_deformable_col2im_cuda: no kernel image is available for execution on the device\n",
            "error in modulated_deformable_im2col_cuda: no kernel image is available for execution on the device\n",
            "error in modulated_deformable_col2im_coord_cuda: no kernel image is available for execution on the device\n",
            "error in modulated_deformable_col2im_cuda: no kernel image is available for execution on the device\n",
            "error in modulated_deformable_im2col_cuda: no kernel image is available for execution on the device\n",
            "error in modulated_deformable_col2im_coord_cuda: no kernel image is available for execution on the device\n",
            "error in modulated_deformable_col2im_cuda: no kernel image is available for execution on the device\n",
            "error in modulated_deformable_im2col_cuda: no kernel image is available for execution on the device\n",
            "error in modulated_deformable_col2im_coord_cuda: no kernel image is available for execution on the device\n",
            "error in modulated_deformable_col2im_cuda: no kernel image is available for execution on the device\n",
            "error in modulated_deformable_im2col_cuda: no kernel image is available for execution on the device\n",
            "error in modulated_deformable_col2im_coord_cuda: no kernel image is available for execution on the device\n",
            "error in modulated_deformable_col2im_cuda: no kernel image is available for execution on the device\n",
            "error in modulated_deformable_im2col_cuda: no kernel image is available for execution on the device\n",
            "error in modulated_deformable_col2im_coord_cuda: no kernel image is available for execution on the device\n",
            "error in modulated_deformable_col2im_cuda: no kernel image is available for execution on the device\n",
            "error in modulated_deformable_im2col_cuda: no kernel image is available for execution on the device\n",
            "error in modulated_deformable_col2im_coord_cuda: no kernel image is available for execution on the device\n",
            "error in modulated_deformable_col2im_cuda: no kernel image is available for execution on the device\n",
            "error in modulated_deformable_im2col_cuda: no kernel image is available for execution on the device\n",
            "error in modulated_deformable_col2im_coord_cuda: no kernel image is available for execution on the device\n",
            "error in modulated_deformable_col2im_cuda: no kernel image is available for execution on the device\n",
            "error in modulated_deformable_im2col_cuda: no kernel image is available for execution on the device\n",
            "error in modulated_deformable_col2im_coord_cuda: no kernel image is available for execution on the device\n",
            "error in modulated_deformable_col2im_cuda: no kernel image is available for execution on the device\n",
            "error in modulated_deformable_im2col_cuda: no kernel image is available for execution on the device\n",
            "error in modulated_deformable_col2im_coord_cuda: no kernel image is available for execution on the device\n",
            "error in modulated_deformable_col2im_cuda: no kernel image is available for execution on the device\n",
            "error in modulated_deformable_im2col_cuda: no kernel image is available for execution on the device\n",
            "error in modulated_deformable_col2im_coord_cuda: no kernel image is available for execution on the device\n",
            "error in modulated_deformable_col2im_cuda: no kernel image is available for execution on the device\n",
            "error in modulated_deformable_im2col_cuda: no kernel image is available for execution on the device\n",
            "error in modulated_deformable_col2im_coord_cuda: no kernel image is available for execution on the device\n",
            "error in modulated_deformable_col2im_cuda: no kernel image is available for execution on the device\n",
            "error in modulated_deformable_im2col_cuda: no kernel image is available for execution on the device\n",
            "error in modulated_deformable_col2im_coord_cuda: no kernel image is available for execution on the device\n",
            "error in modulated_deformable_col2im_cuda: no kernel image is available for execution on the device\n",
            "error in modulated_deformable_im2col_cuda: no kernel image is available for execution on the device\n",
            "error in modulated_deformable_col2im_coord_cuda: no kernel image is available for execution on the device\n",
            "error in modulated_deformable_col2im_cuda: no kernel image is available for execution on the device\n",
            "error in modulated_deformable_im2col_cuda: no kernel image is available for execution on the device\n",
            "error in modulated_deformable_col2im_coord_cuda: no kernel image is available for execution on the device\n",
            "error in modulated_deformable_col2im_cuda: no kernel image is available for execution on the device\n",
            "error in modulated_deformable_im2col_cuda: no kernel image is available for execution on the device\n",
            "error in modulated_deformable_col2im_coord_cuda: no kernel image is available for execution on the device\n",
            "error in modulated_deformable_col2im_cuda: no kernel image is available for execution on the device\n",
            "error in modulated_deformable_im2col_cuda: no kernel image is available for execution on the device\n",
            "error in modulated_deformable_col2im_coord_cuda: no kernel image is available for execution on the device\n",
            "error in modulated_deformable_col2im_cuda: no kernel image is available for execution on the device\n",
            "error in modulated_deformable_im2col_cuda: no kernel image is available for execution on the device\n",
            "error in modulated_deformable_col2im_coord_cuda: no kernel image is available for execution on the device\n",
            "error in modulated_deformable_col2im_cuda: no kernel image is available for execution on the device\n",
            "error in modulated_deformable_im2col_cuda: no kernel image is available for execution on the device\n",
            "error in modulated_deformable_col2im_coord_cuda: no kernel image is available for execution on the device\n",
            "error in modulated_deformable_col2im_cuda: no kernel image is available for execution on the device\n",
            "error in modulated_deformable_im2col_cuda: no kernel image is available for execution on the device\n",
            "error in modulated_deformable_col2im_coord_cuda: no kernel image is available for execution on the device\n",
            "error in modulated_deformable_col2im_cuda: no kernel image is available for execution on the device\n",
            "error in modulated_deformable_im2col_cuda: no kernel image is available for execution on the device\n",
            "error in modulated_deformable_col2im_coord_cuda: no kernel image is available for execution on the device\n",
            "error in modulated_deformable_col2im_cuda: no kernel image is available for execution on the device\n",
            "error in modulated_deformable_im2col_cuda: no kernel image is available for execution on the device\n",
            "error in modulated_deformable_col2im_coord_cuda: no kernel image is available for execution on the device\n",
            "error in modulated_deformable_col2im_cuda: no kernel image is available for execution on the device\n",
            "error in modulated_deformable_im2col_cuda: no kernel image is available for execution on the device\n",
            "error in modulated_deformable_col2im_coord_cuda: no kernel image is available for execution on the device\n",
            "error in modulated_deformable_col2im_cuda: no kernel image is available for execution on the device\n",
            "error in modulated_deformable_im2col_cuda: no kernel image is available for execution on the device\n",
            "error in modulated_deformable_col2im_coord_cuda: no kernel image is available for execution on the device\n",
            "error in modulated_deformable_col2im_cuda: no kernel image is available for execution on the device\n",
            "error in modulated_deformable_im2col_cuda: no kernel image is available for execution on the device\n",
            "error in modulated_deformable_col2im_coord_cuda: no kernel image is available for execution on the device\n",
            "error in modulated_deformable_col2im_cuda: no kernel image is available for execution on the device\n",
            "error in modulated_deformable_im2col_cuda: no kernel image is available for execution on the device\n",
            "error in modulated_deformable_col2im_coord_cuda: no kernel image is available for execution on the device\n",
            "error in modulated_deformable_col2im_cuda: no kernel image is available for execution on the device\n",
            "error in modulated_deformable_im2col_cuda: no kernel image is available for execution on the device\n",
            "error in modulated_deformable_col2im_coord_cuda: no kernel image is available for execution on the device\n",
            "error in modulated_deformable_col2im_cuda: no kernel image is available for execution on the device\n",
            "error in modulated_deformable_im2col_cuda: no kernel image is available for execution on the device\n",
            "error in modulated_deformable_col2im_coord_cuda: no kernel image is available for execution on the device\n",
            "error in modulated_deformable_col2im_cuda: no kernel image is available for execution on the device\n",
            "error in modulated_deformable_im2col_cuda: no kernel image is available for execution on the device\n",
            "error in modulated_deformable_col2im_coord_cuda: no kernel image is available for execution on the device\n",
            "error in modulated_deformable_col2im_cuda: no kernel image is available for execution on the device\n",
            "error in modulated_deformable_im2col_cuda: no kernel image is available for execution on the device\n",
            "error in modulated_deformable_col2im_coord_cuda: no kernel image is available for execution on the device\n",
            "error in modulated_deformable_col2im_cuda: no kernel image is available for execution on the device\n",
            "error in modulated_deformable_im2col_cuda: no kernel image is available for execution on the device\n",
            "error in modulated_deformable_col2im_coord_cuda: no kernel image is available for execution on the device\n",
            "error in modulated_deformable_col2im_cuda: no kernel image is available for execution on the device\n",
            "error in modulated_deformable_im2col_cuda: no kernel image is available for execution on the device\n",
            "error in modulated_deformable_col2im_coord_cuda: no kernel image is available for execution on the device\n",
            "error in modulated_deformable_col2im_cuda: no kernel image is available for execution on the device\n",
            "error in modulated_deformable_im2col_cuda: no kernel image is available for execution on the device\n",
            "error in modulated_deformable_col2im_coord_cuda: no kernel image is available for execution on the device\n",
            "error in modulated_deformable_col2im_cuda: no kernel image is available for execution on the device\n",
            "error in modulated_deformable_im2col_cuda: no kernel image is available for execution on the device\n",
            "error in modulated_deformable_col2im_coord_cuda: no kernel image is available for execution on the device\n",
            "error in modulated_deformable_col2im_cuda: no kernel image is available for execution on the device\n",
            "error in modulated_deformable_im2col_cuda: no kernel image is available for execution on the device\n",
            "error in modulated_deformable_col2im_coord_cuda: no kernel image is available for execution on the device\n",
            "error in modulated_deformable_col2im_cuda: no kernel image is available for execution on the device\n",
            "error in modulated_deformable_im2col_cuda: no kernel image is available for execution on the device\n",
            "error in modulated_deformable_col2im_coord_cuda: no kernel image is available for execution on the device\n",
            "error in modulated_deformable_col2im_cuda: no kernel image is available for execution on the device\n",
            "error in modulated_deformable_im2col_cuda: no kernel image is available for execution on the device\n",
            "error in modulated_deformable_col2im_coord_cuda: no kernel image is available for execution on the device\n",
            "error in modulated_deformable_col2im_cuda: no kernel image is available for execution on the device\n",
            "error in modulated_deformable_im2col_cuda: no kernel image is available for execution on the device\n",
            "error in modulated_deformable_col2im_coord_cuda: no kernel image is available for execution on the device\n",
            "error in modulated_deformable_col2im_cuda: no kernel image is available for execution on the device\n",
            "error in modulated_deformable_im2col_cuda: no kernel image is available for execution on the device\n",
            "error in modulated_deformable_col2im_coord_cuda: no kernel image is available for execution on the device\n",
            "error in modulated_deformable_col2im_cuda: no kernel image is available for execution on the device\n",
            "error in modulated_deformable_im2col_cuda: no kernel image is available for execution on the device\n",
            "error in modulated_deformable_col2im_coord_cuda: no kernel image is available for execution on the device\n",
            "error in modulated_deformable_col2im_cuda: no kernel image is available for execution on the device\n",
            "error in modulated_deformable_im2col_cuda: no kernel image is available for execution on the device\n",
            "error in modulated_deformable_col2im_coord_cuda: no kernel image is available for execution on the device\n",
            "error in modulated_deformable_col2im_cuda: no kernel image is available for execution on the device\n",
            "error in modulated_deformable_im2col_cuda: no kernel image is available for execution on the device\n",
            "error in modulated_deformable_col2im_coord_cuda: no kernel image is available for execution on the device\n",
            "error in modulated_deformable_col2im_cuda: no kernel image is available for execution on the device\n",
            "error in modulated_deformable_im2col_cuda: no kernel image is available for execution on the device\n",
            "error in modulated_deformable_col2im_coord_cuda: no kernel image is available for execution on the device\n",
            "error in modulated_deformable_col2im_cuda: no kernel image is available for execution on the device\n",
            "error in modulated_deformable_im2col_cuda: no kernel image is available for execution on the device\n",
            "error in modulated_deformable_col2im_coord_cuda: no kernel image is available for execution on the device\n",
            "error in modulated_deformable_col2im_cuda: no kernel image is available for execution on the device\n",
            "error in modulated_deformable_im2col_cuda: no kernel image is available for execution on the device\n",
            "error in modulated_deformable_col2im_coord_cuda: no kernel image is available for execution on the device\n",
            "error in modulated_deformable_col2im_cuda: no kernel image is available for execution on the device\n",
            "error in modulated_deformable_im2col_cuda: no kernel image is available for execution on the device\n",
            "error in modulated_deformable_col2im_coord_cuda: no kernel image is available for execution on the device\n",
            "error in modulated_deformable_col2im_cuda: no kernel image is available for execution on the device\n",
            "error in modulated_deformable_im2col_cuda: no kernel image is available for execution on the device\n",
            "error in modulated_deformable_col2im_coord_cuda: no kernel image is available for execution on the device\n",
            "error in modulated_deformable_col2im_cuda: no kernel image is available for execution on the device\n",
            "error in modulated_deformable_im2col_cuda: no kernel image is available for execution on the device\n",
            "error in modulated_deformable_col2im_coord_cuda: no kernel image is available for execution on the device\n",
            "error in modulated_deformable_col2im_cuda: no kernel image is available for execution on the device\n",
            "error in modulated_deformable_im2col_cuda: no kernel image is available for execution on the device\n",
            "error in modulated_deformable_col2im_coord_cuda: no kernel image is available for execution on the device\n",
            "error in modulated_deformable_col2im_cuda: no kernel image is available for execution on the device\n",
            "error in modulated_deformable_im2col_cuda: no kernel image is available for execution on the device\n",
            "error in modulated_deformable_col2im_coord_cuda: no kernel image is available for execution on the device\n",
            "error in modulated_deformable_col2im_cuda: no kernel image is available for execution on the device\n",
            "error in modulated_deformable_im2col_cuda: no kernel image is available for execution on the device\n",
            "error in modulated_deformable_col2im_coord_cuda: no kernel image is available for execution on the device\n",
            "error in modulated_deformable_col2im_cuda: no kernel image is available for execution on the device\n",
            "error in modulated_deformable_im2col_cuda: no kernel image is available for execution on the device\n",
            "error in modulated_deformable_col2im_coord_cuda: no kernel image is available for execution on the device\n",
            "error in modulated_deformable_col2im_cuda: no kernel image is available for execution on the device\n",
            "error in modulated_deformable_im2col_cuda: no kernel image is available for execution on the device\n",
            "error in modulated_deformable_col2im_coord_cuda: no kernel image is available for execution on the device\n",
            "error in modulated_deformable_col2im_cuda: no kernel image is available for execution on the device\n",
            "error in modulated_deformable_im2col_cuda: no kernel image is available for execution on the device\n",
            "error in modulated_deformable_col2im_coord_cuda: no kernel image is available for execution on the device\n",
            "error in modulated_deformable_col2im_cuda: no kernel image is available for execution on the device\n",
            "error in modulated_deformable_im2col_cuda: no kernel image is available for execution on the device\n",
            "error in modulated_deformable_col2im_coord_cuda: no kernel image is available for execution on the device\n",
            "error in modulated_deformable_col2im_cuda: no kernel image is available for execution on the device\n",
            "error in modulated_deformable_im2col_cuda: no kernel image is available for execution on the device\n",
            "error in modulated_deformable_col2im_coord_cuda: no kernel image is available for execution on the device\n",
            "error in modulated_deformable_col2im_cuda: no kernel image is available for execution on the device\n",
            "error in modulated_deformable_im2col_cuda: no kernel image is available for execution on the device\n",
            "error in modulated_deformable_col2im_coord_cuda: no kernel image is available for execution on the device\n",
            "error in modulated_deformable_col2im_cuda: no kernel image is available for execution on the device\n",
            "error in modulated_deformable_im2col_cuda: no kernel image is available for execution on the device\n",
            "error in modulated_deformable_col2im_coord_cuda: no kernel image is available for execution on the device\n",
            "error in modulated_deformable_col2im_cuda: no kernel image is available for execution on the device\n",
            "error in modulated_deformable_im2col_cuda: no kernel image is available for execution on the device\n",
            "error in modulated_deformable_col2im_coord_cuda: no kernel image is available for execution on the device\n",
            "error in modulated_deformable_col2im_cuda: no kernel image is available for execution on the device\n",
            "error in modulated_deformable_im2col_cuda: no kernel image is available for execution on the device\n",
            "error in modulated_deformable_col2im_coord_cuda: no kernel image is available for execution on the device\n",
            "error in modulated_deformable_col2im_cuda: no kernel image is available for execution on the device\n",
            "error in modulated_deformable_im2col_cuda: no kernel image is available for execution on the device\n",
            "mot/all_dla34 |                                | train: [1][1/664]|Tot: 0:00:36 |ETA: 6:04:36 |loss 32.3471 |hm_loss 5.7021 |wh_loss 18.2817 |off_loss 0.2503 |id_loss 6.3378 |Data 0.008s(3.223s) |Net 18.192serror in modulated_deformable_im2col_cuda: no kernel image is available for execution on the device\n",
            "error in modulated_deformable_im2col_cuda: no kernel image is available for execution on the device\n",
            "error in modulated_deformable_im2col_cuda: no kernel image is available for execution on the device\n",
            "error in modulated_deformable_im2col_cuda: no kernel image is available for execution on the device\n",
            "error in modulated_deformable_im2col_cuda: no kernel image is available for execution on the device\n",
            "error in modulated_deformable_im2col_cuda: no kernel image is available for execution on the device\n",
            "error in modulated_deformable_im2col_cuda: no kernel image is available for execution on the device\n",
            "error in modulated_deformable_im2col_cuda: no kernel image is available for execution on the device\n",
            "error in modulated_deformable_im2col_cuda: no kernel image is available for execution on the device\n",
            "error in modulated_deformable_im2col_cuda: no kernel image is available for execution on the device\n",
            "error in modulated_deformable_im2col_cuda: no kernel image is available for execution on the device\n",
            "error in modulated_deformable_im2col_cuda: no kernel image is available for execution on the device\n",
            "error in modulated_deformable_im2col_cuda: no kernel image is available for execution on the device\n",
            "error in modulated_deformable_im2col_cuda: no kernel image is available for execution on the device\n",
            "error in modulated_deformable_im2col_cuda: no kernel image is available for execution on the device\n",
            "error in modulated_deformable_im2col_cuda: no kernel image is available for execution on the device\n",
            "error in modulated_deformable_im2col_cuda: no kernel image is available for execution on the device\n",
            "error in modulated_deformable_im2col_cuda: no kernel image is available for execution on the device\n",
            "error in modulated_deformable_im2col_cuda: no kernel image is available for execution on the device\n",
            "error in modulated_deformable_im2col_cuda: no kernel image is available for execution on the device\n",
            "error in modulated_deformable_im2col_cuda: no kernel image is available for execution on the device\n",
            "error in modulated_deformable_im2col_cuda: no kernel image is available for execution on the device\n",
            "error in modulated_deformable_im2col_cuda: no kernel image is available for execution on the device\n",
            "error in modulated_deformable_im2col_cuda: no kernel image is available for execution on the device\n",
            "error in modulated_deformable_im2col_cuda: no kernel image is available for execution on the device\n",
            "error in modulated_deformable_im2col_cuda: no kernel image is available for execution on the device\n",
            "error in modulated_deformable_im2col_cuda: no kernel image is available for execution on the device\n",
            "error in modulated_deformable_im2col_cuda: no kernel image is available for execution on the device\n",
            "error in modulated_deformable_im2col_cuda: no kernel image is available for execution on the device\n",
            "error in modulated_deformable_im2col_cuda: no kernel image is available for execution on the device\n",
            "error in modulated_deformable_im2col_cuda: no kernel image is available for execution on the device\n",
            "error in modulated_deformable_im2col_cuda: no kernel image is available for execution on the device\n",
            "error in modulated_deformable_im2col_cuda: no kernel image is available for execution on the device\n",
            "error in modulated_deformable_im2col_cuda: no kernel image is available for execution on the device\n",
            "error in modulated_deformable_im2col_cuda: no kernel image is available for execution on the device\n",
            "error in modulated_deformable_im2col_cuda: no kernel image is available for execution on the device\n",
            "error in modulated_deformable_im2col_cuda: no kernel image is available for execution on the device\n",
            "error in modulated_deformable_im2col_cuda: no kernel image is available for execution on the device\n",
            "error in modulated_deformable_im2col_cuda: no kernel image is available for execution on the device\n",
            "error in modulated_deformable_im2col_cuda: no kernel image is available for execution on the device\n",
            "error in modulated_deformable_im2col_cuda: no kernel image is available for execution on the device\n",
            "error in modulated_deformable_im2col_cuda: no kernel image is available for execution on the device\n",
            "error in modulated_deformable_im2col_cuda: no kernel image is available for execution on the device\n",
            "error in modulated_deformable_im2col_cuda: no kernel image is available for execution on the device\n",
            "error in modulated_deformable_im2col_cuda: no kernel image is available for execution on the device\n",
            "error in modulated_deformable_im2col_cuda: no kernel image is available for execution on the device\n",
            "error in modulated_deformable_im2col_cuda: no kernel image is available for execution on the device\n",
            "error in modulated_deformable_im2col_cuda: no kernel image is available for execution on the device\n",
            "error in modulated_deformable_im2col_cuda: no kernel image is available for execution on the device\n",
            "error in modulated_deformable_im2col_cuda: no kernel image is available for execution on the device\n",
            "error in modulated_deformable_im2col_cuda: no kernel image is available for execution on the device\n",
            "error in modulated_deformable_im2col_cuda: no kernel image is available for execution on the device\n",
            "error in modulated_deformable_im2col_cuda: no kernel image is available for execution on the device\n",
            "error in modulated_deformable_im2col_cuda: no kernel image is available for execution on the device\n",
            "error in modulated_deformable_im2col_cuda: no kernel image is available for execution on the device\n",
            "error in modulated_deformable_im2col_cuda: no kernel image is available for execution on the device\n",
            "error in modulated_deformable_im2col_cuda: no kernel image is available for execution on the device\n",
            "error in modulated_deformable_im2col_cuda: no kernel image is available for execution on the device\n",
            "error in modulated_deformable_im2col_cuda: no kernel image is available for execution on the device\n",
            "error in modulated_deformable_im2col_cuda: no kernel image is available for execution on the device\n",
            "error in modulated_deformable_im2col_cuda: no kernel image is available for execution on the device\n",
            "error in modulated_deformable_im2col_cuda: no kernel image is available for execution on the device\n",
            "error in modulated_deformable_im2col_cuda: no kernel image is available for execution on the device\n",
            "error in modulated_deformable_im2col_cuda: no kernel image is available for execution on the device\n",
            "error in modulated_deformable_im2col_cuda: no kernel image is available for execution on the device\n",
            "error in modulated_deformable_im2col_cuda: no kernel image is available for execution on the device\n",
            "error in modulated_deformable_im2col_cuda: no kernel image is available for execution on the device\n",
            "error in modulated_deformable_im2col_cuda: no kernel image is available for execution on the device\n",
            "error in modulated_deformable_im2col_cuda: no kernel image is available for execution on the device\n",
            "error in modulated_deformable_im2col_cuda: no kernel image is available for execution on the device\n",
            "error in modulated_deformable_im2col_cuda: no kernel image is available for execution on the device\n",
            "error in modulated_deformable_im2col_cuda: no kernel image is available for execution on the device\n",
            "error in modulated_deformable_im2col_cuda: no kernel image is available for execution on the device\n",
            "error in modulated_deformable_im2col_cuda: no kernel image is available for execution on the device\n",
            "error in modulated_deformable_im2col_cuda: no kernel image is available for execution on the device\n",
            "error in modulated_deformable_im2col_cuda: no kernel image is available for execution on the device\n",
            "error in modulated_deformable_im2col_cuda: no kernel image is available for execution on the device\n",
            "error in modulated_deformable_im2col_cuda: no kernel image is available for execution on the device\n",
            "error in modulated_deformable_im2col_cuda: no kernel image is available for execution on the device\n",
            "error in modulated_deformable_im2col_cuda: no kernel image is available for execution on the device\n",
            "error in modulated_deformable_im2col_cuda: no kernel image is available for execution on the device\n",
            "error in modulated_deformable_im2col_cuda: no kernel image is available for execution on the device\n",
            "error in modulated_deformable_im2col_cuda: no kernel image is available for execution on the device\n",
            "error in modulated_deformable_im2col_cuda: no kernel image is available for execution on the device\n",
            "error in modulated_deformable_im2col_cuda: no kernel image is available for execution on the device\n",
            "error in modulated_deformable_im2col_cuda: no kernel image is available for execution on the device\n",
            "error in modulated_deformable_im2col_cuda: no kernel image is available for execution on the device\n",
            "error in modulated_deformable_im2col_cuda: no kernel image is available for execution on the device\n",
            "error in modulated_deformable_im2col_cuda: no kernel image is available for execution on the device\n",
            "error in modulated_deformable_im2col_cuda: no kernel image is available for execution on the device\n",
            "error in modulated_deformable_im2col_cuda: no kernel image is available for execution on the device\n",
            "error in modulated_deformable_im2col_cuda: no kernel image is available for execution on the device\n",
            "error in modulated_deformable_im2col_cuda: no kernel image is available for execution on the device\n",
            "error in modulated_deformable_im2col_cuda: no kernel image is available for execution on the device\n",
            "error in modulated_deformable_im2col_cuda: no kernel image is available for execution on the device\n",
            "error in modulated_deformable_im2col_cuda: no kernel image is available for execution on the device\n",
            "error in modulated_deformable_im2col_cuda: no kernel image is available for execution on the device\n",
            "error in modulated_deformable_im2col_cuda: no kernel image is available for execution on the device\n",
            "error in modulated_deformable_im2col_cuda: no kernel image is available for execution on the device\n",
            "error in modulated_deformable_im2col_cuda: no kernel image is available for execution on the device\n",
            "error in modulated_deformable_im2col_cuda: no kernel image is available for execution on the device\n",
            "error in modulated_deformable_im2col_cuda: no kernel image is available for execution on the device\n",
            "error in modulated_deformable_im2col_cuda: no kernel image is available for execution on the device\n",
            "error in modulated_deformable_im2col_cuda: no kernel image is available for execution on the device\n",
            "error in modulated_deformable_im2col_cuda: no kernel image is available for execution on the device\n",
            "error in modulated_deformable_im2col_cuda: no kernel image is available for execution on the device\n",
            "error in modulated_deformable_im2col_cuda: no kernel image is available for execution on the device\n",
            "error in modulated_deformable_im2col_cuda: no kernel image is available for execution on the device\n",
            "error in modulated_deformable_im2col_cuda: no kernel image is available for execution on the device\n",
            "error in modulated_deformable_im2col_cuda: no kernel image is available for execution on the device\n",
            "error in modulated_deformable_im2col_cuda: no kernel image is available for execution on the device\n",
            "error in modulated_deformable_im2col_cuda: no kernel image is available for execution on the device\n",
            "error in modulated_deformable_im2col_cuda: no kernel image is available for execution on the device\n",
            "error in modulated_deformable_im2col_cuda: no kernel image is available for execution on the device\n",
            "error in modulated_deformable_im2col_cuda: no kernel image is available for execution on the device\n",
            "error in modulated_deformable_im2col_cuda: no kernel image is available for execution on the device\n",
            "error in modulated_deformable_im2col_cuda: no kernel image is available for execution on the device\n",
            "error in modulated_deformable_im2col_cuda: no kernel image is available for execution on the device\n",
            "error in modulated_deformable_im2col_cuda: no kernel image is available for execution on the device\n",
            "error in modulated_deformable_im2col_cuda: no kernel image is available for execution on the device\n",
            "error in modulated_deformable_im2col_cuda: no kernel image is available for execution on the device\n",
            "error in modulated_deformable_im2col_cuda: no kernel image is available for execution on the device\n",
            "error in modulated_deformable_im2col_cuda: no kernel image is available for execution on the device\n",
            "error in modulated_deformable_im2col_cuda: no kernel image is available for execution on the device\n",
            "error in modulated_deformable_im2col_cuda: no kernel image is available for execution on the device\n",
            "error in modulated_deformable_im2col_cuda: no kernel image is available for execution on the device\n",
            "error in modulated_deformable_im2col_cuda: no kernel image is available for execution on the device\n",
            "error in modulated_deformable_im2col_cuda: no kernel image is available for execution on the device\n",
            "Traceback (most recent call last):\n",
            "  File \"/content/FairMOT/src/train.py\", line 103, in <module>\n",
            "    main(opt)\n",
            "  File \"/content/FairMOT/src/train.py\", line 74, in main\n",
            "    log_dict_train, _ = trainer.train(epoch, train_loader)\n",
            "  File \"/content/FairMOT/src/lib/trains/base_trainer.py\", line 124, in train\n",
            "    return self.run_epoch('train', epoch, data_loader)\n",
            "  File \"/content/FairMOT/src/lib/trains/base_trainer.py\", line 80, in run_epoch\n",
            "    loss.backward()\n",
            "  File \"/usr/local/lib/python3.7/site-packages/torch/tensor.py\", line 118, in backward\n",
            "    torch.autograd.backward(self, gradient, retain_graph, create_graph)\n",
            "  File \"/usr/local/lib/python3.7/site-packages/torch/autograd/__init__.py\", line 93, in backward\n",
            "    allow_unreachable=True)  # allow_unreachable flag\n",
            "RuntimeError: CUDA out of memory. Tried to allocate 646.00 MiB (GPU 0; 11.17 GiB total capacity; 9.72 GiB already allocated; 376.81 MiB free; 801.92 MiB cached)\n",
            "\u001b[?25h"
          ]
        }
      ]
    },
    {
      "cell_type": "code",
      "source": [
        ""
      ],
      "metadata": {
        "id": "uobH10OTzPX5"
      },
      "execution_count": 26,
      "outputs": []
    }
  ]
}