{
  "nbformat": 4,
  "nbformat_minor": 0,
  "metadata": {
    "colab": {
      "name": "FairMOT-MOT16.ipynb",
      "provenance": [],
      "collapsed_sections": [],
      "authorship_tag": "ABX9TyN39XaRdAttArw41rqKSBi6"
    },
    "kernelspec": {
      "name": "python3",
      "display_name": "Python 3"
    },
    "language_info": {
      "name": "python"
    },
    "accelerator": "GPU"
  },
  "cells": [
    {
      "cell_type": "markdown",
      "source": [
        "# Tracking Models to Run Inferences on the MOT-16 dataset\n",
        "\n",
        "Multi-Object Tracking (MOT) describes the task of identifying all objects in an image and following them over a sequence of frames. \n",
        "\n",
        "A wide range of Deep Learning-based MOT methods has been developed for human detection, but not for sparse/crowded space detection."
      ],
      "metadata": {
        "id": "t7pWl1bAmfG0"
      }
    },
    {
      "cell_type": "markdown",
      "source": [
        "### 1. Install Packages and Setup Environment"
      ],
      "metadata": {
        "id": "Y2i67HHHmwwF"
      }
    },
    {
      "cell_type": "code",
      "execution_count": 4,
      "metadata": {
        "colab": {
          "base_uri": "https://localhost:8080/"
        },
        "id": "PeWyT7U8mbYm",
        "outputId": "5a899dd7-efb3-4f56-cf95-9b4103690195"
      },
      "outputs": [
        {
          "output_type": "stream",
          "name": "stdout",
          "text": [
            "Cloning into 'FairMOT'...\n",
            "remote: Enumerating objects: 719, done.\u001b[K\n",
            "remote: Total 719 (delta 0), reused 0 (delta 0), pack-reused 719\u001b[K\n",
            "Receiving objects: 100% (719/719), 63.34 MiB | 17.25 MiB/s, done.\n",
            "Resolving deltas: 100% (383/383), done.\n",
            "Cloning into 'DCNv2'...\n",
            "remote: Enumerating objects: 214, done.\u001b[K\n",
            "remote: Total 214 (delta 0), reused 0 (delta 0), pack-reused 214\u001b[K\n",
            "Receiving objects: 100% (214/214), 1.42 MiB | 1.02 MiB/s, done.\n",
            "Resolving deltas: 100% (121/121), done.\n"
          ]
        }
      ],
      "source": [
        "# Get the FairMOT Model\n",
        "! git clone https://github.com/ifzhang/FairMOT     # the FairMot scripts\n",
        "! git clone https://github.com/CharlesShang/DCNv2  # package for using DLA-34 model, the backbone neural network of FairMOT"
      ]
    },
    {
      "cell_type": "markdown",
      "source": [
        "#### Ensure CUDA is enabled"
      ],
      "metadata": {
        "id": "ovW3Q8-9n97c"
      }
    },
    {
      "cell_type": "code",
      "source": [
        "! nvcc --version"
      ],
      "metadata": {
        "colab": {
          "base_uri": "https://localhost:8080/"
        },
        "id": "g0wqQ-UUoAGU",
        "outputId": "fa4e658a-7418-4b67-c4ce-ef3b5d8e91e9"
      },
      "execution_count": 7,
      "outputs": [
        {
          "output_type": "stream",
          "name": "stdout",
          "text": [
            "nvcc: NVIDIA (R) Cuda compiler driver\n",
            "Copyright (c) 2005-2020 NVIDIA Corporation\n",
            "Built on Mon_Oct_12_20:09:46_PDT_2020\n",
            "Cuda compilation tools, release 11.1, V11.1.105\n",
            "Build cuda_11.1.TC455_06.29190527_0\n"
          ]
        }
      ]
    },
    {
      "cell_type": "markdown",
      "source": [
        "#### Ensure the Python version is 3.8"
      ],
      "metadata": {
        "id": "5IZlCKvKqdhO"
      }
    },
    {
      "cell_type": "code",
      "source": [
        "! python3 --version"
      ],
      "metadata": {
        "colab": {
          "base_uri": "https://localhost:8080/"
        },
        "id": "IJYjEhbmqgcd",
        "outputId": "54874a6c-86f4-4308-ac32-f72e57e4b447"
      },
      "execution_count": 8,
      "outputs": [
        {
          "output_type": "stream",
          "name": "stdout",
          "text": [
            "Python 3.7.10\n"
          ]
        }
      ]
    },
    {
      "cell_type": "markdown",
      "source": [
        "#### Install PyTorch"
      ],
      "metadata": {
        "id": "KD5cAdzktwQ9"
      }
    },
    {
      "cell_type": "code",
      "source": [
        "! pip install torch==1.4.0 torchvision==0.5.0"
      ],
      "metadata": {
        "colab": {
          "base_uri": "https://localhost:8080/",
          "height": 399
        },
        "id": "-QasKV0WrD8c",
        "outputId": "a8e3c21a-0500-4e7e-b520-fe86f721d935"
      },
      "execution_count": 9,
      "outputs": [
        {
          "output_type": "stream",
          "name": "stdout",
          "text": [
            "Collecting torch==1.4.0\n",
            "  Using cached torch-1.4.0-cp37-cp37m-manylinux1_x86_64.whl (753.4 MB)\n",
            "Collecting torchvision==0.5.0\n",
            "  Using cached torchvision-0.5.0-cp37-cp37m-manylinux1_x86_64.whl (4.0 MB)\n",
            "Requirement already satisfied: pillow>=4.1.1 in /usr/local/lib/python3.7/site-packages (from torchvision==0.5.0) (9.0.1)\n",
            "Requirement already satisfied: numpy in /usr/local/lib/python3.7/site-packages (from torchvision==0.5.0) (1.21.5)\n",
            "Requirement already satisfied: six in /usr/local/lib/python3.7/site-packages (from torchvision==0.5.0) (1.15.0)\n",
            "Installing collected packages: torch, torchvision\n",
            "  Attempting uninstall: torch\n",
            "    Found existing installation: torch 1.2.0\n",
            "    Uninstalling torch-1.2.0:\n",
            "      Successfully uninstalled torch-1.2.0\n",
            "  Attempting uninstall: torchvision\n",
            "    Found existing installation: torchvision 0.4.0a0+6b959ee\n",
            "    Uninstalling torchvision-0.4.0a0+6b959ee:\n",
            "      Successfully uninstalled torchvision-0.4.0a0+6b959ee\n",
            "Successfully installed torch-1.4.0 torchvision-0.5.0\n"
          ]
        },
        {
          "output_type": "display_data",
          "data": {
            "application/vnd.colab-display-data+json": {
              "pip_warning": {
                "packages": [
                  "torch"
                ]
              }
            }
          },
          "metadata": {}
        }
      ]
    },
    {
      "cell_type": "markdown",
      "source": [
        "#### Install CONDA\n",
        "\n",
        "If CONDA is already installed, skip this section."
      ],
      "metadata": {
        "id": "tWqRz4tXt2HW"
      }
    },
    {
      "cell_type": "code",
      "source": [
        "! conda --version"
      ],
      "metadata": {
        "colab": {
          "base_uri": "https://localhost:8080/"
        },
        "id": "38fowuW6typO",
        "outputId": "5cd1747a-997c-4c9a-f9da-31b1b3c873bc"
      },
      "execution_count": 10,
      "outputs": [
        {
          "output_type": "stream",
          "name": "stdout",
          "text": [
            "conda 4.12.0\n"
          ]
        }
      ]
    },
    {
      "cell_type": "markdown",
      "source": [
        "Install Conda which is required for Fair MOT's requirements."
      ],
      "metadata": {
        "id": "274DXchKugc8"
      }
    },
    {
      "cell_type": "code",
      "source": [
        "! pip install -q condacolab\n",
        "\n",
        "import condacolab\n",
        "condacolab.install()"
      ],
      "metadata": {
        "colab": {
          "base_uri": "https://localhost:8080/"
        },
        "id": "kH_rQFvQuV4i",
        "outputId": "c60222da-440b-4b53-f14d-5db599885326"
      },
      "execution_count": 11,
      "outputs": [
        {
          "output_type": "stream",
          "name": "stdout",
          "text": [
            "✨🍰✨ Everything looks OK!\n"
          ]
        }
      ]
    },
    {
      "cell_type": "markdown",
      "source": [
        "#### Build DCNv2 - Deformable Convolutional Networks v2 with Pytorch\n",
        "\n",
        "Ensure GPU is enabled before running build. \n",
        "\n",
        "Debugging link: https://github.com/CharlesShang/DCNv2/issues/98#issuecomment-939261953"
      ],
      "metadata": {
        "id": "EdJPISRTm_IE"
      }
    },
    {
      "cell_type": "markdown",
      "source": [
        "Remove the build folder if it exists"
      ],
      "metadata": {
        "id": "PULWNWqrrljG"
      }
    },
    {
      "cell_type": "code",
      "source": [
        "! rm -rf /content/build"
      ],
      "metadata": {
        "id": "mYBgM9EdrhkG"
      },
      "execution_count": 12,
      "outputs": []
    },
    {
      "cell_type": "markdown",
      "source": [
        "Build DCNv2"
      ],
      "metadata": {
        "id": "XcjyypMQuIay"
      }
    },
    {
      "cell_type": "code",
      "source": [
        "! python ./DCNv2/setup.py build develop"
      ],
      "metadata": {
        "id": "FKBN4ZxamnIo"
      },
      "execution_count": null,
      "outputs": []
    },
    {
      "cell_type": "markdown",
      "source": [
        "Run test CUDA.  \n",
        "\n",
        "For the *UserWarning: At least one of the inputs that requires gradient is not of double precision floating point. This check will likely fail if all the inputs are not of double precision floating point. 'At least one of the inputs that requires gradient '* error:\n",
        "\n",
        "* These are known issues on DCNv2 and are related to shortcomings related to grad-check, it is working fine for me (Even the Jacobian mismatch error is occuring).\n",
        "\n",
        "Source: https://github.com/Mukosame/Zooming-Slow-Mo-CVPR-2020/issues/11#issuecomment-611352001"
      ],
      "metadata": {
        "id": "kzbOemhWtE30"
      }
    },
    {
      "cell_type": "code",
      "source": [
        "! python /content/DCNv2/testcuda.py"
      ],
      "metadata": {
        "colab": {
          "base_uri": "https://localhost:8080/"
        },
        "id": "56HIKo3rm5gK",
        "outputId": "ba26563b-0a9d-4db1-a8ac-b8ff99621d11"
      },
      "execution_count": 14,
      "outputs": [
        {
          "output_type": "stream",
          "name": "stdout",
          "text": [
            "torch.Size([2, 64, 128, 128])\n",
            "torch.Size([20, 32, 7, 7])\n",
            "torch.Size([20, 32, 7, 7])\n",
            "torch.Size([20, 32, 7, 7])\n",
            "0.971507, 1.943014\n",
            "0.971507, 1.943014\n",
            "Zero offset passed\n",
            "/usr/local/lib/python3.7/site-packages/torch/autograd/gradcheck.py:242: UserWarning: At least one of the inputs that requires gradient is not of double precision floating point. This check will likely fail if all the inputs are not of double precision floating point. \n",
            "  'At least one of the inputs that requires gradient '\n",
            "check_gradient_dpooling: True\n",
            "Traceback (most recent call last):\n",
            "  File \"/content/DCNv2/testcuda.py\", line 265, in <module>\n",
            "    check_gradient_dconv()\n",
            "  File \"/content/DCNv2/testcuda.py\", line 97, in check_gradient_dconv\n",
            "    eps=1e-3, atol=1e-4, rtol=1e-2))\n",
            "  File \"/usr/local/lib/python3.7/site-packages/torch/autograd/gradcheck.py\", line 289, in gradcheck\n",
            "    'numerical:%s\\nanalytical:%s\\n' % (i, j, n, a))\n",
            "  File \"/usr/local/lib/python3.7/site-packages/torch/autograd/gradcheck.py\", line 227, in fail_test\n",
            "    raise RuntimeError(msg)\n",
            "RuntimeError: Jacobian mismatch for output 0 with respect to input 1,\n",
            "numerical:tensor([[0., 0., 0.,  ..., 0., 0., 0.],\n",
            "        [0., 0., 0.,  ..., 0., 0., 0.],\n",
            "        [0., 0., 0.,  ..., 0., 0., 0.],\n",
            "        ...,\n",
            "        [0., 0., 0.,  ..., 0., 0., 0.],\n",
            "        [0., 0., 0.,  ..., 0., 0., 0.],\n",
            "        [0., 0., 0.,  ..., 0., 0., 0.]])\n",
            "analytical:tensor([[0., 0., 0.,  ..., 0., 0., 0.],\n",
            "        [0., 0., 0.,  ..., 0., 0., 0.],\n",
            "        [0., 0., 0.,  ..., 0., 0., 0.],\n",
            "        ...,\n",
            "        [0., 0., 0.,  ..., 0., 0., 0.],\n",
            "        [0., 0., 0.,  ..., 0., 0., 0.],\n",
            "        [0., 0., 0.,  ..., 0., 0., 0.]])\n",
            "\n"
          ]
        }
      ]
    },
    {
      "cell_type": "markdown",
      "source": [
        "#### Install FairMOT requirements"
      ],
      "metadata": {
        "id": "V3XbLmimv5zL"
      }
    },
    {
      "cell_type": "code",
      "source": [
        "! pip install -r /content/FairMOT/requirements.txt\n",
        "! conda install pytorch==1.2.0 torchvision==0.4.0 cudatoolkit=10.0 -c pytorch -y\n",
        "! conda install ffmpeg -y"
      ],
      "metadata": {
        "colab": {
          "base_uri": "https://localhost:8080/"
        },
        "id": "ej_zNusJsZHl",
        "outputId": "10c965cd-ed47-4cad-ff3b-3ee694c82008"
      },
      "execution_count": 15,
      "outputs": [
        {
          "output_type": "stream",
          "name": "stdout",
          "text": [
            "Requirement already satisfied: yacs in /usr/local/lib/python3.7/site-packages (from -r /content/FairMOT/requirements.txt (line 1)) (0.1.8)\n",
            "Requirement already satisfied: opencv-python in /usr/local/lib/python3.7/site-packages (from -r /content/FairMOT/requirements.txt (line 2)) (4.5.5.64)\n",
            "Requirement already satisfied: PyYAML in /usr/local/lib/python3.7/site-packages (from -r /content/FairMOT/requirements.txt (line 3)) (6.0)\n",
            "Requirement already satisfied: cython-bbox in /usr/local/lib/python3.7/site-packages (from -r /content/FairMOT/requirements.txt (line 4)) (0.1.3)\n",
            "Requirement already satisfied: scipy in /usr/local/lib/python3.7/site-packages (from -r /content/FairMOT/requirements.txt (line 5)) (1.7.3)\n",
            "Requirement already satisfied: progress in /usr/local/lib/python3.7/site-packages (from -r /content/FairMOT/requirements.txt (line 6)) (1.6)\n",
            "Requirement already satisfied: motmetrics in /usr/local/lib/python3.7/site-packages (from -r /content/FairMOT/requirements.txt (line 7)) (1.2.0)\n",
            "Requirement already satisfied: matplotlib in /usr/local/lib/python3.7/site-packages (from -r /content/FairMOT/requirements.txt (line 8)) (3.5.1)\n",
            "Requirement already satisfied: lap in /usr/local/lib/python3.7/site-packages (from -r /content/FairMOT/requirements.txt (line 9)) (0.4.0)\n",
            "Requirement already satisfied: openpyxl in /usr/local/lib/python3.7/site-packages (from -r /content/FairMOT/requirements.txt (line 10)) (3.0.9)\n",
            "Requirement already satisfied: Pillow in /usr/local/lib/python3.7/site-packages (from -r /content/FairMOT/requirements.txt (line 11)) (9.0.1)\n",
            "Requirement already satisfied: tensorboardX in /usr/local/lib/python3.7/site-packages (from -r /content/FairMOT/requirements.txt (line 12)) (2.5)\n",
            "Requirement already satisfied: fvcore in /usr/local/lib/python3.7/site-packages (from -r /content/FairMOT/requirements.txt (line 13)) (0.1.5.post20220305)\n",
            "Requirement already satisfied: termcolor>=1.1 in /usr/local/lib/python3.7/site-packages (from fvcore->-r /content/FairMOT/requirements.txt (line 13)) (1.1.0)\n",
            "Requirement already satisfied: numpy in /usr/local/lib/python3.7/site-packages (from fvcore->-r /content/FairMOT/requirements.txt (line 13)) (1.21.5)\n",
            "Requirement already satisfied: tqdm in /usr/local/lib/python3.7/site-packages (from fvcore->-r /content/FairMOT/requirements.txt (line 13)) (4.59.0)\n",
            "Requirement already satisfied: iopath>=0.1.7 in /usr/local/lib/python3.7/site-packages (from fvcore->-r /content/FairMOT/requirements.txt (line 13)) (0.1.9)\n",
            "Requirement already satisfied: tabulate in /usr/local/lib/python3.7/site-packages (from fvcore->-r /content/FairMOT/requirements.txt (line 13)) (0.8.9)\n",
            "Requirement already satisfied: portalocker in /usr/local/lib/python3.7/site-packages (from iopath>=0.1.7->fvcore->-r /content/FairMOT/requirements.txt (line 13)) (2.4.0)\n",
            "Requirement already satisfied: fonttools>=4.22.0 in /usr/local/lib/python3.7/site-packages (from matplotlib->-r /content/FairMOT/requirements.txt (line 8)) (4.31.2)\n",
            "Requirement already satisfied: python-dateutil>=2.7 in /usr/local/lib/python3.7/site-packages (from matplotlib->-r /content/FairMOT/requirements.txt (line 8)) (2.8.2)\n",
            "Requirement already satisfied: pyparsing>=2.2.1 in /usr/local/lib/python3.7/site-packages (from matplotlib->-r /content/FairMOT/requirements.txt (line 8)) (3.0.7)\n",
            "Requirement already satisfied: packaging>=20.0 in /usr/local/lib/python3.7/site-packages (from matplotlib->-r /content/FairMOT/requirements.txt (line 8)) (21.3)\n",
            "Requirement already satisfied: kiwisolver>=1.0.1 in /usr/local/lib/python3.7/site-packages (from matplotlib->-r /content/FairMOT/requirements.txt (line 8)) (1.4.2)\n",
            "Requirement already satisfied: cycler>=0.10 in /usr/local/lib/python3.7/site-packages (from matplotlib->-r /content/FairMOT/requirements.txt (line 8)) (0.11.0)\n",
            "Requirement already satisfied: typing-extensions in /usr/local/lib/python3.7/site-packages (from kiwisolver>=1.0.1->matplotlib->-r /content/FairMOT/requirements.txt (line 8)) (4.1.1)\n",
            "Requirement already satisfied: six>=1.5 in /usr/local/lib/python3.7/site-packages (from python-dateutil>=2.7->matplotlib->-r /content/FairMOT/requirements.txt (line 8)) (1.15.0)\n",
            "Requirement already satisfied: pytest in /usr/local/lib/python3.7/site-packages (from motmetrics->-r /content/FairMOT/requirements.txt (line 7)) (7.1.1)\n",
            "Requirement already satisfied: flake8-import-order in /usr/local/lib/python3.7/site-packages (from motmetrics->-r /content/FairMOT/requirements.txt (line 7)) (0.18.1)\n",
            "Requirement already satisfied: flake8 in /usr/local/lib/python3.7/site-packages (from motmetrics->-r /content/FairMOT/requirements.txt (line 7)) (4.0.1)\n",
            "Requirement already satisfied: xmltodict>=0.12.0 in /usr/local/lib/python3.7/site-packages (from motmetrics->-r /content/FairMOT/requirements.txt (line 7)) (0.12.0)\n",
            "Requirement already satisfied: pandas>=0.23.1 in /usr/local/lib/python3.7/site-packages (from motmetrics->-r /content/FairMOT/requirements.txt (line 7)) (1.3.5)\n",
            "Requirement already satisfied: pytest-benchmark in /usr/local/lib/python3.7/site-packages (from motmetrics->-r /content/FairMOT/requirements.txt (line 7)) (3.4.1)\n",
            "Requirement already satisfied: pytz>=2017.3 in /usr/local/lib/python3.7/site-packages (from pandas>=0.23.1->motmetrics->-r /content/FairMOT/requirements.txt (line 7)) (2022.1)\n",
            "Requirement already satisfied: et-xmlfile in /usr/local/lib/python3.7/site-packages (from openpyxl->-r /content/FairMOT/requirements.txt (line 10)) (1.1.0)\n",
            "Requirement already satisfied: protobuf>=3.8.0 in /usr/local/lib/python3.7/site-packages (from tensorboardX->-r /content/FairMOT/requirements.txt (line 12)) (3.19.4)\n",
            "Requirement already satisfied: importlib-metadata<4.3 in /usr/local/lib/python3.7/site-packages (from flake8->motmetrics->-r /content/FairMOT/requirements.txt (line 7)) (4.2.0)\n",
            "Requirement already satisfied: mccabe<0.7.0,>=0.6.0 in /usr/local/lib/python3.7/site-packages (from flake8->motmetrics->-r /content/FairMOT/requirements.txt (line 7)) (0.6.1)\n",
            "Requirement already satisfied: pycodestyle<2.9.0,>=2.8.0 in /usr/local/lib/python3.7/site-packages (from flake8->motmetrics->-r /content/FairMOT/requirements.txt (line 7)) (2.8.0)\n",
            "Requirement already satisfied: pyflakes<2.5.0,>=2.4.0 in /usr/local/lib/python3.7/site-packages (from flake8->motmetrics->-r /content/FairMOT/requirements.txt (line 7)) (2.4.0)\n",
            "Requirement already satisfied: zipp>=0.5 in /usr/local/lib/python3.7/site-packages (from importlib-metadata<4.3->flake8->motmetrics->-r /content/FairMOT/requirements.txt (line 7)) (3.7.0)\n",
            "Requirement already satisfied: setuptools in /usr/local/lib/python3.7/site-packages (from flake8-import-order->motmetrics->-r /content/FairMOT/requirements.txt (line 7)) (61.3.0)\n",
            "Requirement already satisfied: pluggy<2.0,>=0.12 in /usr/local/lib/python3.7/site-packages (from pytest->motmetrics->-r /content/FairMOT/requirements.txt (line 7)) (1.0.0)\n",
            "Requirement already satisfied: py>=1.8.2 in /usr/local/lib/python3.7/site-packages (from pytest->motmetrics->-r /content/FairMOT/requirements.txt (line 7)) (1.11.0)\n",
            "Requirement already satisfied: iniconfig in /usr/local/lib/python3.7/site-packages (from pytest->motmetrics->-r /content/FairMOT/requirements.txt (line 7)) (1.1.1)\n",
            "Requirement already satisfied: attrs>=19.2.0 in /usr/local/lib/python3.7/site-packages (from pytest->motmetrics->-r /content/FairMOT/requirements.txt (line 7)) (20.3.0)\n",
            "Requirement already satisfied: tomli>=1.0.0 in /usr/local/lib/python3.7/site-packages (from pytest->motmetrics->-r /content/FairMOT/requirements.txt (line 7)) (2.0.1)\n",
            "Requirement already satisfied: py-cpuinfo in /usr/local/lib/python3.7/site-packages (from pytest-benchmark->motmetrics->-r /content/FairMOT/requirements.txt (line 7)) (8.0.0)\n",
            "Collecting package metadata (current_repodata.json): - \b\b\\ \b\b| \b\b/ \b\b- \b\b\\ \b\b| \b\b/ \b\b- \b\b\\ \b\b| \b\b/ \b\b- \b\b\\ \b\b| \b\b/ \b\b- \b\b\\ \b\b| \b\b/ \b\b- \b\b\\ \b\b| \b\b/ \b\b- \b\b\\ \b\b| \b\b/ \b\b- \b\b\\ \b\bdone\n",
            "Solving environment: / \b\b- \b\b\\ \b\b| \b\b/ \b\b- \b\b\\ \b\b| \b\b/ WARNING conda.core.solve:_add_specs(649): pinned spec cudatoolkit=11.1 conflicts with explicit specs.  Overriding pinned spec.\n",
            "\b\b- \b\b\\ \b\b| \b\b/ \b\b- \b\b\\ \b\b| \b\b/ \b\bdone\n",
            "\n",
            "# All requested packages already installed.\n",
            "\n",
            "Collecting package metadata (current_repodata.json): - \b\b\\ \b\b| \b\b/ \b\b- \b\b\\ \b\b| \b\b/ \b\b- \b\b\\ \b\b| \b\b/ \b\b- \b\b\\ \b\b| \b\b/ \b\bdone\n",
            "Solving environment: \\ \b\b| \b\b/ \b\b- \b\b\\ \b\b| \b\b/ \b\b- \b\b\\ \b\b| \b\b/ \b\b- \b\b\\ \b\bdone\n",
            "\n",
            "# All requested packages already installed.\n",
            "\n"
          ]
        }
      ]
    },
    {
      "cell_type": "markdown",
      "source": [
        "#### Install packages for the DLA-34 Model\n",
        "\n",
        "If these packages were missing, make sure to restart your runtime after installing."
      ],
      "metadata": {
        "id": "QlTFfAR4xH8x"
      }
    },
    {
      "cell_type": "code",
      "source": [
        "! pip install boto3\n",
        "! pip install opencv-python\n",
        "! pip install sagemaker"
      ],
      "metadata": {
        "colab": {
          "base_uri": "https://localhost:8080/"
        },
        "id": "Q-w4pYJNw9J2",
        "outputId": "3e1c8312-39cd-4c0d-f7a6-87d0a207c68b"
      },
      "execution_count": 16,
      "outputs": [
        {
          "output_type": "stream",
          "name": "stdout",
          "text": [
            "Requirement already satisfied: boto3 in /usr/local/lib/python3.7/site-packages (1.21.31)\n",
            "Requirement already satisfied: s3transfer<0.6.0,>=0.5.0 in /usr/local/lib/python3.7/site-packages (from boto3) (0.5.2)\n",
            "Requirement already satisfied: jmespath<2.0.0,>=0.7.1 in /usr/local/lib/python3.7/site-packages (from boto3) (1.0.0)\n",
            "Requirement already satisfied: botocore<1.25.0,>=1.24.31 in /usr/local/lib/python3.7/site-packages (from boto3) (1.24.31)\n",
            "Requirement already satisfied: urllib3<1.27,>=1.25.4 in /usr/local/lib/python3.7/site-packages (from botocore<1.25.0,>=1.24.31->boto3) (1.26.3)\n",
            "Requirement already satisfied: python-dateutil<3.0.0,>=2.1 in /usr/local/lib/python3.7/site-packages (from botocore<1.25.0,>=1.24.31->boto3) (2.8.2)\n",
            "Requirement already satisfied: six>=1.5 in /usr/local/lib/python3.7/site-packages (from python-dateutil<3.0.0,>=2.1->botocore<1.25.0,>=1.24.31->boto3) (1.15.0)\n",
            "Requirement already satisfied: opencv-python in /usr/local/lib/python3.7/site-packages (4.5.5.64)\n",
            "Requirement already satisfied: numpy>=1.14.5 in /usr/local/lib/python3.7/site-packages (from opencv-python) (1.21.5)\n",
            "Requirement already satisfied: sagemaker in /usr/local/lib/python3.7/site-packages (2.82.1)\n",
            "Requirement already satisfied: google-pasta in /usr/local/lib/python3.7/site-packages (from sagemaker) (0.2.0)\n",
            "Requirement already satisfied: attrs==20.3.0 in /usr/local/lib/python3.7/site-packages (from sagemaker) (20.3.0)\n",
            "Requirement already satisfied: numpy>=1.9.0 in /usr/local/lib/python3.7/site-packages (from sagemaker) (1.21.5)\n",
            "Requirement already satisfied: smdebug-rulesconfig==1.0.1 in /usr/local/lib/python3.7/site-packages (from sagemaker) (1.0.1)\n",
            "Requirement already satisfied: boto3>=1.20.21 in /usr/local/lib/python3.7/site-packages (from sagemaker) (1.21.31)\n",
            "Requirement already satisfied: protobuf3-to-dict>=0.1.5 in /usr/local/lib/python3.7/site-packages (from sagemaker) (0.1.5)\n",
            "Requirement already satisfied: pathos in /usr/local/lib/python3.7/site-packages (from sagemaker) (0.2.8)\n",
            "Requirement already satisfied: packaging>=20.0 in /usr/local/lib/python3.7/site-packages (from sagemaker) (21.3)\n",
            "Requirement already satisfied: importlib-metadata>=1.4.0 in /usr/local/lib/python3.7/site-packages (from sagemaker) (4.2.0)\n",
            "Requirement already satisfied: protobuf>=3.1 in /usr/local/lib/python3.7/site-packages (from sagemaker) (3.19.4)\n",
            "Requirement already satisfied: pandas in /usr/local/lib/python3.7/site-packages (from sagemaker) (1.3.5)\n",
            "Requirement already satisfied: s3transfer<0.6.0,>=0.5.0 in /usr/local/lib/python3.7/site-packages (from boto3>=1.20.21->sagemaker) (0.5.2)\n",
            "Requirement already satisfied: botocore<1.25.0,>=1.24.31 in /usr/local/lib/python3.7/site-packages (from boto3>=1.20.21->sagemaker) (1.24.31)\n",
            "Requirement already satisfied: jmespath<2.0.0,>=0.7.1 in /usr/local/lib/python3.7/site-packages (from boto3>=1.20.21->sagemaker) (1.0.0)\n",
            "Requirement already satisfied: urllib3<1.27,>=1.25.4 in /usr/local/lib/python3.7/site-packages (from botocore<1.25.0,>=1.24.31->boto3>=1.20.21->sagemaker) (1.26.3)\n",
            "Requirement already satisfied: python-dateutil<3.0.0,>=2.1 in /usr/local/lib/python3.7/site-packages (from botocore<1.25.0,>=1.24.31->boto3>=1.20.21->sagemaker) (2.8.2)\n",
            "Requirement already satisfied: zipp>=0.5 in /usr/local/lib/python3.7/site-packages (from importlib-metadata>=1.4.0->sagemaker) (3.7.0)\n",
            "Requirement already satisfied: typing-extensions>=3.6.4 in /usr/local/lib/python3.7/site-packages (from importlib-metadata>=1.4.0->sagemaker) (4.1.1)\n",
            "Requirement already satisfied: pyparsing!=3.0.5,>=2.0.2 in /usr/local/lib/python3.7/site-packages (from packaging>=20.0->sagemaker) (3.0.7)\n",
            "Requirement already satisfied: six in /usr/local/lib/python3.7/site-packages (from protobuf3-to-dict>=0.1.5->sagemaker) (1.15.0)\n",
            "Requirement already satisfied: pytz>=2017.3 in /usr/local/lib/python3.7/site-packages (from pandas->sagemaker) (2022.1)\n",
            "Requirement already satisfied: ppft>=1.6.6.4 in /usr/local/lib/python3.7/site-packages (from pathos->sagemaker) (1.6.6.4)\n",
            "Requirement already satisfied: dill>=0.3.4 in /usr/local/lib/python3.7/site-packages (from pathos->sagemaker) (0.3.4)\n",
            "Requirement already satisfied: multiprocess>=0.70.12 in /usr/local/lib/python3.7/site-packages (from pathos->sagemaker) (0.70.12.2)\n",
            "Requirement already satisfied: pox>=0.3.0 in /usr/local/lib/python3.7/site-packages (from pathos->sagemaker) (0.3.0)\n"
          ]
        }
      ]
    },
    {
      "cell_type": "markdown",
      "source": [
        "#### Download pre-trained model weights of the DLA-34 backbone model"
      ],
      "metadata": {
        "id": "r6vAXgTTw0OR"
      }
    },
    {
      "cell_type": "markdown",
      "source": [
        "Documentation for AWS SageMaker: https://aws.amazon.com/sagemaker/\n",
        "\n"
      ],
      "metadata": {
        "id": "oSdQKY4HFYgK"
      }
    },
    {
      "cell_type": "code",
      "source": [
        "# import os\n",
        "\n",
        "# os.environ['AWS_DEFAULT_REGION'] = 'ap-southeast-1'"
      ],
      "metadata": {
        "id": "u1dFGEdEEXyi"
      },
      "execution_count": 15,
      "outputs": []
    },
    {
      "cell_type": "code",
      "source": [
        "# import boto3\n",
        "# import cv2\n",
        "# from PIL import Image\n",
        "# import sagemaker\n",
        "\n",
        "# sess = sagemaker.Session()\n",
        "# s3 = boto3.client('s3')\n",
        "\n",
        "# # S3 bucket name and directories for the pre-trained DLA34 model\n",
        "# bucket = 'pedestrian-tracker'  \n",
        "# s3key_model = 'raw-pretrained-model'\n",
        "# fname = 'fairmot_dla34.pth'\n",
        "# s3.download_file(bucket, s3key + '/' + fname,  '/content/FairMOT/model/' + fname)\n"
      ],
      "metadata": {
        "id": "jDX8njFBwtym"
      },
      "execution_count": 16,
      "outputs": []
    },
    {
      "cell_type": "code",
      "source": [
        "!pip install matplotlib\n",
        "!pip install ipykernel"
      ],
      "metadata": {
        "colab": {
          "base_uri": "https://localhost:8080/"
        },
        "id": "b8TNPPl6KTiy",
        "outputId": "a837d18b-1b16-4bd1-ce0a-de6268adadc5"
      },
      "execution_count": 17,
      "outputs": [
        {
          "output_type": "stream",
          "name": "stdout",
          "text": [
            "Requirement already satisfied: matplotlib in /usr/local/lib/python3.7/site-packages (3.5.1)\n",
            "Requirement already satisfied: numpy>=1.17 in /usr/local/lib/python3.7/site-packages (from matplotlib) (1.21.5)\n",
            "Requirement already satisfied: python-dateutil>=2.7 in /usr/local/lib/python3.7/site-packages (from matplotlib) (2.8.2)\n",
            "Requirement already satisfied: cycler>=0.10 in /usr/local/lib/python3.7/site-packages (from matplotlib) (0.11.0)\n",
            "Requirement already satisfied: kiwisolver>=1.0.1 in /usr/local/lib/python3.7/site-packages (from matplotlib) (1.4.2)\n",
            "Requirement already satisfied: fonttools>=4.22.0 in /usr/local/lib/python3.7/site-packages (from matplotlib) (4.31.2)\n",
            "Requirement already satisfied: pillow>=6.2.0 in /usr/local/lib/python3.7/site-packages (from matplotlib) (9.0.1)\n",
            "Requirement already satisfied: pyparsing>=2.2.1 in /usr/local/lib/python3.7/site-packages (from matplotlib) (3.0.7)\n",
            "Requirement already satisfied: packaging>=20.0 in /usr/local/lib/python3.7/site-packages (from matplotlib) (21.3)\n",
            "Requirement already satisfied: typing-extensions in /usr/local/lib/python3.7/site-packages (from kiwisolver>=1.0.1->matplotlib) (4.1.1)\n",
            "Requirement already satisfied: six>=1.5 in /usr/local/lib/python3.7/site-packages (from python-dateutil>=2.7->matplotlib) (1.15.0)\n",
            "Requirement already satisfied: ipykernel in /usr/local/lib/python3.7/site-packages (6.11.0)\n",
            "Requirement already satisfied: tornado>=6.1 in /usr/local/lib/python3.7/site-packages (from ipykernel) (6.1)\n",
            "Requirement already satisfied: psutil in /usr/local/lib/python3.7/site-packages (from ipykernel) (5.9.0)\n",
            "Requirement already satisfied: nest-asyncio in /usr/local/lib/python3.7/site-packages (from ipykernel) (1.5.4)\n",
            "Requirement already satisfied: traitlets>=5.1.0 in /usr/local/lib/python3.7/site-packages (from ipykernel) (5.1.1)\n",
            "Requirement already satisfied: jupyter-client>=6.1.12 in /usr/local/lib/python3.7/site-packages (from ipykernel) (7.2.1)\n",
            "Requirement already satisfied: setuptools>=60 in /usr/local/lib/python3.7/site-packages (from ipykernel) (61.3.0)\n",
            "Requirement already satisfied: debugpy>=1.0 in /usr/local/lib/python3.7/site-packages (from ipykernel) (1.6.0)\n",
            "Requirement already satisfied: matplotlib-inline>=0.1 in /usr/local/lib/python3.7/site-packages (from ipykernel) (0.1.3)\n",
            "Requirement already satisfied: ipython>=7.23.1 in /usr/local/lib/python3.7/site-packages (from ipykernel) (7.32.0)\n",
            "Requirement already satisfied: pygments in /usr/local/lib/python3.7/site-packages (from ipython>=7.23.1->ipykernel) (2.11.2)\n",
            "Requirement already satisfied: pexpect>4.3 in /usr/local/lib/python3.7/site-packages (from ipython>=7.23.1->ipykernel) (4.8.0)\n",
            "Requirement already satisfied: pickleshare in /usr/local/lib/python3.7/site-packages (from ipython>=7.23.1->ipykernel) (0.7.5)\n",
            "Requirement already satisfied: backcall in /usr/local/lib/python3.7/site-packages (from ipython>=7.23.1->ipykernel) (0.2.0)\n",
            "Requirement already satisfied: jedi>=0.16 in /usr/local/lib/python3.7/site-packages (from ipython>=7.23.1->ipykernel) (0.18.1)\n",
            "Requirement already satisfied: prompt-toolkit!=3.0.0,!=3.0.1,<3.1.0,>=2.0.0 in /usr/local/lib/python3.7/site-packages (from ipython>=7.23.1->ipykernel) (3.0.28)\n",
            "Requirement already satisfied: decorator in /usr/local/lib/python3.7/site-packages (from ipython>=7.23.1->ipykernel) (5.1.1)\n",
            "Requirement already satisfied: parso<0.9.0,>=0.8.0 in /usr/local/lib/python3.7/site-packages (from jedi>=0.16->ipython>=7.23.1->ipykernel) (0.8.3)\n",
            "Requirement already satisfied: entrypoints in /usr/local/lib/python3.7/site-packages (from jupyter-client>=6.1.12->ipykernel) (0.4)\n",
            "Requirement already satisfied: pyzmq>=22.3 in /usr/local/lib/python3.7/site-packages (from jupyter-client>=6.1.12->ipykernel) (22.3.0)\n",
            "Requirement already satisfied: jupyter-core>=4.9.2 in /usr/local/lib/python3.7/site-packages (from jupyter-client>=6.1.12->ipykernel) (4.9.2)\n",
            "Requirement already satisfied: python-dateutil>=2.8.2 in /usr/local/lib/python3.7/site-packages (from jupyter-client>=6.1.12->ipykernel) (2.8.2)\n",
            "Requirement already satisfied: ptyprocess>=0.5 in /usr/local/lib/python3.7/site-packages (from pexpect>4.3->ipython>=7.23.1->ipykernel) (0.7.0)\n",
            "Requirement already satisfied: wcwidth in /usr/local/lib/python3.7/site-packages (from prompt-toolkit!=3.0.0,!=3.0.1,<3.1.0,>=2.0.0->ipython>=7.23.1->ipykernel) (0.2.5)\n",
            "Requirement already satisfied: six>=1.5 in /usr/local/lib/python3.7/site-packages (from python-dateutil>=2.8.2->jupyter-client>=6.1.12->ipykernel) (1.15.0)\n"
          ]
        }
      ]
    },
    {
      "cell_type": "code",
      "source": [
        "! sudo apt-get update\n",
        "! sudo apt-get install libssl-dev\n",
        "# ! pip install -e git+https://github.com/samson-wang/cython_bbox.git#egg=cython-bbox"
      ],
      "metadata": {
        "colab": {
          "base_uri": "https://localhost:8080/"
        },
        "id": "xSwUIufQKj3w",
        "outputId": "f1eb0e42-85be-4be9-bfdc-eab5ead0727f"
      },
      "execution_count": 18,
      "outputs": [
        {
          "output_type": "stream",
          "name": "stdout",
          "text": [
            "Hit:1 https://cloud.r-project.org/bin/linux/ubuntu bionic-cran40/ InRelease\n",
            "Ign:2 https://developer.download.nvidia.com/compute/cuda/repos/ubuntu1804/x86_64  InRelease\n",
            "Hit:3 http://ppa.launchpad.net/c2d4u.team/c2d4u4.0+/ubuntu bionic InRelease\n",
            "Ign:4 https://developer.download.nvidia.com/compute/machine-learning/repos/ubuntu1804/x86_64  InRelease\n",
            "Hit:5 https://developer.download.nvidia.com/compute/cuda/repos/ubuntu1804/x86_64  Release\n",
            "Hit:6 https://developer.download.nvidia.com/compute/machine-learning/repos/ubuntu1804/x86_64  Release\n",
            "Hit:7 http://security.ubuntu.com/ubuntu bionic-security InRelease\n",
            "Hit:10 http://archive.ubuntu.com/ubuntu bionic InRelease\n",
            "Hit:11 http://ppa.launchpad.net/cran/libgit2/ubuntu bionic InRelease\n",
            "Hit:12 http://archive.ubuntu.com/ubuntu bionic-updates InRelease\n",
            "Hit:13 http://archive.ubuntu.com/ubuntu bionic-backports InRelease\n",
            "Hit:14 http://ppa.launchpad.net/deadsnakes/ppa/ubuntu bionic InRelease\n",
            "Hit:15 http://ppa.launchpad.net/graphics-drivers/ppa/ubuntu bionic InRelease\n",
            "Reading package lists... Done\n",
            "Reading package lists... Done\n",
            "Building dependency tree       \n",
            "Reading state information... Done\n",
            "libssl-dev is already the newest version (1.1.1-1ubuntu2.1~18.04.15).\n",
            "0 upgraded, 0 newly installed, 0 to remove and 82 not upgraded.\n"
          ]
        }
      ]
    },
    {
      "cell_type": "markdown",
      "source": [
        "#### Installing Cython BBox\n",
        "\n",
        "1. Download the tar file from https://pypi.org/project/cython-bbox/#files\n",
        "\n",
        "2. Make this change: extra_compile_args=['-Wno-cpp',  '-Wno-unused-function', '-std=c99'], in setup.py. (Source: https://github.com/Zhongdao/Towards-Realtime-MOT/issues/165#issuecomment-1042496502)\n",
        "\n",
        "3. Zip up file again, \"tar -cvzf cython_bbox.tar.gz cython_bbox-0.1.3\".  https://www.makeuseof.com/extract-tar-gz/\n",
        "\n",
        "4. Upload and install on Google Colab.\n"
      ],
      "metadata": {
        "id": "b_OqqwDJR_L2"
      }
    },
    {
      "cell_type": "code",
      "source": [
        "# ! sudo tar -xvf /content/cython_bbox-0.1.3.tar.gz\n",
        "# ! python setup.py bdist_wheel\n",
        "# ! pip install -e git+https://github.com/samson-wang/cython_bbox.git#egg=cython-bbox\n",
        "# ! pip install -e /content/cython_bbox-0.1.3/dist/cython_bbox-0.1.3-py3.9-macosx-11-x86_64.egg\n",
        "! pip install -e /path/cython_bbox-0.1.3.tar/dist/cython_bbox-0.1.3/cython_bbox-0.1.3\n",
        "! pip install cython_bbox"
      ],
      "metadata": {
        "colab": {
          "base_uri": "https://localhost:8080/"
        },
        "id": "mAAmI0IhRlZM",
        "outputId": "de3e5716-b419-43a4-be94-a22b17c723c6"
      },
      "execution_count": 19,
      "outputs": [
        {
          "output_type": "stream",
          "name": "stdout",
          "text": [
            "\u001b[31mERROR: /path/cython_bbox-0.1.3.tar/dist/cython_bbox-0.1.3/cython_bbox-0.1.3 is not a valid editable requirement. It should either be a path to a local project or a VCS URL (beginning with bzr+http, bzr+https, bzr+ssh, bzr+sftp, bzr+ftp, bzr+lp, bzr+file, git+http, git+https, git+ssh, git+git, git+file, hg+file, hg+http, hg+https, hg+ssh, hg+static-http, svn+ssh, svn+http, svn+https, svn+svn, svn+file).\u001b[0m\n",
            "Requirement already satisfied: cython_bbox in /usr/local/lib/python3.7/site-packages (0.1.3)\n"
          ]
        }
      ]
    },
    {
      "cell_type": "code",
      "source": [
        "from google.colab import drive\n",
        "drive.mount('/content/drive')"
      ],
      "metadata": {
        "colab": {
          "base_uri": "https://localhost:8080/"
        },
        "id": "wxlaUBDeNRjD",
        "outputId": "20a95313-4b6e-47da-f06d-096715bec368"
      },
      "execution_count": 20,
      "outputs": [
        {
          "output_type": "stream",
          "name": "stdout",
          "text": [
            "Mounted at /content/drive\n"
          ]
        }
      ]
    },
    {
      "cell_type": "code",
      "source": [
        "# ! pip install motmetrics\n",
        "! pip install dcnv2"
      ],
      "metadata": {
        "id": "32hfNVZrZ4sG"
      },
      "execution_count": null,
      "outputs": []
    },
    {
      "cell_type": "code",
      "source": [
        "!python /content/FairMOT/src/demo.py mot --load_model /content/FairMOT/src/lib/models/model.py \\\n",
        "        --conf_thres 0.3 --det_thres 0.3 --nms_thres 0.4 --track_buffer 30 \\\n",
        "        --input-video /content/FairMOT/videos/MOT16-03.mp4 \\\n",
        "        --output-root /content/FairMOT/output"
      ],
      "metadata": {
        "colab": {
          "base_uri": "https://localhost:8080/"
        },
        "id": "fBzzqZSCyYzu",
        "outputId": "26016bdd-6b31-41e9-d51b-20be3b8c4129"
      },
      "execution_count": 22,
      "outputs": [
        {
          "output_type": "stream",
          "name": "stdout",
          "text": [
            "Traceback (most recent call last):\n",
            "  File \"/content/FairMOT/src/demo.py\", line 14, in <module>\n",
            "    from track import eval_seq\n",
            "  File \"/content/FairMOT/src/track.py\", line 15, in <module>\n",
            "    from tracker.multitracker import JDETracker\n",
            "  File \"/content/FairMOT/src/lib/tracker/multitracker.py\", line 13, in <module>\n",
            "    from models.model import create_model, load_model\n",
            "  File \"/content/FairMOT/src/lib/models/model.py\", line 11, in <module>\n",
            "    from .networks.pose_dla_dcn import get_pose_net as get_dla_dcn\n",
            "  File \"/content/FairMOT/src/lib/models/networks/pose_dla_dcn.py\", line 16, in <module>\n",
            "    from dcn_v2 import DCN\n",
            "ModuleNotFoundError: No module named 'dcn_v2'\n"
          ]
        }
      ]
    },
    {
      "cell_type": "code",
      "source": [
        ""
      ],
      "metadata": {
        "id": "46uNdlq4KXax"
      },
      "execution_count": 3,
      "outputs": []
    }
  ]
}