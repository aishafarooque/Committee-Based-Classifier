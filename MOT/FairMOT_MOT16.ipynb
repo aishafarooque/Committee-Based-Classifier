{
  "nbformat": 4,
  "nbformat_minor": 0,
  "metadata": {
    "colab": {
      "name": "FairMOT-MOT16.ipynb",
      "provenance": [],
      "authorship_tag": "ABX9TyOQoOLcK23JtEiF40b7wlc3"
    },
    "kernelspec": {
      "name": "python3",
      "display_name": "Python 3"
    },
    "language_info": {
      "name": "python"
    },
    "accelerator": "GPU"
  },
  "cells": [
    {
      "cell_type": "markdown",
      "source": [
        "# Tracking Models to Run Inferences on the MOT-16 dataset\n",
        "\n",
        "Multi-Object Tracking (MOT) describes the task of identifying all objects in an image and following them over a sequence of frames. \n",
        "\n",
        "A wide range of Deep Learning-based MOT methods has been developed for human detection, but not for sparse/crowded space detection."
      ],
      "metadata": {
        "id": "t7pWl1bAmfG0"
      }
    },
    {
      "cell_type": "markdown",
      "source": [
        "### 1. Install Packages and Setup Environment"
      ],
      "metadata": {
        "id": "Y2i67HHHmwwF"
      }
    },
    {
      "cell_type": "code",
      "execution_count": 1,
      "metadata": {
        "colab": {
          "base_uri": "https://localhost:8080/"
        },
        "id": "PeWyT7U8mbYm",
        "outputId": "46ec6e89-59fc-4eae-ea99-dbfdc54141cb"
      },
      "outputs": [
        {
          "output_type": "stream",
          "name": "stdout",
          "text": [
            "fatal: destination path 'FairMOT' already exists and is not an empty directory.\n",
            "fatal: destination path 'DCNv2' already exists and is not an empty directory.\n"
          ]
        }
      ],
      "source": [
        "# Get the FairMOT Model\n",
        "! git clone https://github.com/ifzhang/FairMOT     # the FairMot scripts\n",
        "! git clone https://github.com/CharlesShang/DCNv2  # package for using DLA-34 model, the backbone neural network of FairMOT"
      ]
    },
    {
      "cell_type": "markdown",
      "source": [
        "#### Ensure CUDA is enabled"
      ],
      "metadata": {
        "id": "ovW3Q8-9n97c"
      }
    },
    {
      "cell_type": "code",
      "source": [
        "! nvcc --version"
      ],
      "metadata": {
        "colab": {
          "base_uri": "https://localhost:8080/"
        },
        "id": "g0wqQ-UUoAGU",
        "outputId": "d286cae9-b157-4f0e-f802-03f8baea689b"
      },
      "execution_count": 2,
      "outputs": [
        {
          "output_type": "stream",
          "name": "stdout",
          "text": [
            "nvcc: NVIDIA (R) Cuda compiler driver\n",
            "Copyright (c) 2005-2020 NVIDIA Corporation\n",
            "Built on Mon_Oct_12_20:09:46_PDT_2020\n",
            "Cuda compilation tools, release 11.1, V11.1.105\n",
            "Build cuda_11.1.TC455_06.29190527_0\n"
          ]
        }
      ]
    },
    {
      "cell_type": "markdown",
      "source": [
        "#### Ensure the Python version is 3.8"
      ],
      "metadata": {
        "id": "5IZlCKvKqdhO"
      }
    },
    {
      "cell_type": "code",
      "source": [
        "! python3 --version"
      ],
      "metadata": {
        "colab": {
          "base_uri": "https://localhost:8080/"
        },
        "id": "IJYjEhbmqgcd",
        "outputId": "dbc8b590-36a9-48f1-df6d-85447eef0a62"
      },
      "execution_count": 3,
      "outputs": [
        {
          "output_type": "stream",
          "name": "stdout",
          "text": [
            "Python 3.7.10\n"
          ]
        }
      ]
    },
    {
      "cell_type": "markdown",
      "source": [
        "#### Install PyTorch"
      ],
      "metadata": {
        "id": "KD5cAdzktwQ9"
      }
    },
    {
      "cell_type": "code",
      "source": [
        "! pip install torch==1.4.0 torchvision==0.5.0"
      ],
      "metadata": {
        "colab": {
          "base_uri": "https://localhost:8080/"
        },
        "id": "-QasKV0WrD8c",
        "outputId": "78250710-fad2-4bb6-e304-1571960e1cfa"
      },
      "execution_count": 4,
      "outputs": [
        {
          "output_type": "stream",
          "name": "stdout",
          "text": [
            "Requirement already satisfied: torch==1.4.0 in /usr/local/lib/python3.7/site-packages (1.4.0)\n",
            "Requirement already satisfied: torchvision==0.5.0 in /usr/local/lib/python3.7/site-packages (0.5.0)\n",
            "Requirement already satisfied: six in /usr/local/lib/python3.7/site-packages (from torchvision==0.5.0) (1.15.0)\n",
            "Requirement already satisfied: numpy in /usr/local/lib/python3.7/site-packages (from torchvision==0.5.0) (1.21.5)\n",
            "Requirement already satisfied: pillow>=4.1.1 in /usr/local/lib/python3.7/site-packages (from torchvision==0.5.0) (9.0.1)\n"
          ]
        }
      ]
    },
    {
      "cell_type": "markdown",
      "source": [
        "#### Install CONDA\n",
        "\n",
        "If CONDA is already installed, skip this section."
      ],
      "metadata": {
        "id": "tWqRz4tXt2HW"
      }
    },
    {
      "cell_type": "code",
      "source": [
        "! conda --version"
      ],
      "metadata": {
        "colab": {
          "base_uri": "https://localhost:8080/"
        },
        "id": "38fowuW6typO",
        "outputId": "aaabdde1-41d0-4591-9485-5483b4b50ea6"
      },
      "execution_count": 5,
      "outputs": [
        {
          "output_type": "stream",
          "name": "stdout",
          "text": [
            "conda 4.12.0\n"
          ]
        }
      ]
    },
    {
      "cell_type": "markdown",
      "source": [
        "Install Conda which is required for Fair MOT's requirements."
      ],
      "metadata": {
        "id": "274DXchKugc8"
      }
    },
    {
      "cell_type": "code",
      "source": [
        "! pip install -q condacolab\n",
        "\n",
        "import condacolab\n",
        "condacolab.install()"
      ],
      "metadata": {
        "colab": {
          "base_uri": "https://localhost:8080/"
        },
        "id": "kH_rQFvQuV4i",
        "outputId": "f5fe36d9-de0a-4506-c8c6-59b6e3ab1369"
      },
      "execution_count": 6,
      "outputs": [
        {
          "output_type": "stream",
          "name": "stdout",
          "text": [
            "✨🍰✨ Everything looks OK!\n"
          ]
        }
      ]
    },
    {
      "cell_type": "markdown",
      "source": [
        "#### Build DCNv2 - Deformable Convolutional Networks v2 with Pytorch\n",
        "\n",
        "Ensure GPU is enabled before running build. \n",
        "\n",
        "Debugging link: https://github.com/CharlesShang/DCNv2/issues/98#issuecomment-939261953"
      ],
      "metadata": {
        "id": "EdJPISRTm_IE"
      }
    },
    {
      "cell_type": "markdown",
      "source": [
        "Remove the build folder if it exists"
      ],
      "metadata": {
        "id": "PULWNWqrrljG"
      }
    },
    {
      "cell_type": "code",
      "source": [
        "! rm -rf /content/build"
      ],
      "metadata": {
        "id": "mYBgM9EdrhkG"
      },
      "execution_count": 7,
      "outputs": []
    },
    {
      "cell_type": "markdown",
      "source": [
        "Build DCNv2"
      ],
      "metadata": {
        "id": "XcjyypMQuIay"
      }
    },
    {
      "cell_type": "code",
      "source": [
        "! python ./DCNv2/setup.py build develop"
      ],
      "metadata": {
        "colab": {
          "base_uri": "https://localhost:8080/"
        },
        "id": "FKBN4ZxamnIo",
        "outputId": "bb93174b-f70a-4fac-96a9-5f19a2e4fd70"
      },
      "execution_count": 8,
      "outputs": [
        {
          "output_type": "stream",
          "name": "stdout",
          "text": [
            "running build\n",
            "running build_py\n",
            "creating build\n",
            "creating build/lib.linux-x86_64-3.7\n",
            "creating build/lib.linux-x86_64-3.7/DCNv2\n",
            "copying DCNv2/setup.py -> build/lib.linux-x86_64-3.7/DCNv2\n",
            "copying DCNv2/testcpu.py -> build/lib.linux-x86_64-3.7/DCNv2\n",
            "copying DCNv2/__init__.py -> build/lib.linux-x86_64-3.7/DCNv2\n",
            "copying DCNv2/testcuda.py -> build/lib.linux-x86_64-3.7/DCNv2\n",
            "copying DCNv2/dcn_v2.py -> build/lib.linux-x86_64-3.7/DCNv2\n",
            "running build_ext\n",
            "building '_ext' extension\n",
            "creating build/temp.linux-x86_64-3.7\n",
            "creating build/temp.linux-x86_64-3.7/content\n",
            "creating build/temp.linux-x86_64-3.7/content/DCNv2\n",
            "creating build/temp.linux-x86_64-3.7/content/DCNv2/src\n",
            "creating build/temp.linux-x86_64-3.7/content/DCNv2/src/cpu\n",
            "creating build/temp.linux-x86_64-3.7/content/DCNv2/src/cuda\n",
            "g++ -Wsign-compare -DNDEBUG -g -fwrapv -O3 -Wall -Wstrict-prototypes -fPIC -DWITH_CUDA -I/content/DCNv2/src -I/usr/local/lib/python3.7/site-packages/torch/include -I/usr/local/lib/python3.7/site-packages/torch/include/torch/csrc/api/include -I/usr/local/lib/python3.7/site-packages/torch/include/TH -I/usr/local/lib/python3.7/site-packages/torch/include/THC -I/usr/local/cuda/include -I/usr/local/include/python3.7m -c /content/DCNv2/src/vision.cpp -o build/temp.linux-x86_64-3.7/content/DCNv2/src/vision.o -DTORCH_API_INCLUDE_EXTENSION_H -DTORCH_EXTENSION_NAME=_ext -D_GLIBCXX_USE_CXX11_ABI=0 -std=c++11\n",
            "\u001b[01m\u001b[Kcc1plus:\u001b[m\u001b[K \u001b[01;35m\u001b[Kwarning: \u001b[m\u001b[Kcommand line option ‘\u001b[01m\u001b[K-Wstrict-prototypes\u001b[m\u001b[K’ is valid for C/ObjC but not for C++\n",
            "g++ -Wsign-compare -DNDEBUG -g -fwrapv -O3 -Wall -Wstrict-prototypes -fPIC -DWITH_CUDA -I/content/DCNv2/src -I/usr/local/lib/python3.7/site-packages/torch/include -I/usr/local/lib/python3.7/site-packages/torch/include/torch/csrc/api/include -I/usr/local/lib/python3.7/site-packages/torch/include/TH -I/usr/local/lib/python3.7/site-packages/torch/include/THC -I/usr/local/cuda/include -I/usr/local/include/python3.7m -c /content/DCNv2/src/cpu/dcn_v2_psroi_pooling_cpu.cpp -o build/temp.linux-x86_64-3.7/content/DCNv2/src/cpu/dcn_v2_psroi_pooling_cpu.o -DTORCH_API_INCLUDE_EXTENSION_H -DTORCH_EXTENSION_NAME=_ext -D_GLIBCXX_USE_CXX11_ABI=0 -std=c++11\n",
            "\u001b[01m\u001b[Kcc1plus:\u001b[m\u001b[K \u001b[01;35m\u001b[Kwarning: \u001b[m\u001b[Kcommand line option ‘\u001b[01m\u001b[K-Wstrict-prototypes\u001b[m\u001b[K’ is valid for C/ObjC but not for C++\n",
            "In file included from \u001b[01m\u001b[K/usr/local/lib/python3.7/site-packages/torch/include/ATen/ATen.h:9:0\u001b[m\u001b[K,\n",
            "                 from \u001b[01m\u001b[K/content/DCNv2/src/cpu/dcn_v2_psroi_pooling_cpu.cpp:15\u001b[m\u001b[K:\n",
            "\u001b[01m\u001b[K/content/DCNv2/src/cpu/dcn_v2_psroi_pooling_cpu.cpp:\u001b[m\u001b[K In lambda function:\n",
            "\u001b[01m\u001b[K/usr/local/lib/python3.7/site-packages/torch/include/ATen/Dispatch.h:150:56:\u001b[m\u001b[K \u001b[01;35m\u001b[Kwarning: \u001b[m\u001b[K‘\u001b[01m\u001b[Kc10::ScalarType detail::scalar_type(const at::DeprecatedTypeProperties&)\u001b[m\u001b[K’ is deprecated [\u001b[01;35m\u001b[K-Wdeprecated-declarations\u001b[m\u001b[K]\n",
            "     at::ScalarType _st = ::detail::scalar_type(the_type\u001b[01;35m\u001b[K)\u001b[m\u001b[K;                    \\\n",
            "                                                        \u001b[01;35m\u001b[K^\u001b[m\u001b[K\n",
            "\u001b[01m\u001b[K/content/DCNv2/src/cpu/dcn_v2_psroi_pooling_cpu.cpp:324:3:\u001b[m\u001b[K \u001b[01;36m\u001b[Knote: \u001b[m\u001b[Kin expansion of macro ‘\u001b[01m\u001b[KAT_DISPATCH_FLOATING_TYPES\u001b[m\u001b[K’\n",
            "   \u001b[01;36m\u001b[KAT_DISPATCH_FLOATING_TYPES\u001b[m\u001b[K(input.type(), \"dcn_v2_psroi_pooling_cpu_forward\", [&] {\n",
            "   \u001b[01;36m\u001b[K^~~~~~~~~~~~~~~~~~~~~~~~~~\u001b[m\u001b[K\n",
            "\u001b[01m\u001b[K/usr/local/lib/python3.7/site-packages/torch/include/ATen/Dispatch.h:78:23:\u001b[m\u001b[K \u001b[01;36m\u001b[Knote: \u001b[m\u001b[Kdeclared here\n",
            " inline at::ScalarType \u001b[01;36m\u001b[Kscalar_type\u001b[m\u001b[K(const at::DeprecatedTypeProperties &t) {\n",
            "                       \u001b[01;36m\u001b[K^~~~~~~~~~~\u001b[m\u001b[K\n",
            "\u001b[01m\u001b[K/content/DCNv2/src/cpu/dcn_v2_psroi_pooling_cpu.cpp:\u001b[m\u001b[K In function ‘\u001b[01m\u001b[Kstd::tuple<at::Tensor, at::Tensor> dcn_v2_psroi_pooling_cpu_forward(const at::Tensor&, const at::Tensor&, const at::Tensor&, int, float, int, int, int, int, int, float)\u001b[m\u001b[K’:\n",
            "\u001b[01m\u001b[K/content/DCNv2/src/cpu/dcn_v2_psroi_pooling_cpu.cpp:295:13:\u001b[m\u001b[K \u001b[01;35m\u001b[Kwarning: \u001b[m\u001b[Kunused variable ‘\u001b[01m\u001b[Kbatch\u001b[m\u001b[K’ [\u001b[01;35m\u001b[K-Wunused-variable\u001b[m\u001b[K]\n",
            "   const int \u001b[01;35m\u001b[Kbatch\u001b[m\u001b[K = input.size(0);\n",
            "             \u001b[01;35m\u001b[K^~~~~\u001b[m\u001b[K\n",
            "In file included from \u001b[01m\u001b[K/usr/local/lib/python3.7/site-packages/torch/include/ATen/ATen.h:9:0\u001b[m\u001b[K,\n",
            "                 from \u001b[01m\u001b[K/content/DCNv2/src/cpu/dcn_v2_psroi_pooling_cpu.cpp:15\u001b[m\u001b[K:\n",
            "\u001b[01m\u001b[K/content/DCNv2/src/cpu/dcn_v2_psroi_pooling_cpu.cpp:\u001b[m\u001b[K In lambda function:\n",
            "\u001b[01m\u001b[K/usr/local/lib/python3.7/site-packages/torch/include/ATen/Dispatch.h:150:56:\u001b[m\u001b[K \u001b[01;35m\u001b[Kwarning: \u001b[m\u001b[K‘\u001b[01m\u001b[Kc10::ScalarType detail::scalar_type(const at::DeprecatedTypeProperties&)\u001b[m\u001b[K’ is deprecated [\u001b[01;35m\u001b[K-Wdeprecated-declarations\u001b[m\u001b[K]\n",
            "     at::ScalarType _st = ::detail::scalar_type(the_type\u001b[01;35m\u001b[K)\u001b[m\u001b[K;                    \\\n",
            "                                                        \u001b[01;35m\u001b[K^\u001b[m\u001b[K\n",
            "\u001b[01m\u001b[K/content/DCNv2/src/cpu/dcn_v2_psroi_pooling_cpu.cpp:398:3:\u001b[m\u001b[K \u001b[01;36m\u001b[Knote: \u001b[m\u001b[Kin expansion of macro ‘\u001b[01m\u001b[KAT_DISPATCH_FLOATING_TYPES\u001b[m\u001b[K’\n",
            "   \u001b[01;36m\u001b[KAT_DISPATCH_FLOATING_TYPES\u001b[m\u001b[K(out_grad.type(), \"dcn_v2_psroi_pooling_cpu_backward\", [&] {\n",
            "   \u001b[01;36m\u001b[K^~~~~~~~~~~~~~~~~~~~~~~~~~\u001b[m\u001b[K\n",
            "\u001b[01m\u001b[K/usr/local/lib/python3.7/site-packages/torch/include/ATen/Dispatch.h:78:23:\u001b[m\u001b[K \u001b[01;36m\u001b[Knote: \u001b[m\u001b[Kdeclared here\n",
            " inline at::ScalarType \u001b[01;36m\u001b[Kscalar_type\u001b[m\u001b[K(const at::DeprecatedTypeProperties &t) {\n",
            "                       \u001b[01;36m\u001b[K^~~~~~~~~~~\u001b[m\u001b[K\n",
            "g++ -Wsign-compare -DNDEBUG -g -fwrapv -O3 -Wall -Wstrict-prototypes -fPIC -DWITH_CUDA -I/content/DCNv2/src -I/usr/local/lib/python3.7/site-packages/torch/include -I/usr/local/lib/python3.7/site-packages/torch/include/torch/csrc/api/include -I/usr/local/lib/python3.7/site-packages/torch/include/TH -I/usr/local/lib/python3.7/site-packages/torch/include/THC -I/usr/local/cuda/include -I/usr/local/include/python3.7m -c /content/DCNv2/src/cpu/dcn_v2_cpu.cpp -o build/temp.linux-x86_64-3.7/content/DCNv2/src/cpu/dcn_v2_cpu.o -DTORCH_API_INCLUDE_EXTENSION_H -DTORCH_EXTENSION_NAME=_ext -D_GLIBCXX_USE_CXX11_ABI=0 -std=c++11\n",
            "\u001b[01m\u001b[Kcc1plus:\u001b[m\u001b[K \u001b[01;35m\u001b[Kwarning: \u001b[m\u001b[Kcommand line option ‘\u001b[01m\u001b[K-Wstrict-prototypes\u001b[m\u001b[K’ is valid for C/ObjC but not for C++\n",
            "g++ -Wsign-compare -DNDEBUG -g -fwrapv -O3 -Wall -Wstrict-prototypes -fPIC -DWITH_CUDA -I/content/DCNv2/src -I/usr/local/lib/python3.7/site-packages/torch/include -I/usr/local/lib/python3.7/site-packages/torch/include/torch/csrc/api/include -I/usr/local/lib/python3.7/site-packages/torch/include/TH -I/usr/local/lib/python3.7/site-packages/torch/include/THC -I/usr/local/cuda/include -I/usr/local/include/python3.7m -c /content/DCNv2/src/cpu/dcn_v2_im2col_cpu.cpp -o build/temp.linux-x86_64-3.7/content/DCNv2/src/cpu/dcn_v2_im2col_cpu.o -DTORCH_API_INCLUDE_EXTENSION_H -DTORCH_EXTENSION_NAME=_ext -D_GLIBCXX_USE_CXX11_ABI=0 -std=c++11\n",
            "\u001b[01m\u001b[Kcc1plus:\u001b[m\u001b[K \u001b[01;35m\u001b[Kwarning: \u001b[m\u001b[Kcommand line option ‘\u001b[01m\u001b[K-Wstrict-prototypes\u001b[m\u001b[K’ is valid for C/ObjC but not for C++\n",
            "/usr/local/cuda/bin/nvcc -DWITH_CUDA -I/content/DCNv2/src -I/usr/local/lib/python3.7/site-packages/torch/include -I/usr/local/lib/python3.7/site-packages/torch/include/torch/csrc/api/include -I/usr/local/lib/python3.7/site-packages/torch/include/TH -I/usr/local/lib/python3.7/site-packages/torch/include/THC -I/usr/local/cuda/include -I/usr/local/include/python3.7m -c /content/DCNv2/src/cuda/dcn_v2_im2col_cuda.cu -o build/temp.linux-x86_64-3.7/content/DCNv2/src/cuda/dcn_v2_im2col_cuda.o -D__CUDA_NO_HALF_OPERATORS__ -D__CUDA_NO_HALF_CONVERSIONS__ -D__CUDA_NO_HALF2_OPERATORS__ --expt-relaxed-constexpr --compiler-options '-fPIC' -DCUDA_HAS_FP16=1 -D__CUDA_NO_HALF_OPERATORS__ -D__CUDA_NO_HALF_CONVERSIONS__ -D__CUDA_NO_HALF2_OPERATORS__ -DTORCH_API_INCLUDE_EXTENSION_H -DTORCH_EXTENSION_NAME=_ext -D_GLIBCXX_USE_CXX11_ABI=0 -std=c++11\n",
            "/usr/local/cuda/bin/nvcc -DWITH_CUDA -I/content/DCNv2/src -I/usr/local/lib/python3.7/site-packages/torch/include -I/usr/local/lib/python3.7/site-packages/torch/include/torch/csrc/api/include -I/usr/local/lib/python3.7/site-packages/torch/include/TH -I/usr/local/lib/python3.7/site-packages/torch/include/THC -I/usr/local/cuda/include -I/usr/local/include/python3.7m -c /content/DCNv2/src/cuda/dcn_v2_cuda.cu -o build/temp.linux-x86_64-3.7/content/DCNv2/src/cuda/dcn_v2_cuda.o -D__CUDA_NO_HALF_OPERATORS__ -D__CUDA_NO_HALF_CONVERSIONS__ -D__CUDA_NO_HALF2_OPERATORS__ --expt-relaxed-constexpr --compiler-options '-fPIC' -DCUDA_HAS_FP16=1 -D__CUDA_NO_HALF_OPERATORS__ -D__CUDA_NO_HALF_CONVERSIONS__ -D__CUDA_NO_HALF2_OPERATORS__ -DTORCH_API_INCLUDE_EXTENSION_H -DTORCH_EXTENSION_NAME=_ext -D_GLIBCXX_USE_CXX11_ABI=0 -std=c++11\n",
            "/usr/local/cuda/bin/nvcc -DWITH_CUDA -I/content/DCNv2/src -I/usr/local/lib/python3.7/site-packages/torch/include -I/usr/local/lib/python3.7/site-packages/torch/include/torch/csrc/api/include -I/usr/local/lib/python3.7/site-packages/torch/include/TH -I/usr/local/lib/python3.7/site-packages/torch/include/THC -I/usr/local/cuda/include -I/usr/local/include/python3.7m -c /content/DCNv2/src/cuda/dcn_v2_psroi_pooling_cuda.cu -o build/temp.linux-x86_64-3.7/content/DCNv2/src/cuda/dcn_v2_psroi_pooling_cuda.o -D__CUDA_NO_HALF_OPERATORS__ -D__CUDA_NO_HALF_CONVERSIONS__ -D__CUDA_NO_HALF2_OPERATORS__ --expt-relaxed-constexpr --compiler-options '-fPIC' -DCUDA_HAS_FP16=1 -D__CUDA_NO_HALF_OPERATORS__ -D__CUDA_NO_HALF_CONVERSIONS__ -D__CUDA_NO_HALF2_OPERATORS__ -DTORCH_API_INCLUDE_EXTENSION_H -DTORCH_EXTENSION_NAME=_ext -D_GLIBCXX_USE_CXX11_ABI=0 -std=c++11\n",
            "\u001b[01m\u001b[K/content/DCNv2/src/cuda/dcn_v2_psroi_pooling_cuda.cu:\u001b[m\u001b[K In lambda function:\n",
            "\u001b[01m\u001b[K/content/DCNv2/src/cuda/dcn_v2_psroi_pooling_cuda.cu:317:98:\u001b[m\u001b[K \u001b[01;35m\u001b[Kwarning: \u001b[m\u001b[K‘\u001b[01m\u001b[Kc10::ScalarType detail::scalar_type(const at::DeprecatedTypeProperties&)\u001b[m\u001b[K’ is deprecated [\u001b[01;35m\u001b[K-Wdeprecated-declarations\u001b[m\u001b[K]\n",
            "   AT_DISPATCH_FLOATING_TYPES(input.type(), \"dcn_v2_psroi_pooling_cuda_forward\", [&] {\n",
            "                                                                                                  \u001b[01;35m\u001b[K^\u001b[m\u001b[K\n",
            "\u001b[01m\u001b[K/usr/local/lib/python3.7/site-packages/torch/include/ATen/Dispatch.h:78:1:\u001b[m\u001b[K \u001b[01;36m\u001b[Knote: \u001b[m\u001b[Kdeclared here\n",
            " \u001b[01;36m\u001b[Kinline at::\u001b[m\u001b[KScalarType scalar_type(const at::DeprecatedTypeProperties &t) {\n",
            " \u001b[01;36m\u001b[K^~~~~~~~~~~\u001b[m\u001b[K\n",
            "\u001b[01m\u001b[K/content/DCNv2/src/cuda/dcn_v2_psroi_pooling_cuda.cu:\u001b[m\u001b[K In lambda function:\n",
            "\u001b[01m\u001b[K/content/DCNv2/src/cuda/dcn_v2_psroi_pooling_cuda.cu:391:101:\u001b[m\u001b[K \u001b[01;35m\u001b[Kwarning: \u001b[m\u001b[K‘\u001b[01m\u001b[Kc10::ScalarType detail::scalar_type(const at::DeprecatedTypeProperties&)\u001b[m\u001b[K’ is deprecated [\u001b[01;35m\u001b[K-Wdeprecated-declarations\u001b[m\u001b[K]\n",
            "   AT_DISPATCH_FLOATING_TYPES(out_grad.type(), \"dcn_v2_psroi_pooling_cuda_backward\", [&] {\n",
            "                                                                                                     \u001b[01;35m\u001b[K^\u001b[m\u001b[K\n",
            "\u001b[01m\u001b[K/usr/local/lib/python3.7/site-packages/torch/include/ATen/Dispatch.h:78:1:\u001b[m\u001b[K \u001b[01;36m\u001b[Knote: \u001b[m\u001b[Kdeclared here\n",
            " \u001b[01;36m\u001b[Kinline at::\u001b[m\u001b[KScalarType scalar_type(const at::DeprecatedTypeProperties &t) {\n",
            " \u001b[01;36m\u001b[K^~~~~~~~~~~\u001b[m\u001b[K\n",
            "g++ -pthread -shared -B /usr/local/compiler_compat -L/usr/local/lib -Wl,-rpath=/usr/local/lib -Wl,--no-as-needed -Wl,--sysroot=/ build/temp.linux-x86_64-3.7/content/DCNv2/src/vision.o build/temp.linux-x86_64-3.7/content/DCNv2/src/cpu/dcn_v2_psroi_pooling_cpu.o build/temp.linux-x86_64-3.7/content/DCNv2/src/cpu/dcn_v2_cpu.o build/temp.linux-x86_64-3.7/content/DCNv2/src/cpu/dcn_v2_im2col_cpu.o build/temp.linux-x86_64-3.7/content/DCNv2/src/cuda/dcn_v2_im2col_cuda.o build/temp.linux-x86_64-3.7/content/DCNv2/src/cuda/dcn_v2_cuda.o build/temp.linux-x86_64-3.7/content/DCNv2/src/cuda/dcn_v2_psroi_pooling_cuda.o -L/usr/local/cuda/lib64 -lcudart -o build/lib.linux-x86_64-3.7/_ext.cpython-37m-x86_64-linux-gnu.so\n",
            "running develop\n",
            "running egg_info\n",
            "writing DCNv2.egg-info/PKG-INFO\n",
            "writing dependency_links to DCNv2.egg-info/dependency_links.txt\n",
            "writing top-level names to DCNv2.egg-info/top_level.txt\n",
            "reading manifest file 'DCNv2.egg-info/SOURCES.txt'\n",
            "writing manifest file 'DCNv2.egg-info/SOURCES.txt'\n",
            "running build_ext\n",
            "copying build/lib.linux-x86_64-3.7/_ext.cpython-37m-x86_64-linux-gnu.so -> \n",
            "Creating /usr/local/lib/python3.7/site-packages/DCNv2.egg-link (link to .)\n",
            "DCNv2 0.1 is already the active version in easy-install.pth\n",
            "\n",
            "Installed /content\n",
            "Processing dependencies for DCNv2==0.1\n",
            "Finished processing dependencies for DCNv2==0.1\n"
          ]
        }
      ]
    },
    {
      "cell_type": "markdown",
      "source": [
        "Run test CUDA.  \n",
        "\n",
        "For the *UserWarning: At least one of the inputs that requires gradient is not of double precision floating point. This check will likely fail if all the inputs are not of double precision floating point. 'At least one of the inputs that requires gradient '* error:\n",
        "\n",
        "* These are known issues on DCNv2 and are related to shortcomings related to grad-check, it is working fine for me (Even the Jacobian mismatch error is occuring).\n",
        "\n",
        "Source: https://github.com/Mukosame/Zooming-Slow-Mo-CVPR-2020/issues/11#issuecomment-611352001"
      ],
      "metadata": {
        "id": "kzbOemhWtE30"
      }
    },
    {
      "cell_type": "code",
      "source": [
        "! python /content/DCNv2/testcuda.py"
      ],
      "metadata": {
        "colab": {
          "base_uri": "https://localhost:8080/"
        },
        "id": "56HIKo3rm5gK",
        "outputId": "6f909e36-e95b-41c4-89ac-3341de95b503"
      },
      "execution_count": 9,
      "outputs": [
        {
          "output_type": "stream",
          "name": "stdout",
          "text": [
            "error in modulated_deformable_im2col_cuda: no kernel image is available for execution on the device\n",
            "error in modulated_deformable_col2im_coord_cuda: no kernel image is available for execution on the device\n",
            "error in modulated_deformable_col2im_cuda: no kernel image is available for execution on the device\n",
            "error in modulated_deformable_im2col_cuda: no kernel image is available for execution on the device\n",
            "Traceback (most recent call last):\n",
            "  File \"/content/DCNv2/testcuda.py\", line 255, in <module>\n",
            "    example_dconv()\n",
            "  File \"/content/DCNv2/testcuda.py\", line 179, in example_dconv\n",
            "    error.backward()\n",
            "  File \"/usr/local/lib/python3.7/site-packages/torch/tensor.py\", line 118, in backward\n",
            "    torch.autograd.backward(self, gradient, retain_graph, create_graph)\n",
            "  File \"/usr/local/lib/python3.7/site-packages/torch/autograd/__init__.py\", line 93, in backward\n",
            "    allow_unreachable=True)  # allow_unreachable flag\n",
            "  File \"/usr/local/lib/python3.7/site-packages/torch/autograd/function.py\", line 77, in apply\n",
            "    return self._forward_cls.backward(self, *args)\n",
            "  File \"/usr/local/lib/python3.7/site-packages/torch/autograd/function.py\", line 189, in wrapper\n",
            "    outputs = fn(ctx, *args)\n",
            "  File \"/content/DCNv2/dcn_v2.py\", line 48, in backward\n",
            "    ctx.deformable_groups)\n",
            "RuntimeError: CUDA error: CUBLAS_STATUS_INTERNAL_ERROR when calling `cublasSgemm( handle, opa, opb, m, n, k, &alpha, a, lda, b, ldb, &beta, c, ldc)` (gemm<float> at /opt/conda/conda-bld/pytorch_1565272271120/work/aten/src/ATen/cuda/CUDABlas.cpp:182)\n",
            "frame #0: c10::Error::Error(c10::SourceLocation, std::string const&) + 0x47 (0x7f4e0baa7e37 in /usr/local/lib/python3.7/site-packages/torch/lib/libc10.so)\n",
            "frame #1: <unknown function> + 0x3b45097 (0x7f4e16afb097 in /usr/local/lib/python3.7/site-packages/torch/lib/libtorch.so)\n",
            "frame #2: dcn_v2_cuda_backward(at::Tensor const&, at::Tensor const&, at::Tensor const&, at::Tensor const&, at::Tensor const&, at::Tensor const&, int, int, int, int, int, int, int, int, int) + 0x1194 (0x7f4df84a2f5b in /content/_ext.cpython-37m-x86_64-linux-gnu.so)\n",
            "frame #3: dcn_v2_backward(at::Tensor const&, at::Tensor const&, at::Tensor const&, at::Tensor const&, at::Tensor const&, at::Tensor const&, int, int, int, int, int, int, int, int, int) + 0x12c (0x7f4df847580c in /content/_ext.cpython-37m-x86_64-linux-gnu.so)\n",
            "frame #4: <unknown function> + 0x2a048 (0x7f4df8483048 in /content/_ext.cpython-37m-x86_64-linux-gnu.so)\n",
            "frame #5: <unknown function> + 0x2610c (0x7f4df847f10c in /content/_ext.cpython-37m-x86_64-linux-gnu.so)\n",
            "<omitting python frames>\n",
            "frame #18: torch::autograd::PyNode::apply(std::vector<torch::autograd::Variable, std::allocator<torch::autograd::Variable> >&&) + 0x178 (0x7f4e424bb788 in /usr/local/lib/python3.7/site-packages/torch/lib/libtorch_python.so)\n",
            "frame #19: <unknown function> + 0x3763205 (0x7f4e16719205 in /usr/local/lib/python3.7/site-packages/torch/lib/libtorch.so)\n",
            "frame #20: torch::autograd::Engine::evaluate_function(torch::autograd::NodeTask&) + 0x17a3 (0x7f4e16713f23 in /usr/local/lib/python3.7/site-packages/torch/lib/libtorch.so)\n",
            "frame #21: torch::autograd::Engine::thread_main(torch::autograd::GraphTask*) + 0x260 (0x7f4e16715680 in /usr/local/lib/python3.7/site-packages/torch/lib/libtorch.so)\n",
            "frame #22: torch::autograd::python::PythonEngine::thread_init(int) + 0x2a (0x7f4e424b2d2a in /usr/local/lib/python3.7/site-packages/torch/lib/libtorch_python.so)\n",
            "frame #23: <unknown function> + 0xc9067 (0x7f4e502df067 in /usr/local/bin/../lib/libstdc++.so.6)\n",
            "frame #24: <unknown function> + 0x76db (0x7f4e4fd0b6db in /lib/x86_64-linux-gnu/libpthread.so.0)\n",
            "frame #25: clone + 0x3f (0x7f4e4f08761f in /lib/x86_64-linux-gnu/libc.so.6)\n",
            "\n"
          ]
        }
      ]
    },
    {
      "cell_type": "markdown",
      "source": [
        "#### Install FairMOT requirements"
      ],
      "metadata": {
        "id": "V3XbLmimv5zL"
      }
    },
    {
      "cell_type": "code",
      "source": [
        "! pip install -r /content/FairMOT/requirements.txt\n",
        "! conda install pytorch==1.2.0 torchvision==0.4.0 cudatoolkit=10.0 -c pytorch -y\n",
        "! conda install ffmpeg -y"
      ],
      "metadata": {
        "colab": {
          "base_uri": "https://localhost:8080/"
        },
        "id": "ej_zNusJsZHl",
        "outputId": "f300c815-6474-453b-a916-6266dd4565b4"
      },
      "execution_count": 10,
      "outputs": [
        {
          "output_type": "stream",
          "name": "stdout",
          "text": [
            "Collecting yacs\n",
            "  Using cached yacs-0.1.8-py3-none-any.whl (14 kB)\n",
            "Requirement already satisfied: opencv-python in /usr/local/lib/python3.7/site-packages (from -r /content/FairMOT/requirements.txt (line 2)) (4.5.5.64)\n",
            "Collecting PyYAML\n",
            "  Using cached PyYAML-6.0-cp37-cp37m-manylinux_2_5_x86_64.manylinux1_x86_64.manylinux_2_12_x86_64.manylinux2010_x86_64.whl (596 kB)\n",
            "Collecting cython-bbox\n",
            "  Using cached cython_bbox-0.1.3.tar.gz (41 kB)\n",
            "\u001b[33mWARNING: Discarding https://files.pythonhosted.org/packages/fa/b9/fc7d60e8c3b29cc0ff24a3bb3c4b7457e10b7610fbb2893741b623487b34/cython_bbox-0.1.3.tar.gz#sha256=82e2d887534ecc10d3507489a05b11259f3baacd29eee37e6d8c97e1ffb16554 (from https://pypi.org/simple/cython-bbox/). Command errored out with exit status 1: python setup.py egg_info Check the logs for full command output.\u001b[0m\n",
            "  Using cached cython_bbox-0.1.2.tar.gz (40 kB)\n",
            "\u001b[33mWARNING: Discarding https://files.pythonhosted.org/packages/be/50/21618d0e79554dadd44383a1448ae667941950e391e2d9f7cf1986a0a512/cython_bbox-0.1.2.tar.gz#sha256=81740b3b5e88be8ab12165fc6e176094ac71ef8bc12a27588fe94d85b6128c1c (from https://pypi.org/simple/cython-bbox/). Command errored out with exit status 1: python setup.py egg_info Check the logs for full command output.\u001b[0m\n",
            "\u001b[31mERROR: Could not find a version that satisfies the requirement cython-bbox\u001b[0m\n",
            "\u001b[31mERROR: No matching distribution found for cython-bbox\u001b[0m\n",
            "Collecting package metadata (current_repodata.json): - \b\b\\ \b\b| \b\b/ \b\b- \b\b\\ \b\b| \b\b/ \b\b- \b\b\\ \b\b| \b\b/ \b\b- \b\b\\ \b\b| \b\b/ \b\b- \b\b\\ \b\b| \b\b/ \b\b- \b\b\\ \b\b| \b\b/ \b\b- \b\b\\ \b\b| \b\b/ \b\b- \b\b\\ \b\b| \b\b/ \b\b- \b\b\\ \b\b| \b\b/ \b\b- \b\b\\ \b\b| \b\b/ \b\b- \b\b\\ \b\b| \b\b/ \b\b- \b\b\\ \b\b| \b\bdone\n",
            "Solving environment: - \b\b\\ \b\b| \b\b/ \b\b- \b\b\\ \b\b| \b\b/ \b\b- \b\b\\ \b\b| \b\b/ \b\b- WARNING conda.core.solve:_add_specs(649): pinned spec cudatoolkit=11.1 conflicts with explicit specs.  Overriding pinned spec.\n",
            "\b\b\\ \b\b| \b\b/ \b\b- \b\b\\ \b\b| \b\b/ \b\b- \b\b\\ \b\b| \b\bdone\n",
            "\n",
            "# All requested packages already installed.\n",
            "\n",
            "Collecting package metadata (current_repodata.json): - \b\b\\ \b\b| \b\b/ \b\b- \b\b\\ \b\b| \b\b/ \b\b- \b\b\\ \b\b| \b\b/ \b\b- \b\b\\ \b\b| \b\b/ \b\b- \b\b\\ \b\b| \b\bdone\n",
            "Solving environment: - \b\b\\ \b\b| \b\b/ \b\b- \b\b\\ \b\b| \b\b/ \b\b- \b\b\\ \b\b| \b\b/ \b\b- \b\b\\ \b\b| \b\b/ \b\b- \b\bdone\n",
            "\n",
            "# All requested packages already installed.\n",
            "\n"
          ]
        }
      ]
    },
    {
      "cell_type": "markdown",
      "source": [
        "#### Install packages for the DLA-34 Model\n",
        "\n",
        "If these packages were missing, make sure to restart your runtime after installing."
      ],
      "metadata": {
        "id": "QlTFfAR4xH8x"
      }
    },
    {
      "cell_type": "code",
      "source": [
        "! pip install boto3\n",
        "! pip install opencv-python\n",
        "! pip install sagemaker"
      ],
      "metadata": {
        "colab": {
          "base_uri": "https://localhost:8080/"
        },
        "id": "Q-w4pYJNw9J2",
        "outputId": "8e8afd49-2e4c-48c5-87c0-a41e14fa0a74"
      },
      "execution_count": 11,
      "outputs": [
        {
          "output_type": "stream",
          "name": "stdout",
          "text": [
            "Requirement already satisfied: boto3 in /usr/local/lib/python3.7/site-packages (1.21.30)\n",
            "Requirement already satisfied: s3transfer<0.6.0,>=0.5.0 in /usr/local/lib/python3.7/site-packages (from boto3) (0.5.2)\n",
            "Requirement already satisfied: botocore<1.25.0,>=1.24.30 in /usr/local/lib/python3.7/site-packages (from boto3) (1.24.30)\n",
            "Requirement already satisfied: jmespath<2.0.0,>=0.7.1 in /usr/local/lib/python3.7/site-packages (from boto3) (1.0.0)\n",
            "Requirement already satisfied: urllib3<1.27,>=1.25.4 in /usr/local/lib/python3.7/site-packages (from botocore<1.25.0,>=1.24.30->boto3) (1.26.3)\n",
            "Requirement already satisfied: python-dateutil<3.0.0,>=2.1 in /usr/local/lib/python3.7/site-packages (from botocore<1.25.0,>=1.24.30->boto3) (2.8.2)\n",
            "Requirement already satisfied: six>=1.5 in /usr/local/lib/python3.7/site-packages (from python-dateutil<3.0.0,>=2.1->botocore<1.25.0,>=1.24.30->boto3) (1.15.0)\n",
            "Requirement already satisfied: opencv-python in /usr/local/lib/python3.7/site-packages (4.5.5.64)\n",
            "Requirement already satisfied: numpy>=1.14.5 in /usr/local/lib/python3.7/site-packages (from opencv-python) (1.21.5)\n",
            "Requirement already satisfied: sagemaker in /usr/local/lib/python3.7/site-packages (2.82.0)\n",
            "Requirement already satisfied: packaging>=20.0 in /usr/local/lib/python3.7/site-packages (from sagemaker) (21.3)\n",
            "Requirement already satisfied: pandas in /usr/local/lib/python3.7/site-packages (from sagemaker) (1.3.5)\n",
            "Requirement already satisfied: pathos in /usr/local/lib/python3.7/site-packages (from sagemaker) (0.2.8)\n",
            "Requirement already satisfied: protobuf>=3.1 in /usr/local/lib/python3.7/site-packages (from sagemaker) (3.19.4)\n",
            "Requirement already satisfied: smdebug-rulesconfig==1.0.1 in /usr/local/lib/python3.7/site-packages (from sagemaker) (1.0.1)\n",
            "Requirement already satisfied: attrs==20.3.0 in /usr/local/lib/python3.7/site-packages (from sagemaker) (20.3.0)\n",
            "Requirement already satisfied: importlib-metadata>=1.4.0 in /usr/local/lib/python3.7/site-packages (from sagemaker) (4.11.3)\n",
            "Requirement already satisfied: numpy>=1.9.0 in /usr/local/lib/python3.7/site-packages (from sagemaker) (1.21.5)\n",
            "Requirement already satisfied: boto3>=1.20.21 in /usr/local/lib/python3.7/site-packages (from sagemaker) (1.21.30)\n",
            "Requirement already satisfied: protobuf3-to-dict>=0.1.5 in /usr/local/lib/python3.7/site-packages (from sagemaker) (0.1.5)\n",
            "Requirement already satisfied: google-pasta in /usr/local/lib/python3.7/site-packages (from sagemaker) (0.2.0)\n",
            "Requirement already satisfied: botocore<1.25.0,>=1.24.30 in /usr/local/lib/python3.7/site-packages (from boto3>=1.20.21->sagemaker) (1.24.30)\n",
            "Requirement already satisfied: jmespath<2.0.0,>=0.7.1 in /usr/local/lib/python3.7/site-packages (from boto3>=1.20.21->sagemaker) (1.0.0)\n",
            "Requirement already satisfied: s3transfer<0.6.0,>=0.5.0 in /usr/local/lib/python3.7/site-packages (from boto3>=1.20.21->sagemaker) (0.5.2)\n",
            "Requirement already satisfied: python-dateutil<3.0.0,>=2.1 in /usr/local/lib/python3.7/site-packages (from botocore<1.25.0,>=1.24.30->boto3>=1.20.21->sagemaker) (2.8.2)\n",
            "Requirement already satisfied: urllib3<1.27,>=1.25.4 in /usr/local/lib/python3.7/site-packages (from botocore<1.25.0,>=1.24.30->boto3>=1.20.21->sagemaker) (1.26.3)\n",
            "Requirement already satisfied: typing-extensions>=3.6.4 in /usr/local/lib/python3.7/site-packages (from importlib-metadata>=1.4.0->sagemaker) (4.1.1)\n",
            "Requirement already satisfied: zipp>=0.5 in /usr/local/lib/python3.7/site-packages (from importlib-metadata>=1.4.0->sagemaker) (3.7.0)\n",
            "Requirement already satisfied: pyparsing!=3.0.5,>=2.0.2 in /usr/local/lib/python3.7/site-packages (from packaging>=20.0->sagemaker) (3.0.7)\n",
            "Requirement already satisfied: six in /usr/local/lib/python3.7/site-packages (from protobuf3-to-dict>=0.1.5->sagemaker) (1.15.0)\n",
            "Requirement already satisfied: pytz>=2017.3 in /usr/local/lib/python3.7/site-packages (from pandas->sagemaker) (2022.1)\n",
            "Requirement already satisfied: dill>=0.3.4 in /usr/local/lib/python3.7/site-packages (from pathos->sagemaker) (0.3.4)\n",
            "Requirement already satisfied: multiprocess>=0.70.12 in /usr/local/lib/python3.7/site-packages (from pathos->sagemaker) (0.70.12.2)\n",
            "Requirement already satisfied: ppft>=1.6.6.4 in /usr/local/lib/python3.7/site-packages (from pathos->sagemaker) (1.6.6.4)\n",
            "Requirement already satisfied: pox>=0.3.0 in /usr/local/lib/python3.7/site-packages (from pathos->sagemaker) (0.3.0)\n"
          ]
        }
      ]
    },
    {
      "cell_type": "markdown",
      "source": [
        "#### Download pre-trained model weights of the DLA-34 backbone model"
      ],
      "metadata": {
        "id": "r6vAXgTTw0OR"
      }
    },
    {
      "cell_type": "code",
      "source": [
        "import boto3\n",
        "import cv2\n",
        "from PIL import Image\n",
        "import sagemaker\n",
        "\n",
        "sess = sagemaker.Session()\n",
        "s3 = boto3.client('s3')\n",
        "\n",
        "# S3 bucket name and directories for the pre-trained DLA34 model\n",
        "bucket = 'pedestrian-tracker'  \n",
        "s3key_model = 'raw-pretrained-model'\n",
        "fname = 'fairmot_dla34.pth'\n",
        "s3.download_file(bucket, s3key + '/' + fname,  '/content/FairMOT/model/' + fname)\n"
      ],
      "metadata": {
        "colab": {
          "base_uri": "https://localhost:8080/",
          "height": 407
        },
        "id": "jDX8njFBwtym",
        "outputId": "3f39d26a-43b7-4ab3-e51c-6d86aaa5d572"
      },
      "execution_count": 13,
      "outputs": [
        {
          "output_type": "error",
          "ename": "ValueError",
          "evalue": "ignored",
          "traceback": [
            "\u001b[0;31m---------------------------------------------------------------------------\u001b[0m",
            "\u001b[0;31mValueError\u001b[0m                                Traceback (most recent call last)",
            "\u001b[0;32m<ipython-input-13-dcb69826c0dd>\u001b[0m in \u001b[0;36m<module>\u001b[0;34m()\u001b[0m\n\u001b[1;32m      4\u001b[0m \u001b[0;32mimport\u001b[0m \u001b[0msagemaker\u001b[0m\u001b[0;34m\u001b[0m\u001b[0;34m\u001b[0m\u001b[0m\n\u001b[1;32m      5\u001b[0m \u001b[0;34m\u001b[0m\u001b[0m\n\u001b[0;32m----> 6\u001b[0;31m \u001b[0msess\u001b[0m \u001b[0;34m=\u001b[0m \u001b[0msagemaker\u001b[0m\u001b[0;34m.\u001b[0m\u001b[0mSession\u001b[0m\u001b[0;34m(\u001b[0m\u001b[0;34m)\u001b[0m\u001b[0;34m\u001b[0m\u001b[0;34m\u001b[0m\u001b[0m\n\u001b[0m\u001b[1;32m      7\u001b[0m \u001b[0ms3\u001b[0m \u001b[0;34m=\u001b[0m \u001b[0mboto3\u001b[0m\u001b[0;34m.\u001b[0m\u001b[0mclient\u001b[0m\u001b[0;34m(\u001b[0m\u001b[0;34m's3'\u001b[0m\u001b[0;34m)\u001b[0m\u001b[0;34m\u001b[0m\u001b[0;34m\u001b[0m\u001b[0m\n\u001b[1;32m      8\u001b[0m \u001b[0;34m\u001b[0m\u001b[0m\n",
            "\u001b[0;32m/usr/local/lib/python3.7/site-packages/sagemaker/session.py\u001b[0m in \u001b[0;36m__init__\u001b[0;34m(self, boto_session, sagemaker_client, sagemaker_runtime_client, sagemaker_featurestore_runtime_client, default_bucket, settings)\u001b[0m\n\u001b[1;32m    128\u001b[0m             \u001b[0msagemaker_client\u001b[0m\u001b[0;34m=\u001b[0m\u001b[0msagemaker_client\u001b[0m\u001b[0;34m,\u001b[0m\u001b[0;34m\u001b[0m\u001b[0;34m\u001b[0m\u001b[0m\n\u001b[1;32m    129\u001b[0m             \u001b[0msagemaker_runtime_client\u001b[0m\u001b[0;34m=\u001b[0m\u001b[0msagemaker_runtime_client\u001b[0m\u001b[0;34m,\u001b[0m\u001b[0;34m\u001b[0m\u001b[0;34m\u001b[0m\u001b[0m\n\u001b[0;32m--> 130\u001b[0;31m             \u001b[0msagemaker_featurestore_runtime_client\u001b[0m\u001b[0;34m=\u001b[0m\u001b[0msagemaker_featurestore_runtime_client\u001b[0m\u001b[0;34m,\u001b[0m\u001b[0;34m\u001b[0m\u001b[0;34m\u001b[0m\u001b[0m\n\u001b[0m\u001b[1;32m    131\u001b[0m         )\n\u001b[1;32m    132\u001b[0m \u001b[0;34m\u001b[0m\u001b[0m\n",
            "\u001b[0;32m/usr/local/lib/python3.7/site-packages/sagemaker/session.py\u001b[0m in \u001b[0;36m_initialize\u001b[0;34m(self, boto_session, sagemaker_client, sagemaker_runtime_client, sagemaker_featurestore_runtime_client)\u001b[0m\n\u001b[1;32m    148\u001b[0m         \u001b[0;32mif\u001b[0m \u001b[0mself\u001b[0m\u001b[0;34m.\u001b[0m\u001b[0m_region_name\u001b[0m \u001b[0;32mis\u001b[0m \u001b[0;32mNone\u001b[0m\u001b[0;34m:\u001b[0m\u001b[0;34m\u001b[0m\u001b[0;34m\u001b[0m\u001b[0m\n\u001b[1;32m    149\u001b[0m             raise ValueError(\n\u001b[0;32m--> 150\u001b[0;31m                 \u001b[0;34m\"Must setup local AWS configuration with a region supported by SageMaker.\"\u001b[0m\u001b[0;34m\u001b[0m\u001b[0;34m\u001b[0m\u001b[0m\n\u001b[0m\u001b[1;32m    151\u001b[0m             )\n\u001b[1;32m    152\u001b[0m \u001b[0;34m\u001b[0m\u001b[0m\n",
            "\u001b[0;31mValueError\u001b[0m: Must setup local AWS configuration with a region supported by SageMaker."
          ]
        }
      ]
    },
    {
      "cell_type": "code",
      "source": [
        ""
      ],
      "metadata": {
        "id": "fBzzqZSCyYzu"
      },
      "execution_count": null,
      "outputs": []
    }
  ]
}