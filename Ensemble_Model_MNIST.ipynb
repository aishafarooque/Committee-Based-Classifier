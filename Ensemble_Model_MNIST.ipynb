{
  "nbformat": 4,
  "nbformat_minor": 0,
  "metadata": {
    "colab": {
      "name": "Ensemble_Model_MNIST.ipynb",
      "provenance": []
    },
    "kernelspec": {
      "name": "python3",
      "display_name": "Python 3"
    },
    "language_info": {
      "name": "python"
    }
  },
  "cells": [
    {
      "cell_type": "markdown",
      "source": [
        "# Ensemble Model\n",
        "\n",
        "Ensemble models is a machine learning approach to combine multiple other models in the prediction process. Ensemble modeling offers one of the most convincing way to build highly accurate predictive models. This file implements the stacking method. Stacking is designed to improve modeling performance.\n",
        "\n",
        "The references/citations are listed towards the end of the file.\n",
        "\n",
        "https://miro.medium.com/max/1400/1*22Ukd9hgt1rOV6k0RXwOBA.png\n"
      ],
      "metadata": {
        "id": "2D0YzWcqCcym"
      }
    },
    {
      "cell_type": "code",
      "source": [
        "from google.colab import output\n",
        "\n",
        "# Standard Libraries\n",
        "import os\n",
        "import numpy as np \n",
        "import pandas as pd \n",
        "import random as rn\n",
        "import matplotlib.pyplot as plt\n",
        "\n",
        "# NumPy Libraries\n",
        "from numpy import mean\n",
        "from numpy import std\n",
        "\n",
        "# SkLearn Libraries\n",
        "import sklearn\n",
        "from sklearn.datasets import fetch_openml\n",
        "from sklearn import datasets, metrics, svm\n",
        "from sklearn.tree import DecisionTreeClassifier\n",
        "from sklearn.metrics import ConfusionMatrixDisplay\n",
        "from sklearn.linear_model import LogisticRegression\n",
        "from sklearn.model_selection import train_test_split\n",
        "from sklearn.metrics import classification_report, confusion_matrix\n",
        "from sklearn.ensemble import StackingClassifier\n",
        "\n",
        "output.clear()      # clear output"
      ],
      "metadata": {
        "id": "wsUkGguQCyNU"
      },
      "execution_count": 1,
      "outputs": []
    },
    {
      "cell_type": "code",
      "source": [
        "# Gather data\n",
        "batch_size = 32\n",
        "\n",
        "mnist = fetch_openml('mnist_784')\n",
        "\n",
        "mnist.keys()"
      ],
      "metadata": {
        "id": "_QuWy3AHUQnG",
        "colab": {
          "base_uri": "https://localhost:8080/"
        },
        "outputId": "4588fef0-bbc2-4a44-dc28-b0b2e14a18cf"
      },
      "execution_count": 2,
      "outputs": [
        {
          "output_type": "execute_result",
          "data": {
            "text/plain": [
              "dict_keys(['data', 'target', 'frame', 'categories', 'feature_names', 'target_names', 'DESCR', 'details', 'url'])"
            ]
          },
          "metadata": {},
          "execution_count": 2
        }
      ]
    },
    {
      "cell_type": "code",
      "source": [
        "# get a list of models to evaluate\n",
        "def get_models():\n",
        "\tmodels = dict()\n",
        "\tmodels['lr'] = LogisticRegression()\n",
        "\tmodels['cart'] = DecisionTreeClassifier()\n",
        "\tmodels['svm'] = svm.SVC()\n",
        "\treturn models\n",
        "\n",
        "from sklearn.model_selection import cross_val_score\n",
        "from sklearn.model_selection import RepeatedStratifiedKFold\n",
        "\n",
        "# evaluate a given model using cross-validation\n",
        "# returns a list of scores from three repeats of stratified 10-fold cross-validation\n",
        "def evaluate_model(model, X, y):\n",
        "\tcv = RepeatedStratifiedKFold(n_splits=10, n_repeats=3, random_state=1)\n",
        "\tscores = cross_val_score(model, X, y, scoring='accuracy', cv=cv, n_jobs=-1, error_score='raise')\n",
        "\treturn scores\n"
      ],
      "metadata": {
        "id": "Ymfk_yUjLZoe"
      },
      "execution_count": 3,
      "outputs": []
    },
    {
      "cell_type": "code",
      "source": [
        "X, y = mnist['data'] , mnist['target']\n",
        "\n",
        "print(X.shape)\n",
        "print(y.shape)"
      ],
      "metadata": {
        "colab": {
          "base_uri": "https://localhost:8080/"
        },
        "id": "cYuEznA6hSTc",
        "outputId": "15b3aae4-c016-42f8-c7e9-9e3358fe0d20"
      },
      "execution_count": 4,
      "outputs": [
        {
          "output_type": "stream",
          "name": "stdout",
          "text": [
            "(70000, 784)\n",
            "(70000,)\n"
          ]
        }
      ]
    },
    {
      "cell_type": "code",
      "source": [
        "models = get_models()\n",
        "models"
      ],
      "metadata": {
        "colab": {
          "base_uri": "https://localhost:8080/"
        },
        "id": "79t_eUcqhWU9",
        "outputId": "c782f533-66e2-49d7-d386-660c7a229e9b"
      },
      "execution_count": 5,
      "outputs": [
        {
          "output_type": "execute_result",
          "data": {
            "text/plain": [
              "{'cart': DecisionTreeClassifier(), 'lr': LogisticRegression(), 'svm': SVC()}"
            ]
          },
          "metadata": {},
          "execution_count": 5
        }
      ]
    },
    {
      "cell_type": "code",
      "source": [
        "# evaluate the models and store results\n",
        "results, names = list(), list()\n",
        "\n",
        "for name, model in models.items():\n",
        "\tscores = evaluate_model(model, X, y)\n",
        "\tresults.append(scores)\n",
        "\tnames.append(name)\n",
        "  # report the mean performance of each algorithm\n",
        "\tprint('>%s %.3f (%.3f)' % (name, mean(scores), std(scores)))\n"
      ],
      "metadata": {
        "colab": {
          "base_uri": "https://localhost:8080/"
        },
        "id": "O5JFUfVVhXWv",
        "outputId": "1c1d1817-7948-4878-ceca-a55b46def5f9"
      },
      "execution_count": 6,
      "outputs": [
        {
          "metadata": {
            "tags": null
          },
          "name": "stdout",
          "output_type": "stream",
          "text": [
            ">lr 0.922 (0.003)\n",
            ">cart 0.876 (0.003)\n"
          ]
        },
        {
          "metadata": {
            "tags": null
          },
          "name": "stderr",
          "output_type": "stream",
          "text": [
            "/usr/local/lib/python3.7/dist-packages/joblib/externals/loky/process_executor.py:705: UserWarning: A worker stopped while some jobs were given to the executor. This can be caused by a too short worker timeout or by a memory leak.\n",
            "  \"timeout or by a memory leak.\", UserWarning\n"
          ]
        },
        {
          "output_type": "stream",
          "name": "stdout",
          "text": [
            ">svm 0.980 (0.001)\n"
          ]
        }
      ]
    },
    {
      "cell_type": "code",
      "source": [
        "from matplotlib import pyplot\n",
        "\n",
        "# plot model performance for comparison\n",
        "pyplot.boxplot(results, labels=names, showmeans=True)\n",
        "pyplot.show()"
      ],
      "metadata": {
        "colab": {
          "base_uri": "https://localhost:8080/",
          "height": 265
        },
        "id": "HdYL9m8Jhf7R",
        "outputId": "e0964d6e-a0f3-4938-a909-c9d4104b8c6a"
      },
      "execution_count": 7,
      "outputs": [
        {
          "output_type": "display_data",
          "data": {
            "image/png": "[encoded data removed]",
            "text/plain": [
              "<Figure size 432x288 with 1 Axes>"
            ]
          },
          "metadata": {
            "needs_background": "light"
          }
        }
      ]
    },
    {
      "cell_type": "markdown",
      "source": [
        "## References\n",
        "\n",
        "1. https://machinelearningmastery.com/stacking-ensemble-machine-learning-with-python/\n",
        "\n",
        "2. https://scikit-learn.org/stable/modules/generated/sklearn.ensemble.StackingClassifier.html\n",
        "\n",
        "3. https://www.datacamp.com/community/tutorials/ensemble-learning-python"
      ],
      "metadata": {
        "id": "NUwdP7cOmE7Y"
      }
    }
  ]
}